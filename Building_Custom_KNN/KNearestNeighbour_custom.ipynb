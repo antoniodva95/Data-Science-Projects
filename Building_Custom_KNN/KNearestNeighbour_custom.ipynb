{
 "cells": [
  {
   "cell_type": "markdown",
   "id": "882806d2",
   "metadata": {},
   "source": [
    "# Preliminary Phase"
   ]
  },
  {
   "cell_type": "markdown",
   "id": "833edd39",
   "metadata": {},
   "source": [
    "Let's prepare all libraries for the custom KNN algorithm and data visualization."
   ]
  },
  {
   "cell_type": "code",
   "execution_count": 1,
   "id": "4e4353cc",
   "metadata": {},
   "outputs": [],
   "source": [
    "import numpy as np\n",
    "import matplotlib.pyplot as plt\n",
    "import seaborn as sns \n",
    "import pandas as pd \n",
    "from sklearn.neighbors import KNeighborsClassifier #To run KNeighbor from sklearn and compare\n",
    "from sklearn.preprocessing import StandardScaler #to normalize data\n"
   ]
  },
  {
   "cell_type": "code",
   "execution_count": 3,
   "id": "f686fdca",
   "metadata": {},
   "outputs": [
    {
     "data": {
      "text/html": [
       "<div>\n",
       "<style scoped>\n",
       "    .dataframe tbody tr th:only-of-type {\n",
       "        vertical-align: middle;\n",
       "    }\n",
       "\n",
       "    .dataframe tbody tr th {\n",
       "        vertical-align: top;\n",
       "    }\n",
       "\n",
       "    .dataframe thead th {\n",
       "        text-align: right;\n",
       "    }\n",
       "</style>\n",
       "<table border=\"1\" class=\"dataframe\">\n",
       "  <thead>\n",
       "    <tr style=\"text-align: right;\">\n",
       "      <th></th>\n",
       "      <th>PassengerId</th>\n",
       "      <th>Survived</th>\n",
       "      <th>Pclass</th>\n",
       "      <th>Name</th>\n",
       "      <th>Sex</th>\n",
       "      <th>Age</th>\n",
       "      <th>SibSp</th>\n",
       "      <th>Parch</th>\n",
       "      <th>Ticket</th>\n",
       "      <th>Fare</th>\n",
       "      <th>Cabin</th>\n",
       "      <th>Embarked</th>\n",
       "    </tr>\n",
       "  </thead>\n",
       "  <tbody>\n",
       "    <tr>\n",
       "      <th>0</th>\n",
       "      <td>1</td>\n",
       "      <td>0</td>\n",
       "      <td>3</td>\n",
       "      <td>Braund, Mr. Owen Harris</td>\n",
       "      <td>male</td>\n",
       "      <td>22.0</td>\n",
       "      <td>1</td>\n",
       "      <td>0</td>\n",
       "      <td>A/5 21171</td>\n",
       "      <td>7.2500</td>\n",
       "      <td>NaN</td>\n",
       "      <td>S</td>\n",
       "    </tr>\n",
       "    <tr>\n",
       "      <th>1</th>\n",
       "      <td>2</td>\n",
       "      <td>1</td>\n",
       "      <td>1</td>\n",
       "      <td>Cumings, Mrs. John Bradley (Florence Briggs Th...</td>\n",
       "      <td>female</td>\n",
       "      <td>38.0</td>\n",
       "      <td>1</td>\n",
       "      <td>0</td>\n",
       "      <td>PC 17599</td>\n",
       "      <td>71.2833</td>\n",
       "      <td>C85</td>\n",
       "      <td>C</td>\n",
       "    </tr>\n",
       "    <tr>\n",
       "      <th>2</th>\n",
       "      <td>3</td>\n",
       "      <td>1</td>\n",
       "      <td>3</td>\n",
       "      <td>Heikkinen, Miss. Laina</td>\n",
       "      <td>female</td>\n",
       "      <td>26.0</td>\n",
       "      <td>0</td>\n",
       "      <td>0</td>\n",
       "      <td>STON/O2. 3101282</td>\n",
       "      <td>7.9250</td>\n",
       "      <td>NaN</td>\n",
       "      <td>S</td>\n",
       "    </tr>\n",
       "    <tr>\n",
       "      <th>3</th>\n",
       "      <td>4</td>\n",
       "      <td>1</td>\n",
       "      <td>1</td>\n",
       "      <td>Futrelle, Mrs. Jacques Heath (Lily May Peel)</td>\n",
       "      <td>female</td>\n",
       "      <td>35.0</td>\n",
       "      <td>1</td>\n",
       "      <td>0</td>\n",
       "      <td>113803</td>\n",
       "      <td>53.1000</td>\n",
       "      <td>C123</td>\n",
       "      <td>S</td>\n",
       "    </tr>\n",
       "    <tr>\n",
       "      <th>4</th>\n",
       "      <td>5</td>\n",
       "      <td>0</td>\n",
       "      <td>3</td>\n",
       "      <td>Allen, Mr. William Henry</td>\n",
       "      <td>male</td>\n",
       "      <td>35.0</td>\n",
       "      <td>0</td>\n",
       "      <td>0</td>\n",
       "      <td>373450</td>\n",
       "      <td>8.0500</td>\n",
       "      <td>NaN</td>\n",
       "      <td>S</td>\n",
       "    </tr>\n",
       "  </tbody>\n",
       "</table>\n",
       "</div>"
      ],
      "text/plain": [
       "   PassengerId  Survived  Pclass  \\\n",
       "0            1         0       3   \n",
       "1            2         1       1   \n",
       "2            3         1       3   \n",
       "3            4         1       1   \n",
       "4            5         0       3   \n",
       "\n",
       "                                                Name     Sex   Age  SibSp  \\\n",
       "0                            Braund, Mr. Owen Harris    male  22.0      1   \n",
       "1  Cumings, Mrs. John Bradley (Florence Briggs Th...  female  38.0      1   \n",
       "2                             Heikkinen, Miss. Laina  female  26.0      0   \n",
       "3       Futrelle, Mrs. Jacques Heath (Lily May Peel)  female  35.0      1   \n",
       "4                           Allen, Mr. William Henry    male  35.0      0   \n",
       "\n",
       "   Parch            Ticket     Fare Cabin Embarked  \n",
       "0      0         A/5 21171   7.2500   NaN        S  \n",
       "1      0          PC 17599  71.2833   C85        C  \n",
       "2      0  STON/O2. 3101282   7.9250   NaN        S  \n",
       "3      0            113803  53.1000  C123        S  \n",
       "4      0            373450   8.0500   NaN        S  "
      ]
     },
     "execution_count": 3,
     "metadata": {},
     "output_type": "execute_result"
    }
   ],
   "source": [
    "df = pd.read_csv(\"titanic.csv\") # use the right path to load the file\n",
    "df.head()"
   ]
  },
  {
   "cell_type": "code",
   "execution_count": 4,
   "id": "1fe0b6e4",
   "metadata": {},
   "outputs": [],
   "source": [
    "X_train = df[[\"Pclass\", \"SibSp\", \"Parch\",\"Fare\"]] #taking numerical variables\n",
    "Y_train = df[\"Survived\"] #Target"
   ]
  },
  {
   "cell_type": "markdown",
   "id": "c12f6ee5",
   "metadata": {},
   "source": [
    "# 1) Fast Data Visualization and Data analysis to understand variables weight "
   ]
  },
  {
   "cell_type": "code",
   "execution_count": 5,
   "id": "98d8f20a",
   "metadata": {},
   "outputs": [
    {
     "data": {
      "image/png": "[encoded data removed]",
      "text/plain": [
       "<Figure size 864x648 with 2 Axes>"
      ]
     },
     "metadata": {
      "needs_background": "light"
     },
     "output_type": "display_data"
    }
   ],
   "source": [
    "df_correlation_matrix = df.corr()\n",
    "fig,ax = plt.subplots(figsize = (12,9)) #image dimension\n",
    "sns.heatmap(df_correlation_matrix, annot=True, square = True)  \n",
    "plt.title(\"Correlation heatmap\",size=16) \n",
    "plt.show()"
   ]
  },
  {
   "cell_type": "markdown",
   "id": "693036dd",
   "metadata": {},
   "source": [
    "We can see how two of the variables (Parch and SibSp) chosen in X_train are poor correlated with our target variable, while Fare and Pclass are more correlated to it."
   ]
  },
  {
   "cell_type": "markdown",
   "id": "ae92ccf5",
   "metadata": {},
   "source": [
    "Let's see how these variable are correlated with the Pclass variable."
   ]
  },
  {
   "cell_type": "code",
   "execution_count": 6,
   "id": "3f943598",
   "metadata": {},
   "outputs": [
    {
     "data": {
      "text/html": [
       "<div>\n",
       "<style scoped>\n",
       "    .dataframe tbody tr th:only-of-type {\n",
       "        vertical-align: middle;\n",
       "    }\n",
       "\n",
       "    .dataframe tbody tr th {\n",
       "        vertical-align: top;\n",
       "    }\n",
       "\n",
       "    .dataframe thead th {\n",
       "        text-align: right;\n",
       "    }\n",
       "</style>\n",
       "<table border=\"1\" class=\"dataframe\">\n",
       "  <thead>\n",
       "    <tr style=\"text-align: right;\">\n",
       "      <th></th>\n",
       "      <th>Pclass</th>\n",
       "      <th>Survived</th>\n",
       "    </tr>\n",
       "  </thead>\n",
       "  <tbody>\n",
       "    <tr>\n",
       "      <th>0</th>\n",
       "      <td>1</td>\n",
       "      <td>0.629630</td>\n",
       "    </tr>\n",
       "    <tr>\n",
       "      <th>1</th>\n",
       "      <td>2</td>\n",
       "      <td>0.472826</td>\n",
       "    </tr>\n",
       "    <tr>\n",
       "      <th>2</th>\n",
       "      <td>3</td>\n",
       "      <td>0.242363</td>\n",
       "    </tr>\n",
       "  </tbody>\n",
       "</table>\n",
       "</div>"
      ],
      "text/plain": [
       "   Pclass  Survived\n",
       "0       1  0.629630\n",
       "1       2  0.472826\n",
       "2       3  0.242363"
      ]
     },
     "execution_count": 6,
     "metadata": {},
     "output_type": "execute_result"
    }
   ],
   "source": [
    "# Pclass\n",
    "df[['Pclass', 'Survived']].groupby('Pclass', as_index=False).mean()"
   ]
  },
  {
   "cell_type": "code",
   "execution_count": 7,
   "id": "b8ab9c45",
   "metadata": {},
   "outputs": [
    {
     "data": {
      "text/html": [
       "<div>\n",
       "<style scoped>\n",
       "    .dataframe tbody tr th:only-of-type {\n",
       "        vertical-align: middle;\n",
       "    }\n",
       "\n",
       "    .dataframe tbody tr th {\n",
       "        vertical-align: top;\n",
       "    }\n",
       "\n",
       "    .dataframe thead th {\n",
       "        text-align: right;\n",
       "    }\n",
       "</style>\n",
       "<table border=\"1\" class=\"dataframe\">\n",
       "  <thead>\n",
       "    <tr style=\"text-align: right;\">\n",
       "      <th></th>\n",
       "      <th>Sex</th>\n",
       "      <th>Survived</th>\n",
       "    </tr>\n",
       "  </thead>\n",
       "  <tbody>\n",
       "    <tr>\n",
       "      <th>0</th>\n",
       "      <td>female</td>\n",
       "      <td>0.742038</td>\n",
       "    </tr>\n",
       "    <tr>\n",
       "      <th>1</th>\n",
       "      <td>male</td>\n",
       "      <td>0.188908</td>\n",
       "    </tr>\n",
       "  </tbody>\n",
       "</table>\n",
       "</div>"
      ],
      "text/plain": [
       "      Sex  Survived\n",
       "0  female  0.742038\n",
       "1    male  0.188908"
      ]
     },
     "execution_count": 7,
     "metadata": {},
     "output_type": "execute_result"
    }
   ],
   "source": [
    "# Sex\n",
    "sex_survival = df[['Sex', 'Survived']].groupby('Sex', as_index=False).mean()\n",
    "sex_survival"
   ]
  },
  {
   "cell_type": "code",
   "execution_count": 9,
   "id": "c39c67e1",
   "metadata": {},
   "outputs": [
    {
     "data": {
      "text/html": [
       "<div>\n",
       "<style scoped>\n",
       "    .dataframe tbody tr th:only-of-type {\n",
       "        vertical-align: middle;\n",
       "    }\n",
       "\n",
       "    .dataframe tbody tr th {\n",
       "        vertical-align: top;\n",
       "    }\n",
       "\n",
       "    .dataframe thead th {\n",
       "        text-align: right;\n",
       "    }\n",
       "</style>\n",
       "<table border=\"1\" class=\"dataframe\">\n",
       "  <thead>\n",
       "    <tr style=\"text-align: right;\">\n",
       "      <th></th>\n",
       "      <th>Sex</th>\n",
       "      <th>Survived</th>\n",
       "    </tr>\n",
       "  </thead>\n",
       "  <tbody>\n",
       "    <tr>\n",
       "      <th>0</th>\n",
       "      <td>female</td>\n",
       "      <td>0.742038</td>\n",
       "    </tr>\n",
       "    <tr>\n",
       "      <th>1</th>\n",
       "      <td>male</td>\n",
       "      <td>0.188908</td>\n",
       "    </tr>\n",
       "  </tbody>\n",
       "</table>\n",
       "</div>"
      ],
      "text/plain": [
       "      Sex  Survived\n",
       "0  female  0.742038\n",
       "1    male  0.188908"
      ]
     },
     "execution_count": 9,
     "metadata": {},
     "output_type": "execute_result"
    }
   ],
   "source": [
    "df[[\"Sex\",\"Survived\"]].groupby(\"Sex\",as_index=False).mean()"
   ]
  },
  {
   "cell_type": "markdown",
   "id": "553eda14",
   "metadata": {},
   "source": [
    "Sex and Pclass play an important role into establishing who is going to survive and who not."
   ]
  },
  {
   "cell_type": "code",
   "execution_count": 10,
   "id": "a56762c0",
   "metadata": {},
   "outputs": [
    {
     "data": {
      "text/html": [
       "<div>\n",
       "<style scoped>\n",
       "    .dataframe tbody tr th:only-of-type {\n",
       "        vertical-align: middle;\n",
       "    }\n",
       "\n",
       "    .dataframe tbody tr th {\n",
       "        vertical-align: top;\n",
       "    }\n",
       "\n",
       "    .dataframe thead th {\n",
       "        text-align: right;\n",
       "    }\n",
       "</style>\n",
       "<table border=\"1\" class=\"dataframe\">\n",
       "  <thead>\n",
       "    <tr style=\"text-align: right;\">\n",
       "      <th></th>\n",
       "      <th>Embarked</th>\n",
       "      <th>Survived</th>\n",
       "    </tr>\n",
       "  </thead>\n",
       "  <tbody>\n",
       "    <tr>\n",
       "      <th>0</th>\n",
       "      <td>C</td>\n",
       "      <td>0.553571</td>\n",
       "    </tr>\n",
       "    <tr>\n",
       "      <th>1</th>\n",
       "      <td>Q</td>\n",
       "      <td>0.389610</td>\n",
       "    </tr>\n",
       "    <tr>\n",
       "      <th>2</th>\n",
       "      <td>S</td>\n",
       "      <td>0.336957</td>\n",
       "    </tr>\n",
       "  </tbody>\n",
       "</table>\n",
       "</div>"
      ],
      "text/plain": [
       "  Embarked  Survived\n",
       "0        C  0.553571\n",
       "1        Q  0.389610\n",
       "2        S  0.336957"
      ]
     },
     "execution_count": 10,
     "metadata": {},
     "output_type": "execute_result"
    }
   ],
   "source": [
    "# Embarked\n",
    "embarked_survival = df[['Embarked', 'Survived']].groupby('Embarked', as_index=False).mean()\n",
    "embarked_survival"
   ]
  },
  {
   "cell_type": "markdown",
   "id": "33430505",
   "metadata": {},
   "source": [
    "People from Cherbourg are more likely to survive."
   ]
  },
  {
   "cell_type": "code",
   "execution_count": 11,
   "id": "85c9af59",
   "metadata": {},
   "outputs": [
    {
     "data": {
      "text/html": [
       "<div>\n",
       "<style scoped>\n",
       "    .dataframe tbody tr th:only-of-type {\n",
       "        vertical-align: middle;\n",
       "    }\n",
       "\n",
       "    .dataframe tbody tr th {\n",
       "        vertical-align: top;\n",
       "    }\n",
       "\n",
       "    .dataframe thead th {\n",
       "        text-align: right;\n",
       "    }\n",
       "</style>\n",
       "<table border=\"1\" class=\"dataframe\">\n",
       "  <thead>\n",
       "    <tr style=\"text-align: right;\">\n",
       "      <th></th>\n",
       "      <th>Survival rate</th>\n",
       "      <th>Total</th>\n",
       "      <th>Survived</th>\n",
       "      <th>Died</th>\n",
       "    </tr>\n",
       "    <tr>\n",
       "      <th>AgeGroup</th>\n",
       "      <th></th>\n",
       "      <th></th>\n",
       "      <th></th>\n",
       "      <th></th>\n",
       "    </tr>\n",
       "  </thead>\n",
       "  <tbody>\n",
       "    <tr>\n",
       "      <th>1-10</th>\n",
       "      <td>0.593750</td>\n",
       "      <td>64</td>\n",
       "      <td>38</td>\n",
       "      <td>26</td>\n",
       "    </tr>\n",
       "    <tr>\n",
       "      <th>11-20</th>\n",
       "      <td>0.382609</td>\n",
       "      <td>115</td>\n",
       "      <td>44</td>\n",
       "      <td>71</td>\n",
       "    </tr>\n",
       "    <tr>\n",
       "      <th>21-30</th>\n",
       "      <td>0.365217</td>\n",
       "      <td>230</td>\n",
       "      <td>84</td>\n",
       "      <td>146</td>\n",
       "    </tr>\n",
       "    <tr>\n",
       "      <th>31-40</th>\n",
       "      <td>0.445161</td>\n",
       "      <td>155</td>\n",
       "      <td>69</td>\n",
       "      <td>86</td>\n",
       "    </tr>\n",
       "    <tr>\n",
       "      <th>41-50</th>\n",
       "      <td>0.383721</td>\n",
       "      <td>86</td>\n",
       "      <td>33</td>\n",
       "      <td>53</td>\n",
       "    </tr>\n",
       "    <tr>\n",
       "      <th>51-60</th>\n",
       "      <td>0.404762</td>\n",
       "      <td>42</td>\n",
       "      <td>17</td>\n",
       "      <td>25</td>\n",
       "    </tr>\n",
       "    <tr>\n",
       "      <th>61-70</th>\n",
       "      <td>0.235294</td>\n",
       "      <td>17</td>\n",
       "      <td>4</td>\n",
       "      <td>13</td>\n",
       "    </tr>\n",
       "    <tr>\n",
       "      <th>71-80</th>\n",
       "      <td>0.200000</td>\n",
       "      <td>5</td>\n",
       "      <td>1</td>\n",
       "      <td>4</td>\n",
       "    </tr>\n",
       "  </tbody>\n",
       "</table>\n",
       "</div>"
      ],
      "text/plain": [
       "          Survival rate  Total  Survived  Died\n",
       "AgeGroup                                      \n",
       "1-10           0.593750     64        38    26\n",
       "11-20          0.382609    115        44    71\n",
       "21-30          0.365217    230        84   146\n",
       "31-40          0.445161    155        69    86\n",
       "41-50          0.383721     86        33    53\n",
       "51-60          0.404762     42        17    25\n",
       "61-70          0.235294     17         4    13\n",
       "71-80          0.200000      5         1     4"
      ]
     },
     "execution_count": 11,
     "metadata": {},
     "output_type": "execute_result"
    }
   ],
   "source": [
    "# let's create a new column AgeGroup \n",
    "df['AgeGroup'] = 0\n",
    "\n",
    "# Different age_groups\n",
    "age_groups = ['1-10', '11-20', '21-30', '31-40', '41-50', '51-60', '61-70', '71-80'] # age groups\n",
    "\n",
    "# let's divide passengers by age groups (ten groups) \n",
    "df['AgeGroup'] = pd.cut(df['Age'], range(0, 90, 10), labels=age_groups) \n",
    "\n",
    "def age_group_summary(df, age_groups):\n",
    "    \"\"\"Creates a summary for different age groups.\"\"\"\n",
    "    # calculating survival rate and number of survivors for different age groups\n",
    "    age_survival = df[['AgeGroup', 'Survived']].groupby('AgeGroup').agg(['mean', 'count', 'sum'])\n",
    "    \n",
    "    # reindex \n",
    "    age_survival = age_survival.reindex(age_groups)\n",
    "    \n",
    "    \n",
    "    age_survival.columns = age_survival.columns.droplevel() # remove multilevel index\n",
    "    age_survival.columns = ['Survival rate', 'Total', 'Survived']\n",
    "    \n",
    "    # Creates a new column which considers dead people\n",
    "    age_survival['Died'] = age_survival['Total'] - age_survival['Survived']\n",
    "    \n",
    "    return age_survival\n",
    "    \n",
    "# survival rate for different age groups\n",
    "age_survival = age_group_summary(df, age_groups)\n",
    "\n",
    "age_survival"
   ]
  },
  {
   "cell_type": "code",
   "execution_count": 17,
   "id": "6c5aee63",
   "metadata": {},
   "outputs": [
    {
     "data": {
      "image/png": "[encoded data removed]",
      "text/plain": [
       "<Figure size 432x288 with 1 Axes>"
      ]
     },
     "metadata": {
      "needs_background": "light"
     },
     "output_type": "display_data"
    }
   ],
   "source": [
    "# indexing bars\n",
    "ind = np.arange(len(age_survival))\n",
    "\n",
    "# bar width \n",
    "width = 0.4\n",
    "\n",
    "\n",
    "fig, ax = plt.subplots()\n",
    "\n",
    "survived = age_survival['Survived'].values\n",
    "bar1 = ax.bar(ind, survived, width=width, color='blue', label='Survived')\n",
    "\n",
    "died = age_survival['Died'].values\n",
    "bar2 = ax.bar(ind + width, died, width=width, color='red', \n",
    "              label='Deads')\n",
    "\n",
    "# formatting\n",
    "ax.set(xlabel='Age',xticks=(ind + 0.2), xticklabels=age_groups, ylabel='Passeggers Number', \n",
    "       title='Survived by age group')\n",
    "plt.legend()\n",
    "\n",
    "plt.show()"
   ]
  },
  {
   "cell_type": "markdown",
   "id": "6b50006e",
   "metadata": {},
   "source": [
    "Males are more likely to die."
   ]
  },
  {
   "cell_type": "code",
   "execution_count": 13,
   "id": "640b04cf",
   "metadata": {},
   "outputs": [],
   "source": [
    "#Remapping \n",
    "df.loc[df[\"Sex\"] == \"female\", \"Sex\"] = 0 \n",
    "df.loc[df['Sex'] == \"male\", 'Sex'] = 1"
   ]
  },
  {
   "cell_type": "code",
   "execution_count": 14,
   "id": "7f9a2c8b",
   "metadata": {},
   "outputs": [
    {
     "data": {
      "text/html": [
       "<div>\n",
       "<style scoped>\n",
       "    .dataframe tbody tr th:only-of-type {\n",
       "        vertical-align: middle;\n",
       "    }\n",
       "\n",
       "    .dataframe tbody tr th {\n",
       "        vertical-align: top;\n",
       "    }\n",
       "\n",
       "    .dataframe thead th {\n",
       "        text-align: right;\n",
       "    }\n",
       "</style>\n",
       "<table border=\"1\" class=\"dataframe\">\n",
       "  <thead>\n",
       "    <tr style=\"text-align: right;\">\n",
       "      <th></th>\n",
       "      <th>PassengerId</th>\n",
       "      <th>Survived</th>\n",
       "      <th>Pclass</th>\n",
       "      <th>Name</th>\n",
       "      <th>Sex</th>\n",
       "      <th>Age</th>\n",
       "      <th>SibSp</th>\n",
       "      <th>Parch</th>\n",
       "      <th>Ticket</th>\n",
       "      <th>Fare</th>\n",
       "      <th>Cabin</th>\n",
       "      <th>Embarked</th>\n",
       "      <th>AgeGroup</th>\n",
       "    </tr>\n",
       "  </thead>\n",
       "  <tbody>\n",
       "    <tr>\n",
       "      <th>0</th>\n",
       "      <td>1</td>\n",
       "      <td>0</td>\n",
       "      <td>3</td>\n",
       "      <td>Braund, Mr. Owen Harris</td>\n",
       "      <td>1</td>\n",
       "      <td>22.0</td>\n",
       "      <td>1</td>\n",
       "      <td>0</td>\n",
       "      <td>A/5 21171</td>\n",
       "      <td>7.2500</td>\n",
       "      <td>NaN</td>\n",
       "      <td>S</td>\n",
       "      <td>21-30</td>\n",
       "    </tr>\n",
       "    <tr>\n",
       "      <th>1</th>\n",
       "      <td>2</td>\n",
       "      <td>1</td>\n",
       "      <td>1</td>\n",
       "      <td>Cumings, Mrs. John Bradley (Florence Briggs Th...</td>\n",
       "      <td>0</td>\n",
       "      <td>38.0</td>\n",
       "      <td>1</td>\n",
       "      <td>0</td>\n",
       "      <td>PC 17599</td>\n",
       "      <td>71.2833</td>\n",
       "      <td>C85</td>\n",
       "      <td>C</td>\n",
       "      <td>31-40</td>\n",
       "    </tr>\n",
       "    <tr>\n",
       "      <th>2</th>\n",
       "      <td>3</td>\n",
       "      <td>1</td>\n",
       "      <td>3</td>\n",
       "      <td>Heikkinen, Miss. Laina</td>\n",
       "      <td>0</td>\n",
       "      <td>26.0</td>\n",
       "      <td>0</td>\n",
       "      <td>0</td>\n",
       "      <td>STON/O2. 3101282</td>\n",
       "      <td>7.9250</td>\n",
       "      <td>NaN</td>\n",
       "      <td>S</td>\n",
       "      <td>21-30</td>\n",
       "    </tr>\n",
       "    <tr>\n",
       "      <th>3</th>\n",
       "      <td>4</td>\n",
       "      <td>1</td>\n",
       "      <td>1</td>\n",
       "      <td>Futrelle, Mrs. Jacques Heath (Lily May Peel)</td>\n",
       "      <td>0</td>\n",
       "      <td>35.0</td>\n",
       "      <td>1</td>\n",
       "      <td>0</td>\n",
       "      <td>113803</td>\n",
       "      <td>53.1000</td>\n",
       "      <td>C123</td>\n",
       "      <td>S</td>\n",
       "      <td>31-40</td>\n",
       "    </tr>\n",
       "    <tr>\n",
       "      <th>4</th>\n",
       "      <td>5</td>\n",
       "      <td>0</td>\n",
       "      <td>3</td>\n",
       "      <td>Allen, Mr. William Henry</td>\n",
       "      <td>1</td>\n",
       "      <td>35.0</td>\n",
       "      <td>0</td>\n",
       "      <td>0</td>\n",
       "      <td>373450</td>\n",
       "      <td>8.0500</td>\n",
       "      <td>NaN</td>\n",
       "      <td>S</td>\n",
       "      <td>31-40</td>\n",
       "    </tr>\n",
       "    <tr>\n",
       "      <th>...</th>\n",
       "      <td>...</td>\n",
       "      <td>...</td>\n",
       "      <td>...</td>\n",
       "      <td>...</td>\n",
       "      <td>...</td>\n",
       "      <td>...</td>\n",
       "      <td>...</td>\n",
       "      <td>...</td>\n",
       "      <td>...</td>\n",
       "      <td>...</td>\n",
       "      <td>...</td>\n",
       "      <td>...</td>\n",
       "      <td>...</td>\n",
       "    </tr>\n",
       "    <tr>\n",
       "      <th>886</th>\n",
       "      <td>887</td>\n",
       "      <td>0</td>\n",
       "      <td>2</td>\n",
       "      <td>Montvila, Rev. Juozas</td>\n",
       "      <td>1</td>\n",
       "      <td>27.0</td>\n",
       "      <td>0</td>\n",
       "      <td>0</td>\n",
       "      <td>211536</td>\n",
       "      <td>13.0000</td>\n",
       "      <td>NaN</td>\n",
       "      <td>S</td>\n",
       "      <td>21-30</td>\n",
       "    </tr>\n",
       "    <tr>\n",
       "      <th>887</th>\n",
       "      <td>888</td>\n",
       "      <td>1</td>\n",
       "      <td>1</td>\n",
       "      <td>Graham, Miss. Margaret Edith</td>\n",
       "      <td>0</td>\n",
       "      <td>19.0</td>\n",
       "      <td>0</td>\n",
       "      <td>0</td>\n",
       "      <td>112053</td>\n",
       "      <td>30.0000</td>\n",
       "      <td>B42</td>\n",
       "      <td>S</td>\n",
       "      <td>11-20</td>\n",
       "    </tr>\n",
       "    <tr>\n",
       "      <th>888</th>\n",
       "      <td>889</td>\n",
       "      <td>0</td>\n",
       "      <td>3</td>\n",
       "      <td>Johnston, Miss. Catherine Helen \"Carrie\"</td>\n",
       "      <td>0</td>\n",
       "      <td>NaN</td>\n",
       "      <td>1</td>\n",
       "      <td>2</td>\n",
       "      <td>W./C. 6607</td>\n",
       "      <td>23.4500</td>\n",
       "      <td>NaN</td>\n",
       "      <td>S</td>\n",
       "      <td>NaN</td>\n",
       "    </tr>\n",
       "    <tr>\n",
       "      <th>889</th>\n",
       "      <td>890</td>\n",
       "      <td>1</td>\n",
       "      <td>1</td>\n",
       "      <td>Behr, Mr. Karl Howell</td>\n",
       "      <td>1</td>\n",
       "      <td>26.0</td>\n",
       "      <td>0</td>\n",
       "      <td>0</td>\n",
       "      <td>111369</td>\n",
       "      <td>30.0000</td>\n",
       "      <td>C148</td>\n",
       "      <td>C</td>\n",
       "      <td>21-30</td>\n",
       "    </tr>\n",
       "    <tr>\n",
       "      <th>890</th>\n",
       "      <td>891</td>\n",
       "      <td>0</td>\n",
       "      <td>3</td>\n",
       "      <td>Dooley, Mr. Patrick</td>\n",
       "      <td>1</td>\n",
       "      <td>32.0</td>\n",
       "      <td>0</td>\n",
       "      <td>0</td>\n",
       "      <td>370376</td>\n",
       "      <td>7.7500</td>\n",
       "      <td>NaN</td>\n",
       "      <td>Q</td>\n",
       "      <td>31-40</td>\n",
       "    </tr>\n",
       "  </tbody>\n",
       "</table>\n",
       "<p>891 rows × 13 columns</p>\n",
       "</div>"
      ],
      "text/plain": [
       "     PassengerId  Survived  Pclass  \\\n",
       "0              1         0       3   \n",
       "1              2         1       1   \n",
       "2              3         1       3   \n",
       "3              4         1       1   \n",
       "4              5         0       3   \n",
       "..           ...       ...     ...   \n",
       "886          887         0       2   \n",
       "887          888         1       1   \n",
       "888          889         0       3   \n",
       "889          890         1       1   \n",
       "890          891         0       3   \n",
       "\n",
       "                                                  Name Sex   Age  SibSp  \\\n",
       "0                              Braund, Mr. Owen Harris   1  22.0      1   \n",
       "1    Cumings, Mrs. John Bradley (Florence Briggs Th...   0  38.0      1   \n",
       "2                               Heikkinen, Miss. Laina   0  26.0      0   \n",
       "3         Futrelle, Mrs. Jacques Heath (Lily May Peel)   0  35.0      1   \n",
       "4                             Allen, Mr. William Henry   1  35.0      0   \n",
       "..                                                 ...  ..   ...    ...   \n",
       "886                              Montvila, Rev. Juozas   1  27.0      0   \n",
       "887                       Graham, Miss. Margaret Edith   0  19.0      0   \n",
       "888           Johnston, Miss. Catherine Helen \"Carrie\"   0   NaN      1   \n",
       "889                              Behr, Mr. Karl Howell   1  26.0      0   \n",
       "890                                Dooley, Mr. Patrick   1  32.0      0   \n",
       "\n",
       "     Parch            Ticket     Fare Cabin Embarked AgeGroup  \n",
       "0        0         A/5 21171   7.2500   NaN        S    21-30  \n",
       "1        0          PC 17599  71.2833   C85        C    31-40  \n",
       "2        0  STON/O2. 3101282   7.9250   NaN        S    21-30  \n",
       "3        0            113803  53.1000  C123        S    31-40  \n",
       "4        0            373450   8.0500   NaN        S    31-40  \n",
       "..     ...               ...      ...   ...      ...      ...  \n",
       "886      0            211536  13.0000   NaN        S    21-30  \n",
       "887      0            112053  30.0000   B42        S    11-20  \n",
       "888      2        W./C. 6607  23.4500   NaN        S      NaN  \n",
       "889      0            111369  30.0000  C148        C    21-30  \n",
       "890      0            370376   7.7500   NaN        Q    31-40  \n",
       "\n",
       "[891 rows x 13 columns]"
      ]
     },
     "execution_count": 14,
     "metadata": {},
     "output_type": "execute_result"
    }
   ],
   "source": [
    "df"
   ]
  },
  {
   "cell_type": "code",
   "execution_count": 16,
   "id": "04203b8b",
   "metadata": {},
   "outputs": [
    {
     "data": {
      "image/png": "[encoded data removed]",
      "text/plain": [
       "<Figure size 864x648 with 2 Axes>"
      ]
     },
     "metadata": {
      "needs_background": "light"
     },
     "output_type": "display_data"
    }
   ],
   "source": [
    "# Let's create two dataframe for each gender\n",
    "men_df = df.loc[df['Sex'] == 1]\n",
    "women_df = df.loc[df['Sex'] == 0]\n",
    "\n",
    "# survival rate by gender \n",
    "male_age_survival = age_group_summary(men_df, age_groups)\n",
    "female_age_survival = age_group_summary(women_df, age_groups)\n",
    "\n",
    "# bar histogram position\n",
    "ind = np.arange(len(male_age_survival))\n",
    "\n",
    "# bar width\n",
    "width = 0.4\n",
    "\n",
    "fig, (ax1, ax2) = plt.subplots(2, 1,figsize=(12,9))\n",
    "\n",
    "\n",
    "# males bar plot \n",
    "survived = male_age_survival['Survived'].values\n",
    "bar11 = ax1.bar(ind, survived, width=width, color='blue', label='Survived')\n",
    "\n",
    "died = male_age_survival['Died'].values\n",
    "bar12 = ax1.bar(ind + width, died, width=width, color='red', \n",
    "              label='Deads')\n",
    "\n",
    "# formatting\n",
    "ax1.set(xticks=(ind + 0.2), xticklabels=age_groups, ylabel='Male passengers number', \n",
    "       title='Male survived by age group')\n",
    "ax1.legend()\n",
    "\n",
    "# females bar plot \n",
    "survived = female_age_survival['Survived'].values\n",
    "bar21 = ax2.bar(ind, survived, width=width, color='blue', label='Survived')\n",
    "\n",
    "died = female_age_survival['Died'].values\n",
    "bar22 = ax2.bar(ind + width, died, width=width, color='red', \n",
    "              label='Deads')\n",
    "\n",
    "# format female bar plot\n",
    "ax2.set(xlabel='Age', xticks=(ind + 0.2), xticklabels=age_groups, ylabel='Female passengers number', \n",
    "       title='Female survived by age group')\n",
    "ax2.legend()\n",
    "\n",
    "\n",
    "plt.show()"
   ]
  },
  {
   "cell_type": "markdown",
   "id": "bb85f228",
   "metadata": {},
   "source": [
    "Survival is more likely in women between 21-30 and 31-40. Women pregnant and with children are privileged. "
   ]
  },
  {
   "cell_type": "markdown",
   "id": "b454a8cb",
   "metadata": {},
   "source": [
    "Given the importance of age predictor, sex and Embarking, we add them to X_train."
   ]
  },
  {
   "cell_type": "code",
   "execution_count": 18,
   "id": "8cef98a7",
   "metadata": {},
   "outputs": [],
   "source": [
    "#remapping Embarked\n",
    "df.loc[df['Embarked'] == \"C\", 'Embarked'] = 0\n",
    "df.loc[df['Embarked'] == \"Q\", 'Embarked'] = 1\n",
    "df.loc[df['Embarked'] == \"S\", 'Embarked'] = 2"
   ]
  },
  {
   "cell_type": "code",
   "execution_count": 19,
   "id": "bae8b4bd",
   "metadata": {},
   "outputs": [],
   "source": [
    "#Legend: Sex [0 = Female, 1=Male], Embarked [0 = \"C\", 1 = \"Q\", 2= \"S\"]\n"
   ]
  },
  {
   "cell_type": "markdown",
   "id": "7be5534c",
   "metadata": {},
   "source": [
    "# 2) Custom machine learning algorithm (KNearestNeighbors) and accuracy comparison"
   ]
  },
  {
   "cell_type": "markdown",
   "id": "f0e20c09",
   "metadata": {},
   "source": [
    "Let's prepare dataset  "
   ]
  },
  {
   "cell_type": "code",
   "execution_count": 20,
   "id": "b860e88a",
   "metadata": {},
   "outputs": [
    {
     "data": {
      "text/plain": [
       "177"
      ]
     },
     "execution_count": 20,
     "metadata": {},
     "output_type": "execute_result"
    }
   ],
   "source": [
    "df[\"Age\"].isnull().sum()"
   ]
  },
  {
   "cell_type": "code",
   "execution_count": 21,
   "id": "f43a5010",
   "metadata": {},
   "outputs": [],
   "source": [
    "#remapping Embarked\n",
    "df.loc[df['Embarked'] == \"C\", 'Embarked'] = 0\n",
    "df.loc[df['Embarked'] == \"Q\", 'Embarked'] = 1\n",
    "df.loc[df['Embarked'] == \"S\", 'Embarked'] = 2\n",
    "#Remapping \n",
    "df.loc[df[\"Sex\"] == \"female\", \"Sex\"] = 0 \n",
    "df.loc[df['Sex'] == \"male\", 'Sex'] = 1"
   ]
  },
  {
   "cell_type": "code",
   "execution_count": 22,
   "id": "b85afc55",
   "metadata": {},
   "outputs": [],
   "source": [
    "# For our specific purpose, let's remove NAN values\n",
    "df_reduced = df.dropna(subset=[\"Age\"],inplace=False)\n",
    "df_reduced = df_reduced.dropna(subset=[\"Embarked\"],inplace=False)"
   ]
  },
  {
   "cell_type": "code",
   "execution_count": 23,
   "id": "ad5d5c44",
   "metadata": {},
   "outputs": [],
   "source": [
    "X_train = df_reduced[[\"Pclass\",\"Sex\",\"Age\",\"Fare\"]]\n",
    "Y_train = df_reduced[\"Survived\"]"
   ]
  },
  {
   "cell_type": "code",
   "execution_count": 24,
   "id": "9dcec286",
   "metadata": {},
   "outputs": [],
   "source": [
    "scalar = StandardScaler()\n",
    "scaled_data = scalar.fit_transform(X_train) #Normalizing data. Z = (x-X_mean)/sigma"
   ]
  },
  {
   "cell_type": "markdown",
   "id": "bf955ec3",
   "metadata": {},
   "source": [
    "Let's run sklearn algorithm and calculate accuracy."
   ]
  },
  {
   "cell_type": "code",
   "execution_count": 25,
   "id": "9963f924",
   "metadata": {},
   "outputs": [
    {
     "data": {
      "text/plain": [
       "86.8"
      ]
     },
     "execution_count": 25,
     "metadata": {},
     "output_type": "execute_result"
    }
   ],
   "source": [
    "knnClassifier = KNeighborsClassifier().fit(scaled_data,Y_train)\n",
    "acc_log = round(knnClassifier.score(scaled_data,Y_train)*100,2)\n",
    "acc_log"
   ]
  },
  {
   "cell_type": "markdown",
   "id": "c430676d",
   "metadata": {},
   "source": [
    "After many trials on different features, the most important ones seems to be Age, Sex, Pclass and Fare. Other variable combinations seem (for our specific algorithm purpose) to decrease accuracy. It could be due to redundancy."
   ]
  },
  {
   "cell_type": "markdown",
   "id": "ba44c4c4",
   "metadata": {},
   "source": [
    "Sklearn algorithm accuracy is 86.8 %. Now I am going to build two customs KNN algorithms I am going to test the first algorithm using all the features or some of the features, while the second custom KNN algorithm is going to be an hybrid between KNN and Naive Bayes. I am going to use for the latter an informative variable (Pclass or Sex) as a prior, while other variables are going to be used to calculate the likelihood (calculated through KNN based distance). Finally, I am going to plot accuracies for different k values"
   ]
  },
  {
   "cell_type": "code",
   "execution_count": 30,
   "id": "3597187a",
   "metadata": {},
   "outputs": [],
   "source": [
    "def KNearest_Neighbours_Custom(X_train,Y_train,k):\n",
    "    # Function takes X_train and Y_train, and number of neighbors to calculate accuracy\n",
    "    scalar = StandardScaler()\n",
    "    Data = scalar.fit_transform(X_train) #Normalizing data\n",
    "    \n",
    "    Targets = np.array(Y_train) #Let's transform target vector into an array\n",
    "    Y_hat = np.zeros(len(Targets)) # initializing a vector with predictions  \n",
    "    for i,v in enumerate(Data):\n",
    "        # Let's calculate n_dim euclidian distance . For each point I am going to compute euclidian \n",
    "        # distance between all other points\n",
    "        subtraction_vector = Data - v   \n",
    "        norm_vector_q = np.sum(subtraction_vector**2,axis=1)\n",
    "        norms_vector = np.sqrt(norm_vector_q) \n",
    "        \n",
    "        sorted_vector_indeces = np.argsort(norms_vector) #Ordering indeces \n",
    "        \n",
    "        KNeighbours = sorted_vector_indeces[1:k+1] #Taking all points, but not the first one which is the point itself\n",
    "        \n",
    "        Survived_subsample = Targets[KNeighbours] #Let's see who survived and who not\n",
    "        #Let's start votations! :)\n",
    "        Number_survived = sum(Survived_subsample==1) \n",
    "        Number_not_survived = sum(Survived_subsample==0)\n",
    "        \n",
    "        #Aggiorno il vettore Y_hat (predizioni)\n",
    "        if Number_survived >= Number_not_survived:\n",
    "            Y_hat[i] = 1\n",
    "        else:\n",
    "            Y_hat[i] = 0\n",
    "       \n",
    "    \n",
    "    \n",
    "    Accuracy_vector = Targets == Y_hat #Boolean comparison\n",
    "    Accuracy_value = np.round(sum(Accuracy_vector==True)/len(Accuracy_vector)*100,2) #Accuracy calculation\n",
    "    return(Accuracy_value,Y_hat) "
   ]
  },
  {
   "cell_type": "markdown",
   "id": "1e0fd8e8",
   "metadata": {},
   "source": [
    "Let's plot accuracies values vs k"
   ]
  },
  {
   "cell_type": "code",
   "execution_count": 31,
   "id": "41334bf7",
   "metadata": {},
   "outputs": [
    {
     "data": {
      "image/png": "[encoded data removed]",
      "text/plain": [
       "<Figure size 432x288 with 1 Axes>"
      ]
     },
     "metadata": {
      "needs_background": "light"
     },
     "output_type": "display_data"
    }
   ],
   "source": [
    "plot_vector_neighbor_1 = np.zeros(25) \n",
    "for k in range(1,26): \n",
    "    plot_vector_neighbor_1[k-1] = KNearest_Neighbours_Custom(X_train,Y_train,k)[0] \n",
    "plt.plot(range(1,26),plot_vector_neighbor_1)\n",
    "plt.xlabel(\"K_value\")\n",
    "plt.ylabel(\"Accuracy\")\n",
    "plt.title(\"Accuracy for different k values (Reduced Dataset)\")\n",
    "plt.show()"
   ]
  },
  {
   "cell_type": "code",
   "execution_count": 32,
   "id": "58d4018c",
   "metadata": {},
   "outputs": [
    {
     "name": "stdout",
     "output_type": "stream",
     "text": [
      "[78.09 74.44 81.18 79.07 81.88 79.92 82.3  80.34 80.9  80.34 79.21 78.93\n",
      " 80.2  78.79 79.35 79.21 78.93 78.23 78.23 79.49 77.25 78.23 77.39 78.65\n",
      " 77.53]\n",
      "82.3\n",
      "6\n"
     ]
    }
   ],
   "source": [
    "print(plot_vector_neighbor_1)\n",
    "print(np.max(plot_vector_neighbor_1))\n",
    "print(np.argmax(plot_vector_neighbor_1))"
   ]
  },
  {
   "cell_type": "markdown",
   "id": "db4dd454",
   "metadata": {},
   "source": [
    "Algorithm reachs 82.3 % of accuracy with 7 neighbors. N.B. Python indexing starts at 0"
   ]
  },
  {
   "cell_type": "markdown",
   "id": "249e8f05",
   "metadata": {},
   "source": [
    "Now, let's try with all numerical features"
   ]
  },
  {
   "cell_type": "code",
   "execution_count": 33,
   "id": "864f033e",
   "metadata": {},
   "outputs": [],
   "source": [
    "X_train_complete = df_reduced[[\"Pclass\",\"Sex\",\"Age\",\"Fare\",\"SibSp\",\"Parch\",\"Embarked\"]]\n",
    "Y_train_complete = df_reduced[\"Survived\"]"
   ]
  },
  {
   "cell_type": "code",
   "execution_count": 34,
   "id": "e31f9b12",
   "metadata": {},
   "outputs": [
    {
     "data": {
      "image/png": "[encoded data removed]",
      "text/plain": [
       "<Figure size 432x288 with 1 Axes>"
      ]
     },
     "metadata": {
      "needs_background": "light"
     },
     "output_type": "display_data"
    }
   ],
   "source": [
    "plot_vector_neighbor_2 = np.zeros(25) \n",
    "for k in range(1,26): \n",
    "    plot_vector_neighbor_2[k-1] = KNearest_Neighbours_Custom(X_train_complete,Y_train_complete,k)[0] \n",
    "plt.plot(range(1,26),plot_vector_neighbor_2)\n",
    "plt.xlabel(\"K_value\")\n",
    "plt.ylabel(\"Accuracy\")\n",
    "plt.title(\"Accuracy for different k values (All)\")\n",
    "plt.show()"
   ]
  },
  {
   "cell_type": "code",
   "execution_count": 35,
   "id": "a0edbde2",
   "metadata": {},
   "outputs": [
    {
     "name": "stdout",
     "output_type": "stream",
     "text": [
      "[75.14 72.61 79.63 78.09 79.92 80.06 81.04 80.9  81.18 80.48 81.04 80.48\n",
      " 80.62 81.04 81.46 81.04 80.76 80.48 79.63 80.2  79.35 79.35 79.07 78.65\n",
      " 79.78]\n",
      "81.46\n",
      "14\n"
     ]
    }
   ],
   "source": [
    "print(plot_vector_neighbor_2)\n",
    "print(np.max(plot_vector_neighbor_2))\n",
    "print(np.argmax(plot_vector_neighbor_2))"
   ]
  },
  {
   "cell_type": "markdown",
   "id": "914d7acf",
   "metadata": {},
   "source": [
    "This time accuracy reachs 81.46% with 15 neighbors. Lower than before."
   ]
  },
  {
   "cell_type": "markdown",
   "id": "81d970ba",
   "metadata": {},
   "source": [
    "## Hybrid KNearest_Neighbours"
   ]
  },
  {
   "cell_type": "code",
   "execution_count": 36,
   "id": "3f3be99b",
   "metadata": {},
   "outputs": [],
   "source": [
    "def KNearest_Neighbours_Bayesian_function(df_reduced,X_train,Y_train,k):\n",
    "    # I am going to build prior based on number of survivors and not survivors for each Pclass.\n",
    "    # Likelihood is calculating using kNearest Neighbours approach on all other features\n",
    "    Prior_survived_class_1 = sum(df_reduced.loc[df_reduced[\"Pclass\"] ==1,\"Survived\"])/len(df_reduced[\"Survived\"])\n",
    "    Prior_Not_survived_class_1 =  (len(df_reduced.loc[df_reduced[\"Pclass\"] ==1,\"Survived\"]) - sum(df_reduced.loc[df_reduced[\"Pclass\"] ==1,\"Survived\"]))/len(df_reduced[\"Survived\"])\n",
    "    Prior_survived_class_2 = sum(df_reduced.loc[df_reduced[\"Pclass\"] ==2,\"Survived\"])/len(df_reduced[\"Survived\"])\n",
    "    Prior_Not_survived_class_2 =  (len(df_reduced.loc[df_reduced[\"Pclass\"] ==2,\"Survived\"]) - sum(df_reduced.loc[df_reduced[\"Pclass\"] ==2,\"Survived\"]))/len(df_reduced[\"Survived\"])\n",
    "    Prior_survived_class_3 = sum(df_reduced.loc[df_reduced[\"Pclass\"] ==3,\"Survived\"])/len(df_reduced[\"Survived\"])\n",
    "    Prior_Not_survived_class_3 =  (len(df_reduced.loc[df_reduced[\"Pclass\"] ==3,\"Survived\"]) - sum(df_reduced.loc[df_reduced[\"Pclass\"] ==3,\"Survived\"]))/len(df_reduced[\"Survived\"])\n",
    "    \n",
    "    \n",
    "    Pclass = np.array(X_train)[:,0] #Convert Pclass into an array \n",
    "    scalar = StandardScaler()\n",
    "    Data = scalar.fit_transform(X_train)\n",
    "    Targets = np.array(Y_train)\n",
    "    \n",
    "    Y_hat = np.zeros(len(Targets))\n",
    "    for i,v in enumerate(Data):\n",
    "        subtraction_vector = Data - v \n",
    "        norm_vector_q = np.sum(subtraction_vector**2,axis=1)\n",
    "        norms_vector = np.sqrt(norm_vector_q) \n",
    "        \n",
    "        Pclass_passenger = Pclass[i] #Considering passenger class\n",
    "        sorted_vector_indeces = np.argsort(norms_vector)\n",
    "        KNeighbours = sorted_vector_indeces[1:k+1]\n",
    "        \n",
    "        Survived_subsample = Targets[KNeighbours]\n",
    "        #Here is the difference. I estimate the likelihood by counting neighbours and dividing for k \n",
    "        \n",
    "        Prob_survived_likelihood = sum(Survived_subsample==1)/k \n",
    "        Prob_not_survived_likelihood = sum(Survived_subsample==0)/k\n",
    "        \n",
    "        Prior_class_survived = locals()[\"Prior_survived_class_\" + str(int(Pclass_passenger))] \n",
    "        Prior_class_not_survived = locals()[\"Prior_Not_survived_class_\" + str(int(Pclass_passenger))]\n",
    "        \n",
    "        #Calculating posterior. \n",
    "        \n",
    "        Posterior = (Prior_class_survived*Prob_survived_likelihood)/(Prior_class_survived*Prob_survived_likelihood \n",
    "                                                                     + Prior_class_not_survived*Prob_not_survived_likelihood)\n",
    "        if Posterior > 0.75: #Threshold for survivor\n",
    "            Y_hat[i] = 1\n",
    "        else:\n",
    "            Y_hat[i] = 0\n",
    "    \n",
    "    \n",
    "    Accuracy_vector = Targets == Y_hat\n",
    "    Accuracy_value = np.round(sum(Accuracy_vector==True)/len(Accuracy_vector)*100,2)\n",
    "    return(Accuracy_value,Y_hat,Posterior)"
   ]
  },
  {
   "cell_type": "markdown",
   "id": "3065a09e",
   "metadata": {},
   "source": [
    "Same as before. Let's calculate accuracy for different k values"
   ]
  },
  {
   "cell_type": "code",
   "execution_count": 38,
   "id": "e8af1822",
   "metadata": {},
   "outputs": [
    {
     "data": {
      "image/png": "[encoded data removed]",
      "text/plain": [
       "<Figure size 432x288 with 1 Axes>"
      ]
     },
     "metadata": {
      "needs_background": "light"
     },
     "output_type": "display_data"
    }
   ],
   "source": [
    "plot_vector_neighbor_Bayesian = np.zeros(25) \n",
    "for k in range(1,26): \n",
    "    plot_vector_neighbor_Bayesian[k-1] = KNearest_Neighbours_Bayesian_function(df_reduced,X_train,Y_train,k)[0] \n",
    "plt.plot(range(1,26),plot_vector_neighbor_Bayesian)\n",
    "plt.xlabel(\"K value\")\n",
    "plt.ylabel(\"Accuracy\")\n",
    "plt.title(\"Accuracy for different k values (Bayesian)\")\n",
    "plt.show()"
   ]
  },
  {
   "cell_type": "code",
   "execution_count": 39,
   "id": "1bab3561",
   "metadata": {},
   "outputs": [
    {
     "name": "stdout",
     "output_type": "stream",
     "text": [
      "[78.09 80.9  78.09 78.51 79.78 78.93 78.37 78.09 79.78 80.06 78.09 78.09\n",
      " 78.93 78.79 79.07 79.35 79.35 79.07 78.79 78.65 78.65 78.23 78.51 78.23\n",
      " 78.23]\n",
      "80.9\n",
      "1\n"
     ]
    }
   ],
   "source": [
    "print(plot_vector_neighbor_Bayesian)\n",
    "print(np.max(plot_vector_neighbor_Bayesian))\n",
    "print(np.argmax(plot_vector_neighbor_Bayesian))"
   ]
  },
  {
   "cell_type": "markdown",
   "id": "51e5a790",
   "metadata": {},
   "source": [
    "Accuracy is decresed to 80.90 %. Let's try a more informative prior like Sex. "
   ]
  },
  {
   "cell_type": "code",
   "execution_count": 47,
   "id": "85e4cfb6",
   "metadata": {},
   "outputs": [],
   "source": [
    "def KNearest_Neighbours_Bayesian_2(df_reduced,X_train,Y_train,k):\n",
    "    \n",
    "    \n",
    "    Prior_survived_0 = sum(df_reduced.loc[df_reduced[\"Sex\"]==0,\"Survived\"])/len(df_reduced[\"Survived\"])\n",
    "    Prior_Not_survived_0 = (len(df_reduced.loc[df_reduced[\"Sex\"] ==0,\"Survived\"]) - sum(df_reduced.loc[df_reduced[\"Sex\"] ==0,\"Survived\"]))/len(df_reduced[\"Survived\"])\n",
    "    Prior_survived_1 = sum(df_reduced.loc[df_reduced[\"Sex\"]==1,\"Survived\"])/len(df_reduced[\"Survived\"])\n",
    "    Prior_Not_survived_1 = (len(df_reduced.loc[df_reduced[\"Sex\"] ==1,\"Survived\"]) - sum(df_reduced.loc[df_reduced[\"Sex\"] ==1,\"Survived\"]))/len(df_reduced[\"Survived\"])\n",
    "    \n",
    "    \n",
    "    \n",
    "    Sex = np.array(X_train)[:,1] \n",
    "    scalar = StandardScaler()\n",
    "    Data = scalar.fit_transform(X_train)\n",
    "    Targets = np.array(Y_train)\n",
    "    \n",
    "    Y_hat = np.zeros(len(Targets))\n",
    "    for i,v in enumerate(Data):\n",
    "        subtraction_vector = Data - v \n",
    "        norm_vector_q = np.sum(subtraction_vector**2,axis=1) \n",
    "        norms_vector = np.sqrt(norm_vector_q) \n",
    "        \n",
    "        Passenger_sex = Sex[i] \n",
    "        sorted_vector_indeces = np.argsort(norms_vector)\n",
    "        KNeighbours = sorted_vector_indeces[1:k+1]\n",
    "        \n",
    "        Survived_subsample = Targets[KNeighbours]\n",
    "        \n",
    "        \n",
    "        Prob_survived_likelihood = sum(Survived_subsample==1)/k \n",
    "        Prob_not_survived_likelihood = sum(Survived_subsample==0)/k\n",
    "        \n",
    "        Prior_class_survived = locals()[\"Prior_survived_\" + str(int(Passenger_sex))] \n",
    "        Prior_class_not_survived = locals()[\"Prior_Not_survived_\" + str(int(Passenger_sex))] \n",
    "        \n",
    "        \n",
    "        Posterior = (Prior_class_survived*Prob_survived_likelihood)/(Prior_class_survived*Prob_survived_likelihood + \n",
    "                                                                     Prior_class_not_survived*Prob_not_survived_likelihood)\n",
    "        if Posterior > 0.80: \n",
    "            Y_hat[i] = 1\n",
    "        else:\n",
    "            Y_hat[i] = 0\n",
    "    \n",
    "    \n",
    "    Accuracy_vector = Targets == Y_hat\n",
    "    Accuracy_value = np.round(sum(Accuracy_vector==True)/len(Accuracy_vector)*100,2)\n",
    "    return(Accuracy_value,Y_hat,Posterior)"
   ]
  },
  {
   "cell_type": "code",
   "execution_count": 48,
   "id": "367783ee",
   "metadata": {},
   "outputs": [
    {
     "data": {
      "image/png": "[encoded data removed]",
      "text/plain": [
       "<Figure size 432x288 with 1 Axes>"
      ]
     },
     "metadata": {
      "needs_background": "light"
     },
     "output_type": "display_data"
    }
   ],
   "source": [
    "plot_vector_neighbor_Bayesian_2 = np.zeros(25) \n",
    "for k in range(1,26): \n",
    "    plot_vector_neighbor_Bayesian_2[k-1] = KNearest_Neighbours_Bayesian_2(df_reduced,X_train,Y_train,k)[0] \n",
    "plt.plot(range(1,26),plot_vector_neighbor_Bayesian_2)\n",
    "plt.xlabel(\"K value\")\n",
    "plt.ylabel(\"Accuracy\")\n",
    "plt.title(\"Accuracy for different k values (Bayesian)\")\n",
    "plt.show()"
   ]
  },
  {
   "cell_type": "code",
   "execution_count": 49,
   "id": "e26ab2f3",
   "metadata": {},
   "outputs": [
    {
     "name": "stdout",
     "output_type": "stream",
     "text": [
      "[78.09 80.9  83.15 81.88 82.44 81.74 82.02 81.18 79.92 78.79 79.49 79.35\n",
      " 79.49 79.21 79.49 79.35 79.92 78.51 78.51 79.63 79.07 78.51 78.23 77.81\n",
      " 78.23]\n",
      "83.15\n",
      "2\n"
     ]
    }
   ],
   "source": [
    "print(plot_vector_neighbor_Bayesian_2)\n",
    "print(np.max(plot_vector_neighbor_Bayesian_2))\n",
    "print(np.argmax(plot_vector_neighbor_Bayesian_2))"
   ]
  },
  {
   "cell_type": "markdown",
   "id": "56e8bd21",
   "metadata": {},
   "source": [
    "We obtain excellent results (83.15 % accuracy). Sex as a prior paid off. "
   ]
  },
  {
   "cell_type": "markdown",
   "id": "5a43f660",
   "metadata": {},
   "source": [
    "# 3) Final Considerations"
   ]
  },
  {
   "cell_type": "markdown",
   "id": "0ef2a210",
   "metadata": {},
   "source": [
    "Home made KNN algorithms work well. The difference between sklearn algorithm and these custom ones are probably due to the different structure of sklearn KNN. In fact that one is implemented with a tree like structure and can weight and rank features in a slightly more precise way."
   ]
  }
 ],
 "metadata": {
  "kernelspec": {
   "display_name": "Python 3 (ipykernel)",
   "language": "python",
   "name": "python3"
  },
  "language_info": {
   "codemirror_mode": {
    "name": "ipython",
    "version": 3
   },
   "file_extension": ".py",
   "mimetype": "text/x-python",
   "name": "python",
   "nbconvert_exporter": "python",
   "pygments_lexer": "ipython3",
   "version": "3.8.8"
  }
 },
 "nbformat": 4,
 "nbformat_minor": 5
}
