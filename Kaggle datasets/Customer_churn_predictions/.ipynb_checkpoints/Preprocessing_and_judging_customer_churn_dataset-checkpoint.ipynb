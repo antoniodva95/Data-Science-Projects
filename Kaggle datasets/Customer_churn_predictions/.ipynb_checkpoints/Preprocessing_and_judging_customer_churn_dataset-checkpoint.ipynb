{
 "cells": [
  {
   "cell_type": "markdown",
   "id": "34f03b21",
   "metadata": {},
   "source": [
    "# Preprocessing data"
   ]
  },
  {
   "cell_type": "code",
   "execution_count": 119,
   "id": "fb4dc47e",
   "metadata": {},
   "outputs": [],
   "source": [
    "import numpy as np\n",
    "import matplotlib.pyplot as plt\n",
    "from statsmodels.nonparametric.kde import KDEUnivariate\n",
    "import pandas as pd\n",
    "from sklearn.impute import SimpleImputer\n",
    "from sklearn.preprocessing import scale\n",
    "from sklearn.preprocessing import MinMaxScaler\n",
    "from sklearn.preprocessing import StandardScaler\n",
    "import seaborn as sns"
   ]
  },
  {
   "cell_type": "code",
   "execution_count": 120,
   "id": "d894e771",
   "metadata": {},
   "outputs": [],
   "source": [
    "from sklearn.neighbors import KNeighborsClassifier\n",
    "from sklearn.linear_model import LogisticRegression\n",
    "from sklearn.tree import DecisionTreeClassifier\n",
    "from sklearn.ensemble import BaggingClassifier\n",
    "from sklearn.ensemble import RandomForestClassifier\n",
    "from sklearn.ensemble import AdaBoostClassifier\n",
    "from sklearn.ensemble import GradientBoostingClassifier\n",
    "from sklearn.svm import SVC\n",
    "from xgboost import XGBClassifier\n",
    "from sklearn.neural_network import MLPClassifier\n",
    "from sklearn.model_selection import GridSearchCV, RandomizedSearchCV, cross_val_score, KFold,RepeatedStratifiedKFold,cross_validate\n",
    "from sklearn.decomposition import PCA\n",
    "from scipy.stats import uniform, norm\n",
    "from sklearn.naive_bayes import GaussianNB\n",
    "from sklearn.ensemble import StackingClassifier \n",
    "import pickle"
   ]
  },
  {
   "cell_type": "code",
   "execution_count": 374,
   "id": "e0dc3aca",
   "metadata": {},
   "outputs": [],
   "source": [
    "from sklearn.model_selection import train_test_split\n",
    "from sklearn.metrics import r2_score\n",
    "from sklearn.metrics import classification_report\n",
    "from sklearn.metrics import f1_score\n",
    "from sklearn.metrics import mean_absolute_error\n",
    "from sklearn.metrics import accuracy_score\n",
    "from sklearn import metrics\n",
    "from math import sqrt\n",
    "from imblearn.over_sampling import SMOTE\n",
    "from imblearn.over_sampling import RandomOverSampler\n",
    "from pandas import get_dummies"
   ]
  },
  {
   "cell_type": "code",
   "execution_count": 363,
   "id": "fdc5ed01",
   "metadata": {},
   "outputs": [],
   "source": [
    "churning_data = pd.read_csv(\"C:/Users/Antonio95/slides-main/train.csv\")"
   ]
  },
  {
   "cell_type": "markdown",
   "id": "ed50e68a",
   "metadata": {},
   "source": [
    "Let's give a look at our dataset"
   ]
  },
  {
   "cell_type": "code",
   "execution_count": 122,
   "id": "0967f8cc",
   "metadata": {},
   "outputs": [
    {
     "data": {
      "text/html": [
       "<div>\n",
       "<style scoped>\n",
       "    .dataframe tbody tr th:only-of-type {\n",
       "        vertical-align: middle;\n",
       "    }\n",
       "\n",
       "    .dataframe tbody tr th {\n",
       "        vertical-align: top;\n",
       "    }\n",
       "\n",
       "    .dataframe thead th {\n",
       "        text-align: right;\n",
       "    }\n",
       "</style>\n",
       "<table border=\"1\" class=\"dataframe\">\n",
       "  <thead>\n",
       "    <tr style=\"text-align: right;\">\n",
       "      <th></th>\n",
       "      <th>state</th>\n",
       "      <th>account_length</th>\n",
       "      <th>area_code</th>\n",
       "      <th>international_plan</th>\n",
       "      <th>voice_mail_plan</th>\n",
       "      <th>number_vmail_messages</th>\n",
       "      <th>total_day_minutes</th>\n",
       "      <th>total_day_calls</th>\n",
       "      <th>total_day_charge</th>\n",
       "      <th>total_eve_minutes</th>\n",
       "      <th>total_eve_calls</th>\n",
       "      <th>total_eve_charge</th>\n",
       "      <th>total_night_minutes</th>\n",
       "      <th>total_night_calls</th>\n",
       "      <th>total_night_charge</th>\n",
       "      <th>total_intl_minutes</th>\n",
       "      <th>total_intl_calls</th>\n",
       "      <th>total_intl_charge</th>\n",
       "      <th>number_customer_service_calls</th>\n",
       "      <th>churn</th>\n",
       "    </tr>\n",
       "  </thead>\n",
       "  <tbody>\n",
       "    <tr>\n",
       "      <th>0</th>\n",
       "      <td>OH</td>\n",
       "      <td>107</td>\n",
       "      <td>area_code_415</td>\n",
       "      <td>no</td>\n",
       "      <td>yes</td>\n",
       "      <td>26</td>\n",
       "      <td>161.6</td>\n",
       "      <td>123</td>\n",
       "      <td>27.47</td>\n",
       "      <td>195.5</td>\n",
       "      <td>103</td>\n",
       "      <td>16.62</td>\n",
       "      <td>254.4</td>\n",
       "      <td>103</td>\n",
       "      <td>11.45</td>\n",
       "      <td>13.7</td>\n",
       "      <td>3</td>\n",
       "      <td>3.70</td>\n",
       "      <td>1</td>\n",
       "      <td>no</td>\n",
       "    </tr>\n",
       "    <tr>\n",
       "      <th>1</th>\n",
       "      <td>NJ</td>\n",
       "      <td>137</td>\n",
       "      <td>area_code_415</td>\n",
       "      <td>no</td>\n",
       "      <td>no</td>\n",
       "      <td>0</td>\n",
       "      <td>243.4</td>\n",
       "      <td>114</td>\n",
       "      <td>41.38</td>\n",
       "      <td>121.2</td>\n",
       "      <td>110</td>\n",
       "      <td>10.30</td>\n",
       "      <td>162.6</td>\n",
       "      <td>104</td>\n",
       "      <td>7.32</td>\n",
       "      <td>12.2</td>\n",
       "      <td>5</td>\n",
       "      <td>3.29</td>\n",
       "      <td>0</td>\n",
       "      <td>no</td>\n",
       "    </tr>\n",
       "    <tr>\n",
       "      <th>2</th>\n",
       "      <td>OH</td>\n",
       "      <td>84</td>\n",
       "      <td>area_code_408</td>\n",
       "      <td>yes</td>\n",
       "      <td>no</td>\n",
       "      <td>0</td>\n",
       "      <td>299.4</td>\n",
       "      <td>71</td>\n",
       "      <td>50.90</td>\n",
       "      <td>61.9</td>\n",
       "      <td>88</td>\n",
       "      <td>5.26</td>\n",
       "      <td>196.9</td>\n",
       "      <td>89</td>\n",
       "      <td>8.86</td>\n",
       "      <td>6.6</td>\n",
       "      <td>7</td>\n",
       "      <td>1.78</td>\n",
       "      <td>2</td>\n",
       "      <td>no</td>\n",
       "    </tr>\n",
       "    <tr>\n",
       "      <th>3</th>\n",
       "      <td>OK</td>\n",
       "      <td>75</td>\n",
       "      <td>area_code_415</td>\n",
       "      <td>yes</td>\n",
       "      <td>no</td>\n",
       "      <td>0</td>\n",
       "      <td>166.7</td>\n",
       "      <td>113</td>\n",
       "      <td>28.34</td>\n",
       "      <td>148.3</td>\n",
       "      <td>122</td>\n",
       "      <td>12.61</td>\n",
       "      <td>186.9</td>\n",
       "      <td>121</td>\n",
       "      <td>8.41</td>\n",
       "      <td>10.1</td>\n",
       "      <td>3</td>\n",
       "      <td>2.73</td>\n",
       "      <td>3</td>\n",
       "      <td>no</td>\n",
       "    </tr>\n",
       "    <tr>\n",
       "      <th>4</th>\n",
       "      <td>MA</td>\n",
       "      <td>121</td>\n",
       "      <td>area_code_510</td>\n",
       "      <td>no</td>\n",
       "      <td>yes</td>\n",
       "      <td>24</td>\n",
       "      <td>218.2</td>\n",
       "      <td>88</td>\n",
       "      <td>37.09</td>\n",
       "      <td>348.5</td>\n",
       "      <td>108</td>\n",
       "      <td>29.62</td>\n",
       "      <td>212.6</td>\n",
       "      <td>118</td>\n",
       "      <td>9.57</td>\n",
       "      <td>7.5</td>\n",
       "      <td>7</td>\n",
       "      <td>2.03</td>\n",
       "      <td>3</td>\n",
       "      <td>no</td>\n",
       "    </tr>\n",
       "  </tbody>\n",
       "</table>\n",
       "</div>"
      ],
      "text/plain": [
       "  state  account_length      area_code international_plan voice_mail_plan  \\\n",
       "0    OH             107  area_code_415                 no             yes   \n",
       "1    NJ             137  area_code_415                 no              no   \n",
       "2    OH              84  area_code_408                yes              no   \n",
       "3    OK              75  area_code_415                yes              no   \n",
       "4    MA             121  area_code_510                 no             yes   \n",
       "\n",
       "   number_vmail_messages  total_day_minutes  total_day_calls  \\\n",
       "0                     26              161.6              123   \n",
       "1                      0              243.4              114   \n",
       "2                      0              299.4               71   \n",
       "3                      0              166.7              113   \n",
       "4                     24              218.2               88   \n",
       "\n",
       "   total_day_charge  total_eve_minutes  total_eve_calls  total_eve_charge  \\\n",
       "0             27.47              195.5              103             16.62   \n",
       "1             41.38              121.2              110             10.30   \n",
       "2             50.90               61.9               88              5.26   \n",
       "3             28.34              148.3              122             12.61   \n",
       "4             37.09              348.5              108             29.62   \n",
       "\n",
       "   total_night_minutes  total_night_calls  total_night_charge  \\\n",
       "0                254.4                103               11.45   \n",
       "1                162.6                104                7.32   \n",
       "2                196.9                 89                8.86   \n",
       "3                186.9                121                8.41   \n",
       "4                212.6                118                9.57   \n",
       "\n",
       "   total_intl_minutes  total_intl_calls  total_intl_charge  \\\n",
       "0                13.7                 3               3.70   \n",
       "1                12.2                 5               3.29   \n",
       "2                 6.6                 7               1.78   \n",
       "3                10.1                 3               2.73   \n",
       "4                 7.5                 7               2.03   \n",
       "\n",
       "   number_customer_service_calls churn  \n",
       "0                              1    no  \n",
       "1                              0    no  \n",
       "2                              2    no  \n",
       "3                              3    no  \n",
       "4                              3    no  "
      ]
     },
     "execution_count": 122,
     "metadata": {},
     "output_type": "execute_result"
    }
   ],
   "source": [
    "churning_data.head(5)"
   ]
  },
  {
   "cell_type": "markdown",
   "id": "5466df96",
   "metadata": {},
   "source": [
    "Categorical variable are state, area code, international plan and voice mail plan"
   ]
  },
  {
   "cell_type": "code",
   "execution_count": 372,
   "id": "6aeb73d8",
   "metadata": {},
   "outputs": [],
   "source": [
    "#Let's convert international plan, voice mail plan and churn variables\n",
    "churning_data[\"international_plan\"] = churning_data[\"international_plan\"].replace([\"no\",\"yes\"],[0,1])\n",
    "churning_data[\"voice_mail_plan\"] = churning_data[\"voice_mail_plan\"].replace([\"no\",\"yes\"],[0,1])\n",
    "churning_data[\"churn\"] = churning_data[\"churn\"].replace([\"no\",\"yes\"],[0,1])"
   ]
  },
  {
   "cell_type": "code",
   "execution_count": 373,
   "id": "84fe79b4",
   "metadata": {},
   "outputs": [
    {
     "data": {
      "text/plain": [
       "state\n",
       "NJ    0.270833\n",
       "CA    0.256410\n",
       "WA    0.225000\n",
       "MD    0.220930\n",
       "MT    0.212500\n",
       "OK    0.205128\n",
       "NV    0.204819\n",
       "SC    0.194444\n",
       "TX    0.193878\n",
       "MS    0.182927\n",
       "ME    0.179775\n",
       "MN    0.175926\n",
       "MI    0.172414\n",
       "KS    0.172414\n",
       "CT    0.170455\n",
       "NY    0.166667\n",
       "DE    0.162500\n",
       "MA    0.157303\n",
       "IN    0.156627\n",
       "AR    0.154930\n",
       "TN    0.151899\n",
       "OR    0.151515\n",
       "SD    0.146667\n",
       "KY    0.141176\n",
       "WV    0.136691\n",
       "AL    0.128713\n",
       "NH    0.128205\n",
       "NM    0.128205\n",
       "OH    0.126316\n",
       "MO    0.125000\n",
       "UT    0.123711\n",
       "PA    0.119403\n",
       "FL    0.118421\n",
       "VT    0.116279\n",
       "ID    0.113208\n",
       "IA    0.112903\n",
       "CO    0.112500\n",
       "DC    0.111111\n",
       "GA    0.109375\n",
       "WY    0.105263\n",
       "LA    0.101449\n",
       "AZ    0.090909\n",
       "ND    0.089552\n",
       "NC    0.087500\n",
       "IL    0.075949\n",
       "WI    0.074468\n",
       "RI    0.068966\n",
       "NE    0.068493\n",
       "AK    0.065574\n",
       "HI    0.051948\n",
       "VA    0.050000\n",
       "Name: churn, dtype: float64"
      ]
     },
     "execution_count": 373,
     "metadata": {},
     "output_type": "execute_result"
    }
   ],
   "source": [
    "# Let's look at state and its relationship with churn variable\n",
    "churning_data.groupby(\"state\")[\"churn\"].mean().sort_values(ascending=False)"
   ]
  },
  {
   "cell_type": "markdown",
   "id": "3cc7225a",
   "metadata": {},
   "source": [
    "State doesn't seem an important feature. Let's look at the correlation with target"
   ]
  },
  {
   "cell_type": "code",
   "execution_count": 375,
   "id": "0ceb768c",
   "metadata": {},
   "outputs": [],
   "source": [
    "state_dataframe = churning_data[[\"state\",\"churn\"]]\n",
    "state_dataframe = get_dummies(state_dataframe,columns=[\"state\"])"
   ]
  },
  {
   "cell_type": "code",
   "execution_count": 377,
   "id": "8016738a",
   "metadata": {},
   "outputs": [
    {
     "data": {
      "text/plain": [
       "<AxesSubplot:>"
      ]
     },
     "execution_count": 377,
     "metadata": {},
     "output_type": "execute_result"
    },
    {
     "data": {
      "image/png": "[encoded data removed]",
      "text/plain": [
       "<Figure size 1440x720 with 2 Axes>"
      ]
     },
     "metadata": {
      "needs_background": "light"
     },
     "output_type": "display_data"
    }
   ],
   "source": [
    "correlated_data = state_dataframe.corr()\n",
    "fig,ax = plt.subplots(figsize=(20,10))\n",
    "mask = np.triu(np.ones_like(correlated_data, dtype=bool))\n",
    "sns.heatmap(correlated_data, annot=True, cmap=\"Reds\", mask=mask, linewidth=0.5)"
   ]
  },
  {
   "cell_type": "markdown",
   "id": "ed93236e",
   "metadata": {},
   "source": [
    "Too many states, however there as suggested there isn't correlation with target. It is better to drop this feature. \n",
    "Same goes for area_code"
   ]
  },
  {
   "cell_type": "code",
   "execution_count": 378,
   "id": "764c0f69",
   "metadata": {},
   "outputs": [],
   "source": [
    "X = churning_data.drop(columns=[\"churn\"])\n",
    "y = churning_data[\"churn\"]"
   ]
  },
  {
   "cell_type": "markdown",
   "id": "ef588989",
   "metadata": {},
   "source": [
    "Let's split data and proceed with feature engineering"
   ]
  },
  {
   "cell_type": "code",
   "execution_count": 379,
   "id": "3641e4fe",
   "metadata": {},
   "outputs": [],
   "source": [
    "# Train test split\n",
    "X_train,X_test,y_train,y_test = train_test_split(X,y,test_size=0.25,random_state=0)\n"
   ]
  },
  {
   "cell_type": "markdown",
   "id": "b89ac9d1",
   "metadata": {},
   "source": [
    "## Feature Engineering"
   ]
  },
  {
   "cell_type": "markdown",
   "id": "ae6aa657",
   "metadata": {},
   "source": [
    "Let's lower data dimension and as we'll see it will perform better"
   ]
  },
  {
   "cell_type": "code",
   "execution_count": 380,
   "id": "2d65a90a",
   "metadata": {},
   "outputs": [],
   "source": [
    "#Feature engineering \n",
    "X_train [\"total_net_minutes\"] = X_train[\"total_day_minutes\"] + X_train[\"total_eve_minutes\"] + X_train[\"total_night_minutes\"]"
   ]
  },
  {
   "cell_type": "code",
   "execution_count": 381,
   "id": "d340f156",
   "metadata": {},
   "outputs": [],
   "source": [
    "X_train[\"total_net_calls\"] = X_train[\"total_day_calls\"] + X_train[\"total_eve_calls\"] + X_train[\"total_night_calls\"]\n",
    "X_train[\"total_net_charge\"] = X_train[\"total_day_charge\"] + X_train[\"total_eve_charge\"] + X_train[\"total_night_charge\"]"
   ]
  },
  {
   "cell_type": "code",
   "execution_count": 382,
   "id": "051afdf2",
   "metadata": {},
   "outputs": [],
   "source": [
    "X_train = X_train.drop(columns=[\"total_day_minutes\",\"total_eve_minutes\",\"total_night_minutes\",\"total_day_calls\",\"total_eve_calls\",\n",
    "                     \"total_night_calls\",\"total_day_charge\",\"total_eve_charge\",\"total_night_charge\"])"
   ]
  },
  {
   "cell_type": "code",
   "execution_count": 383,
   "id": "0d867fdf",
   "metadata": {},
   "outputs": [
    {
     "data": {
      "text/html": [
       "<div>\n",
       "<style scoped>\n",
       "    .dataframe tbody tr th:only-of-type {\n",
       "        vertical-align: middle;\n",
       "    }\n",
       "\n",
       "    .dataframe tbody tr th {\n",
       "        vertical-align: top;\n",
       "    }\n",
       "\n",
       "    .dataframe thead th {\n",
       "        text-align: right;\n",
       "    }\n",
       "</style>\n",
       "<table border=\"1\" class=\"dataframe\">\n",
       "  <thead>\n",
       "    <tr style=\"text-align: right;\">\n",
       "      <th></th>\n",
       "      <th>state</th>\n",
       "      <th>account_length</th>\n",
       "      <th>area_code</th>\n",
       "      <th>international_plan</th>\n",
       "      <th>voice_mail_plan</th>\n",
       "      <th>number_vmail_messages</th>\n",
       "      <th>total_intl_minutes</th>\n",
       "      <th>total_intl_calls</th>\n",
       "      <th>total_intl_charge</th>\n",
       "      <th>number_customer_service_calls</th>\n",
       "      <th>total_net_minutes</th>\n",
       "      <th>total_net_calls</th>\n",
       "      <th>total_net_charge</th>\n",
       "    </tr>\n",
       "  </thead>\n",
       "  <tbody>\n",
       "    <tr>\n",
       "      <th>2448</th>\n",
       "      <td>DE</td>\n",
       "      <td>103</td>\n",
       "      <td>area_code_415</td>\n",
       "      <td>0</td>\n",
       "      <td>1</td>\n",
       "      <td>34</td>\n",
       "      <td>11.8</td>\n",
       "      <td>7</td>\n",
       "      <td>3.19</td>\n",
       "      <td>1</td>\n",
       "      <td>464.6</td>\n",
       "      <td>265</td>\n",
       "      <td>43.94</td>\n",
       "    </tr>\n",
       "    <tr>\n",
       "      <th>3411</th>\n",
       "      <td>NJ</td>\n",
       "      <td>114</td>\n",
       "      <td>area_code_408</td>\n",
       "      <td>0</td>\n",
       "      <td>0</td>\n",
       "      <td>0</td>\n",
       "      <td>8.1</td>\n",
       "      <td>6</td>\n",
       "      <td>2.19</td>\n",
       "      <td>2</td>\n",
       "      <td>664.1</td>\n",
       "      <td>329</td>\n",
       "      <td>64.61</td>\n",
       "    </tr>\n",
       "    <tr>\n",
       "      <th>4059</th>\n",
       "      <td>IN</td>\n",
       "      <td>80</td>\n",
       "      <td>area_code_415</td>\n",
       "      <td>0</td>\n",
       "      <td>0</td>\n",
       "      <td>0</td>\n",
       "      <td>8.2</td>\n",
       "      <td>5</td>\n",
       "      <td>2.21</td>\n",
       "      <td>1</td>\n",
       "      <td>394.5</td>\n",
       "      <td>307</td>\n",
       "      <td>35.26</td>\n",
       "    </tr>\n",
       "    <tr>\n",
       "      <th>3774</th>\n",
       "      <td>KY</td>\n",
       "      <td>53</td>\n",
       "      <td>area_code_510</td>\n",
       "      <td>0</td>\n",
       "      <td>0</td>\n",
       "      <td>0</td>\n",
       "      <td>9.7</td>\n",
       "      <td>6</td>\n",
       "      <td>2.62</td>\n",
       "      <td>1</td>\n",
       "      <td>583.4</td>\n",
       "      <td>270</td>\n",
       "      <td>56.67</td>\n",
       "    </tr>\n",
       "    <tr>\n",
       "      <th>3613</th>\n",
       "      <td>AZ</td>\n",
       "      <td>155</td>\n",
       "      <td>area_code_415</td>\n",
       "      <td>1</td>\n",
       "      <td>0</td>\n",
       "      <td>0</td>\n",
       "      <td>11.2</td>\n",
       "      <td>1</td>\n",
       "      <td>3.02</td>\n",
       "      <td>2</td>\n",
       "      <td>610.5</td>\n",
       "      <td>271</td>\n",
       "      <td>59.27</td>\n",
       "    </tr>\n",
       "  </tbody>\n",
       "</table>\n",
       "</div>"
      ],
      "text/plain": [
       "     state  account_length      area_code  international_plan  \\\n",
       "2448    DE             103  area_code_415                   0   \n",
       "3411    NJ             114  area_code_408                   0   \n",
       "4059    IN              80  area_code_415                   0   \n",
       "3774    KY              53  area_code_510                   0   \n",
       "3613    AZ             155  area_code_415                   1   \n",
       "\n",
       "      voice_mail_plan  number_vmail_messages  total_intl_minutes  \\\n",
       "2448                1                     34                11.8   \n",
       "3411                0                      0                 8.1   \n",
       "4059                0                      0                 8.2   \n",
       "3774                0                      0                 9.7   \n",
       "3613                0                      0                11.2   \n",
       "\n",
       "      total_intl_calls  total_intl_charge  number_customer_service_calls  \\\n",
       "2448                 7               3.19                              1   \n",
       "3411                 6               2.19                              2   \n",
       "4059                 5               2.21                              1   \n",
       "3774                 6               2.62                              1   \n",
       "3613                 1               3.02                              2   \n",
       "\n",
       "      total_net_minutes  total_net_calls  total_net_charge  \n",
       "2448              464.6              265             43.94  \n",
       "3411              664.1              329             64.61  \n",
       "4059              394.5              307             35.26  \n",
       "3774              583.4              270             56.67  \n",
       "3613              610.5              271             59.27  "
      ]
     },
     "execution_count": 383,
     "metadata": {},
     "output_type": "execute_result"
    }
   ],
   "source": [
    "X_train.head(5)"
   ]
  },
  {
   "cell_type": "code",
   "execution_count": 130,
   "id": "73693943",
   "metadata": {},
   "outputs": [],
   "source": [
    "#Let's make a function to create multiple categories per variable\n",
    "def Create_numerical_category(df,columns):\n",
    "    for column in columns:\n",
    "        unique_feature = df[column].unique()\n",
    "        for i,v in enumerate(unique_feature):\n",
    "            df[column].replace(v,i,inplace=True)\n",
    "\n",
    "def Replace_yes_and_no(df,columns):\n",
    "    for column in columns:\n",
    "        df[column].replace([\"no\",\"yes\"],[0,1],inplace=True)"
   ]
  },
  {
   "cell_type": "code",
   "execution_count": 384,
   "id": "1cdf63c1",
   "metadata": {},
   "outputs": [],
   "source": [
    "Replace_yes_and_no(X_train,columns=[\"international_plan\",\"voice_mail_plan\"])"
   ]
  },
  {
   "cell_type": "code",
   "execution_count": 385,
   "id": "1d694fd1",
   "metadata": {},
   "outputs": [],
   "source": [
    "y_train = y_train.replace([\"no\",\"yes\"],[0,1])"
   ]
  },
  {
   "cell_type": "code",
   "execution_count": 386,
   "id": "8ea36692",
   "metadata": {},
   "outputs": [],
   "source": [
    "churning_training = pd.concat([X_train,y_train],axis=1)"
   ]
  },
  {
   "cell_type": "code",
   "execution_count": 387,
   "id": "ac7361e2",
   "metadata": {},
   "outputs": [],
   "source": [
    "X_train = X_train.drop(columns=[\"state\",\"area_code\"])"
   ]
  },
  {
   "cell_type": "code",
   "execution_count": 388,
   "id": "40f31ce9",
   "metadata": {},
   "outputs": [],
   "source": [
    "X_train = churning_training.drop(columns=[\"churn\"])\n",
    "y_train = churning_training[\"churn\"]"
   ]
  },
  {
   "cell_type": "markdown",
   "id": "651186d3",
   "metadata": {},
   "source": [
    "Most correlated features are total day minutes, charge and international plan (easy to understand why). However there isn't a very precise trend to understand what can make people churn."
   ]
  },
  {
   "cell_type": "code",
   "execution_count": 389,
   "id": "cc0b6798",
   "metadata": {},
   "outputs": [
    {
     "data": {
      "text/plain": [
       "<AxesSubplot:>"
      ]
     },
     "execution_count": 389,
     "metadata": {},
     "output_type": "execute_result"
    },
    {
     "data": {
      "image/png": "[encoded data removed]",
      "text/plain": [
       "<Figure size 1440x720 with 2 Axes>"
      ]
     },
     "metadata": {
      "needs_background": "light"
     },
     "output_type": "display_data"
    }
   ],
   "source": [
    "correlated_data = churning_training.corr()\n",
    "fig,ax = plt.subplots(figsize=(20,10))\n",
    "mask = np.triu(np.ones_like(correlated_data, dtype=bool))\n",
    "sns.heatmap(correlated_data, annot=True, cmap=\"Reds\", mask=mask, linewidth=0.5)"
   ]
  },
  {
   "cell_type": "code",
   "execution_count": 391,
   "id": "f16625f4",
   "metadata": {},
   "outputs": [
    {
     "data": {
      "text/html": [
       "<div>\n",
       "<style scoped>\n",
       "    .dataframe tbody tr th:only-of-type {\n",
       "        vertical-align: middle;\n",
       "    }\n",
       "\n",
       "    .dataframe tbody tr th {\n",
       "        vertical-align: top;\n",
       "    }\n",
       "\n",
       "    .dataframe thead th {\n",
       "        text-align: right;\n",
       "    }\n",
       "</style>\n",
       "<table border=\"1\" class=\"dataframe\">\n",
       "  <thead>\n",
       "    <tr style=\"text-align: right;\">\n",
       "      <th></th>\n",
       "      <th>state</th>\n",
       "      <th>account_length</th>\n",
       "      <th>area_code</th>\n",
       "      <th>international_plan</th>\n",
       "      <th>voice_mail_plan</th>\n",
       "      <th>number_vmail_messages</th>\n",
       "      <th>total_intl_minutes</th>\n",
       "      <th>total_intl_calls</th>\n",
       "      <th>total_intl_charge</th>\n",
       "      <th>number_customer_service_calls</th>\n",
       "      <th>total_net_minutes</th>\n",
       "      <th>total_net_calls</th>\n",
       "      <th>total_net_charge</th>\n",
       "    </tr>\n",
       "  </thead>\n",
       "  <tbody>\n",
       "    <tr>\n",
       "      <th>2448</th>\n",
       "      <td>DE</td>\n",
       "      <td>103</td>\n",
       "      <td>area_code_415</td>\n",
       "      <td>0</td>\n",
       "      <td>1</td>\n",
       "      <td>34</td>\n",
       "      <td>11.8</td>\n",
       "      <td>7</td>\n",
       "      <td>3.19</td>\n",
       "      <td>1</td>\n",
       "      <td>464.6</td>\n",
       "      <td>265</td>\n",
       "      <td>43.94</td>\n",
       "    </tr>\n",
       "    <tr>\n",
       "      <th>3411</th>\n",
       "      <td>NJ</td>\n",
       "      <td>114</td>\n",
       "      <td>area_code_408</td>\n",
       "      <td>0</td>\n",
       "      <td>0</td>\n",
       "      <td>0</td>\n",
       "      <td>8.1</td>\n",
       "      <td>6</td>\n",
       "      <td>2.19</td>\n",
       "      <td>2</td>\n",
       "      <td>664.1</td>\n",
       "      <td>329</td>\n",
       "      <td>64.61</td>\n",
       "    </tr>\n",
       "    <tr>\n",
       "      <th>4059</th>\n",
       "      <td>IN</td>\n",
       "      <td>80</td>\n",
       "      <td>area_code_415</td>\n",
       "      <td>0</td>\n",
       "      <td>0</td>\n",
       "      <td>0</td>\n",
       "      <td>8.2</td>\n",
       "      <td>5</td>\n",
       "      <td>2.21</td>\n",
       "      <td>1</td>\n",
       "      <td>394.5</td>\n",
       "      <td>307</td>\n",
       "      <td>35.26</td>\n",
       "    </tr>\n",
       "    <tr>\n",
       "      <th>3774</th>\n",
       "      <td>KY</td>\n",
       "      <td>53</td>\n",
       "      <td>area_code_510</td>\n",
       "      <td>0</td>\n",
       "      <td>0</td>\n",
       "      <td>0</td>\n",
       "      <td>9.7</td>\n",
       "      <td>6</td>\n",
       "      <td>2.62</td>\n",
       "      <td>1</td>\n",
       "      <td>583.4</td>\n",
       "      <td>270</td>\n",
       "      <td>56.67</td>\n",
       "    </tr>\n",
       "    <tr>\n",
       "      <th>3613</th>\n",
       "      <td>AZ</td>\n",
       "      <td>155</td>\n",
       "      <td>area_code_415</td>\n",
       "      <td>1</td>\n",
       "      <td>0</td>\n",
       "      <td>0</td>\n",
       "      <td>11.2</td>\n",
       "      <td>1</td>\n",
       "      <td>3.02</td>\n",
       "      <td>2</td>\n",
       "      <td>610.5</td>\n",
       "      <td>271</td>\n",
       "      <td>59.27</td>\n",
       "    </tr>\n",
       "  </tbody>\n",
       "</table>\n",
       "</div>"
      ],
      "text/plain": [
       "     state  account_length      area_code  international_plan  \\\n",
       "2448    DE             103  area_code_415                   0   \n",
       "3411    NJ             114  area_code_408                   0   \n",
       "4059    IN              80  area_code_415                   0   \n",
       "3774    KY              53  area_code_510                   0   \n",
       "3613    AZ             155  area_code_415                   1   \n",
       "\n",
       "      voice_mail_plan  number_vmail_messages  total_intl_minutes  \\\n",
       "2448                1                     34                11.8   \n",
       "3411                0                      0                 8.1   \n",
       "4059                0                      0                 8.2   \n",
       "3774                0                      0                 9.7   \n",
       "3613                0                      0                11.2   \n",
       "\n",
       "      total_intl_calls  total_intl_charge  number_customer_service_calls  \\\n",
       "2448                 7               3.19                              1   \n",
       "3411                 6               2.19                              2   \n",
       "4059                 5               2.21                              1   \n",
       "3774                 6               2.62                              1   \n",
       "3613                 1               3.02                              2   \n",
       "\n",
       "      total_net_minutes  total_net_calls  total_net_charge  \n",
       "2448              464.6              265             43.94  \n",
       "3411              664.1              329             64.61  \n",
       "4059              394.5              307             35.26  \n",
       "3774              583.4              270             56.67  \n",
       "3613              610.5              271             59.27  "
      ]
     },
     "execution_count": 391,
     "metadata": {},
     "output_type": "execute_result"
    }
   ],
   "source": [
    "X_train.head(5)"
   ]
  },
  {
   "cell_type": "code",
   "execution_count": 392,
   "id": "6d49e5b7",
   "metadata": {},
   "outputs": [],
   "source": [
    "#Same to test\n",
    "#Feature engineering \n",
    "X_test[\"total_net_minutes\"] = X_test[\"total_day_minutes\"] + X_test[\"total_eve_minutes\"] + X_test[\"total_night_minutes\"]\n",
    "X_test[\"total_net_calls\"] = X_test[\"total_day_calls\"] + X_test[\"total_eve_calls\"] + X_test[\"total_night_calls\"]\n",
    "X_test[\"total_net_charge\"] = X_test[\"total_day_charge\"] + X_test[\"total_eve_charge\"] + X_test[\"total_night_charge\"]"
   ]
  },
  {
   "cell_type": "code",
   "execution_count": 393,
   "id": "bc841892",
   "metadata": {},
   "outputs": [],
   "source": [
    "X_test = X_test.drop(columns=[\"total_day_minutes\",\"total_eve_minutes\",\"total_night_minutes\",\"total_day_calls\",\"total_eve_calls\",\n",
    "                     \"total_night_calls\",\"total_day_charge\",\"total_eve_charge\",\"total_night_charge\"])"
   ]
  },
  {
   "cell_type": "code",
   "execution_count": 394,
   "id": "51331d29",
   "metadata": {},
   "outputs": [],
   "source": [
    "Replace_yes_and_no(X_test,columns=[\"international_plan\",\"voice_mail_plan\"])"
   ]
  },
  {
   "cell_type": "code",
   "execution_count": 395,
   "id": "324e84cb",
   "metadata": {},
   "outputs": [],
   "source": [
    "y_test = y_test.replace([\"no\",\"yes\"],[0,1])"
   ]
  },
  {
   "cell_type": "code",
   "execution_count": 396,
   "id": "98bd5e6c",
   "metadata": {},
   "outputs": [],
   "source": [
    "X_test = X_test.drop(columns=[\"state\",\"area_code\"])"
   ]
  },
  {
   "cell_type": "markdown",
   "id": "aa39acd1",
   "metadata": {},
   "source": [
    "## Scaling "
   ]
  },
  {
   "cell_type": "code",
   "execution_count": 143,
   "id": "da0cc8bf",
   "metadata": {},
   "outputs": [],
   "source": [
    "from sklearn.preprocessing import MinMaxScaler\n",
    "from sklearn.preprocessing import RobustScaler\n",
    "from sklearn.preprocessing import StandardScaler"
   ]
  },
  {
   "cell_type": "code",
   "execution_count": 144,
   "id": "deb6a412",
   "metadata": {},
   "outputs": [],
   "source": [
    "X_train_scaled = StandardScaler().fit_transform(X_train)\n",
    "X_test_scaled = StandardScaler().fit_transform(X_test)"
   ]
  },
  {
   "cell_type": "markdown",
   "id": "0f20f165",
   "metadata": {},
   "source": [
    "# Data Modeling"
   ]
  },
  {
   "cell_type": "code",
   "execution_count": 223,
   "id": "c4690589",
   "metadata": {},
   "outputs": [
    {
     "name": "stdout",
     "output_type": "stream",
     "text": [
      "Mean squared error: 0.0235\n",
      "Root mean absolute error:  0.15335691803293608\n",
      "Mean absolute error:  0.023518344308560677\n",
      "R2 score is:  0.7733475479744136\n",
      "F1 score: 0.9056603773584904\n",
      "Testing accuracy score:  0.9764816556914393\n",
      "              precision    recall  f1-score   support\n",
      "\n",
      "           0       0.98      0.99      0.99       923\n",
      "           1       0.96      0.86      0.91       140\n",
      "\n",
      "    accuracy                           0.98      1063\n",
      "   macro avg       0.97      0.93      0.95      1063\n",
      "weighted avg       0.98      0.98      0.98      1063\n",
      "\n"
     ]
    }
   ],
   "source": [
    "#Let's test some algorithms\n",
    "# Create XGBoost object\n",
    "xgb = XGBClassifier(use_label_encoder=False,eval_metric=\"logloss\")\n",
    "# Fit the model\n",
    "xgb.fit(X_train, y_train)\n",
    "# Create prediction\n",
    "xgb_pred = xgb.predict(X_test)\n",
    "\n",
    "xgb_r2=r2_score(xgb_pred, y_test)\n",
    "xgb_rmse = sqrt(mean_absolute_error(xgb_pred, y_test))\n",
    "print('Mean squared error: %.4f'\n",
    "      % metrics.mean_squared_error(xgb_pred, y_test))\n",
    "print('Root mean absolute error: ', xgb_rmse)\n",
    "print('Mean absolute error: ', mean_absolute_error(xgb_pred, y_test))\n",
    "print('R2 score is: ', xgb_r2)\n",
    "print(\"F1 score:\",f1_score(xgb_pred, y_test))\n",
    "print(\"Testing accuracy score: \",accuracy_score(xgb_pred, y_test))\n",
    "print(classification_report(y_test, xgb_pred))\n"
   ]
  },
  {
   "cell_type": "code",
   "execution_count": 140,
   "id": "88c5c1fe",
   "metadata": {},
   "outputs": [
    {
     "data": {
      "text/plain": [
       "account_length                   0\n",
       "international_plan               0\n",
       "voice_mail_plan                  0\n",
       "number_vmail_messages            0\n",
       "total_intl_minutes               0\n",
       "total_intl_calls                 0\n",
       "total_intl_charge                0\n",
       "number_customer_service_calls    0\n",
       "total_net_minutes                0\n",
       "total_net_calls                  0\n",
       "total_net_charge                 0\n",
       "dtype: int64"
      ]
     },
     "execution_count": 140,
     "metadata": {},
     "output_type": "execute_result"
    }
   ],
   "source": [
    "X_test.isnull().sum()"
   ]
  },
  {
   "cell_type": "code",
   "execution_count": 142,
   "id": "f2abebff",
   "metadata": {},
   "outputs": [
    {
     "name": "stdout",
     "output_type": "stream",
     "text": [
      "Mean squared error: 0.0188\n",
      "Root mean absolute error:  0.13716659741660336\n",
      "Mean absolute error:  0.020696142991533398\n",
      "R2 score is:  0.8148115886482814\n",
      "F1 score: 0.9236641221374046\n",
      "Testing accuracy score:  0.9811853245531514\n",
      "              precision    recall  f1-score   support\n",
      "\n",
      "           0       0.98      1.00      0.99       923\n",
      "           1       0.99      0.86      0.92       140\n",
      "\n",
      "    accuracy                           0.98      1063\n",
      "   macro avg       0.99      0.93      0.96      1063\n",
      "weighted avg       0.98      0.98      0.98      1063\n",
      "\n"
     ]
    }
   ],
   "source": [
    "#Let's test some algorithms\n",
    "# Create GBoost object\n",
    "gb = GradientBoostingClassifier(learning_rate=0.01,n_estimators=400,max_depth=13)\n",
    "# Fit the model\n",
    "gb.fit(X_train, y_train)\n",
    "# Create prediction\n",
    "gb_pred = gb.predict(X_test)\n",
    "\n",
    "gb_r2=r2_score(gb_pred, y_test)\n",
    "gb_rmse = sqrt(mean_absolute_error(gb_pred, y_test))\n",
    "print('Mean squared error: %.4f'\n",
    "      % metrics.mean_squared_error(gb_pred, y_test))\n",
    "print('Root mean absolute error: ', gb_rmse)\n",
    "print('Mean absolute error: ', mean_absolute_error(xgb_pred, y_test))\n",
    "print('R2 score is: ', gb_r2)\n",
    "print(\"F1 score:\",f1_score(gb_pred, y_test))\n",
    "print(\"Testing accuracy score: \",accuracy_score(gb_pred, y_test))\n",
    "print(classification_report(y_test, gb_pred))\n",
    "\n"
   ]
  },
  {
   "cell_type": "code",
   "execution_count": 224,
   "id": "c40782ce",
   "metadata": {},
   "outputs": [
    {
     "name": "stdout",
     "output_type": "stream",
     "text": [
      "Mean squared error: 0.0263\n",
      "Root mean absolute error:  0.16229770677858624\n",
      "Mean absolute error:  0.023518344308560677\n",
      "R2 score is:  0.7443745920505686\n",
      "F1 score: 0.8939393939393939\n",
      "Testing accuracy score:  0.973659454374412\n",
      "              precision    recall  f1-score   support\n",
      "\n",
      "           0       0.98      0.99      0.98       923\n",
      "           1       0.95      0.84      0.89       140\n",
      "\n",
      "    accuracy                           0.97      1063\n",
      "   macro avg       0.96      0.92      0.94      1063\n",
      "weighted avg       0.97      0.97      0.97      1063\n",
      "\n"
     ]
    }
   ],
   "source": [
    "#Let's test some algorithms\n",
    "# Create GBoost object\n",
    "gb = GradientBoostingClassifier(learning_rate=0.01,n_estimators=400,max_depth=13)\n",
    "# Fit the model\n",
    "gb.fit(X_train, y_train)\n",
    "# Create prediction\n",
    "gb_pred = gb.predict(X_test)\n",
    "\n",
    "gb_r2=r2_score(gb_pred, y_test)\n",
    "gb_rmse = sqrt(mean_absolute_error(gb_pred, y_test))\n",
    "print('Mean squared error: %.4f'\n",
    "      % metrics.mean_squared_error(gb_pred, y_test))\n",
    "print('Root mean absolute error: ', gb_rmse)\n",
    "print('Mean absolute error: ', mean_absolute_error(xgb_pred, y_test))\n",
    "print('R2 score is: ', gb_r2)\n",
    "print(\"F1 score:\",f1_score(gb_pred, y_test))\n",
    "print(\"Testing accuracy score: \",accuracy_score(gb_pred, y_test))\n",
    "print(classification_report(y_test, gb_pred))\n",
    "\n"
   ]
  },
  {
   "cell_type": "code",
   "execution_count": 146,
   "id": "6db569cc",
   "metadata": {},
   "outputs": [
    {
     "name": "stdout",
     "output_type": "stream",
     "text": [
      "Mean squared error: 0.0235\n",
      "Root mean absolute error:  0.15335691803293608\n",
      "Mean absolute error:  0.023518344308560677\n",
      "R2 score is:  0.7764402045898109\n",
      "F1 score: 0.9063670411985018\n",
      "Testing accuracy score:  0.9764816556914393\n",
      "              precision    recall  f1-score   support\n",
      "\n",
      "           0       0.98      0.99      0.99       923\n",
      "           1       0.95      0.86      0.91       140\n",
      "\n",
      "    accuracy                           0.98      1063\n",
      "   macro avg       0.97      0.93      0.95      1063\n",
      "weighted avg       0.98      0.98      0.98      1063\n",
      "\n"
     ]
    }
   ],
   "source": [
    "#Let's test some algorithms\n",
    "# Create GBoost object\n",
    "gb = GradientBoostingClassifier(learning_rate=0.01,n_estimators=400,max_depth=13)\n",
    "# Fit the model\n",
    "gb.fit(X_train_scaled, y_train)\n",
    "# Create prediction\n",
    "gb_pred = gb.predict(X_test_scaled)\n",
    "\n",
    "gb_r2=r2_score(gb_pred, y_test)\n",
    "gb_rmse = sqrt(mean_absolute_error(gb_pred, y_test))\n",
    "print('Mean squared error: %.4f'\n",
    "      % metrics.mean_squared_error(gb_pred, y_test))\n",
    "print('Root mean absolute error: ', gb_rmse)\n",
    "print('Mean absolute error: ', mean_absolute_error(xgb_pred, y_test))\n",
    "print('R2 score is: ', gb_r2)\n",
    "print(\"F1 score:\",f1_score(gb_pred, y_test))\n",
    "print(\"Testing accuracy score: \",accuracy_score(gb_pred, y_test))\n",
    "print(classification_report(y_test, gb_pred))\n"
   ]
  },
  {
   "cell_type": "code",
   "execution_count": 752,
   "id": "99e62b5a",
   "metadata": {},
   "outputs": [
    {
     "name": "stdout",
     "output_type": "stream",
     "text": [
      "Mean squared error: 0.0273\n",
      "Root mean absolute error:  0.16517045558431565\n",
      "Mean absolute error:  0.027281279397930385\n",
      "R2 score is:  0.7295450158797003\n",
      "F1 score: 0.888888888888889\n",
      "Testing accuracy score:  0.9727187206020697\n",
      "              precision    recall  f1-score   support\n",
      "\n",
      "           0       0.97      0.99      0.98       923\n",
      "           1       0.96      0.83      0.89       140\n",
      "\n",
      "    accuracy                           0.97      1063\n",
      "   macro avg       0.97      0.91      0.94      1063\n",
      "weighted avg       0.97      0.97      0.97      1063\n",
      "\n"
     ]
    }
   ],
   "source": [
    "#Let's test some algorithms\n",
    "# Create XGBoost object\n",
    "xgb = XGBClassifier(use_label_encoder=False,eval_metric=\"logloss\")\n",
    "# Fit the model\n",
    "xgb.fit(X_robst, y_robst)\n",
    "# Create prediction\n",
    "xgb_pred = xgb.predict(X_test)\n",
    "\n",
    "xgb_r2=r2_score(xgb_pred, y_test)\n",
    "xgb_rmse = sqrt(mean_absolute_error(xgb_pred, y_test))\n",
    "print('Mean squared error: %.4f'\n",
    "      % metrics.mean_squared_error(xgb_pred, y_test))\n",
    "print('Root mean absolute error: ', xgb_rmse)\n",
    "print('Mean absolute error: ', mean_absolute_error(xgb_pred, y_test))\n",
    "print('R2 score is: ', xgb_r2)\n",
    "print(\"F1 score:\",f1_score(xgb_pred, y_test))\n",
    "print(\"Testing accuracy score: \",accuracy_score(xgb_pred, y_test))\n",
    "print(classification_report(y_test, xgb_pred))\n"
   ]
  },
  {
   "cell_type": "markdown",
   "id": "097566dc",
   "metadata": {},
   "source": [
    "# Judge analysis"
   ]
  },
  {
   "cell_type": "code",
   "execution_count": 176,
   "id": "09762bbc",
   "metadata": {},
   "outputs": [],
   "source": [
    "models = [\n",
    "    #KNeighborsClassifier(),\n",
    "    LogisticRegression(solver='liblinear'),\n",
    "    #SVC(),\n",
    "    RandomForestClassifier(),\n",
    "    GradientBoostingClassifier(learning_rate=0.01,n_estimators=400,max_depth=13),\n",
    "    XGBClassifier(use_label_encoder=False,eval_metric=\"logloss\")\n",
    "]\n",
    "\n",
    "algorithm_names = np.array([\n",
    "    #\"Knn\",\n",
    "    \"Lr\",\n",
    "    #\"SVC\",\n",
    "    \"Rf\",\n",
    "    \"GB\",\n",
    "    \"XGB\"\n",
    "])\n",
    "\n",
    "\n",
    "metrics = [\n",
    "    'accuracy',\n",
    "    \"precision\",\n",
    "    \"recall\",\n",
    "    \"roc_auc\"\n",
    "]\n",
    "\n",
    "params = {\n",
    "    'Knn': {\n",
    "        'n_neighbors' : [3,5,10]\n",
    "    },\n",
    "    \n",
    "    'SVC': {\n",
    "        'C': [1, 10, 100], \n",
    "        \n",
    "        'gamma': [0.01, 0.1],\n",
    "        \n",
    "        'kernel':[\"poly\",\"rbf\"],\n",
    "        \n",
    "        'class_weight': ['balanced']\n",
    "    },\n",
    "    \n",
    "    'Dt': {\n",
    "        'max_depth': [2,4]\n",
    "    },\n",
    "}\n"
   ]
  },
  {
   "cell_type": "code",
   "execution_count": 177,
   "id": "87e1fe93",
   "metadata": {},
   "outputs": [],
   "source": [
    "class Judge:\n",
    "    \n",
    "    def __init__(self,dataframe_name):\n",
    "        self.dataframe_name = dataframe_name\n",
    "        self.X = None\n",
    "        self.y = None\n",
    "        self.models = None\n",
    "        self.algorithm_names = None\n",
    "        self.params = None\n",
    "        self.metrics = None\n",
    "        return None\n",
    "        \n",
    "        \n",
    "    def __str__(self):\n",
    "        return f\" Judging {self.dataframe_name}\"\n",
    "        \n",
    "    \n",
    "    def set_data(self,X,y):\n",
    "        self.X = X\n",
    "        self.y = y\n",
    "        return self\n",
    "    \n",
    "    def set_algorithms_and_names(self,models,algorithm_names):\n",
    "        self.models = models\n",
    "        self.algorithm_names = algorithm_names\n",
    "        return self\n",
    "    \n",
    "    def set_params(self, params):\n",
    "        self.params = params\n",
    "        return self\n",
    "    \n",
    "    \n",
    "    def set_metrics(self, metrics):\n",
    "        self.metrics = metrics\n",
    "        return self\n",
    "    \n",
    "        \n",
    "    @staticmethod\n",
    "    def Class_info(cls):\n",
    "        class_info = f\"\"\"Judge class contains methods for optimizing machine learning \n",
    "        performance and metrics evaluation for binary classification. It uses nested cross validation.\n",
    "        \n",
    "        Methods: \n",
    "        set_data -> to introduce data. X for the independent variables, y for the target. \n",
    "        set_algorithm_and_names -> to introduce different models (list) and their names (array). \n",
    "        set_params -> giving parameters for optimizing performances (dictionary) \n",
    "        set_metrics -> to introduce metrics to evaluate\n",
    "        get_final_performance -> to start the analysis \n",
    "        Hyperparameters get_final_performance:\n",
    "        cv_inner_splits: inner cross validation  \n",
    "        cv_outer_splits: outer cross validation \n",
    "        metric_to_optimize:\n",
    "        metric to optimize during parameter tuning (default: roc_auc) \n",
    "        find_params: set algorithm for parameters search -> GridSearchCV or RandomizedSearchCV(\n",
    "        default: GridSearchCV)\n",
    "        Returns:\n",
    "        Metric performance tab for each model (Dataframe) \"\"\"\n",
    "        \n",
    "        return class_info\n",
    "    \n",
    "    \n",
    "    def __Construct_matrix_df(self,algorithm_names,scores):\n",
    "    #Costruisco il dataframe a partire \n",
    "        Compacted_perf_values = np.hsplit(scores,len(self.metrics)) \n",
    "        Performance_matrix = np.append(algorithm_names,Compacted_perf_values).reshape(len(self.metrics)+1,len(self.models)).T \n",
    "        columns_vector = np.insert(self.metrics,0,\"model\") \n",
    "        Performance_matrix_df = pd.DataFrame(data=Performance_matrix,columns=columns_vector)\n",
    "        return Performance_matrix_df\n",
    "    \n",
    "    def __get_performance_from_algorithm(self, algorithm, grid, X, y, metrics,inner_cv,outer_cv,find_params,metric_to_optimize):\n",
    "        \n",
    "        if grid == {}:\n",
    "            cvl = cross_validate(algorithm, X, y, scoring = metrics,cv=self.outer_cv)\n",
    "            results = np.array(list(cvl.values()))[2::,:]\n",
    "        \n",
    "        else:\n",
    "            if self.find_params == \"GridSearchCV\":\n",
    "                clf = GridSearchCV(estimator = algorithm, param_grid = grid, scoring = metrics,refit=metric_to_optimize,cv=self.inner_cv)\n",
    "            elif self.find_params == \"RandomizedSearchCV\":\n",
    "                clf = RandomizedSearchCV(estimator = algorithm, param_distributions= grid, scoring = metrics,refit=metric_to_optimize,cv=self.inner_cv)\n",
    "            cvl = cross_validate(clf, X, y, scoring = metrics,cv=self.outer_cv)\n",
    "            results = np.array(list(cvl.values()))[2::,:]\n",
    "        \n",
    "        results = np.mean(results,axis=1)\n",
    "        return np.round(results*100,2)\n",
    "    \n",
    "    def get_final_performance(self,cv_inner_splits,cv_outer_splits,metric_to_optimize = \"roc_auc\",find_params=\"GridSearchCV\"):\n",
    "        self.inner_cv = KFold(n_splits=cv_inner_splits,shuffle=True)\n",
    "        self.outer_cv = KFold(n_splits=cv_outer_splits,shuffle=True)\n",
    "        self.find_params = find_params\n",
    "        self.metric_to_optimize = metric_to_optimize\n",
    "        self.scores = np.zeros((len(self.models),len(self.metrics))) #Initializing scoring matrix\n",
    "        for model in range(len(self.models)):\n",
    "            grid = {}\n",
    "            if self.algorithm_names[model] in self.params.keys(): #Sets grid for parameters\n",
    "                grid = self.params[self.algorithm_names[model]]\n",
    "            \n",
    "            score = self.__get_performance_from_algorithm(self.models[model],grid,self.X,self.y,self.metrics,self.inner_cv,self.outer_cv,self.find_params,self.metric_to_optimize) \n",
    "            self.scores[model] = score \n",
    "        \n",
    "        \n",
    "        Performance_matrix_df = self.__Construct_matrix_df(self.algorithm_names,self.scores)\n",
    "        return Performance_matrix_df\n",
    "        "
   ]
  },
  {
   "cell_type": "code",
   "execution_count": 231,
   "id": "6a7b8801",
   "metadata": {},
   "outputs": [],
   "source": [
    "churning_judge = pd.read_csv(\"C:/Users/Antonio95/slides-main/train.csv\")"
   ]
  },
  {
   "cell_type": "code",
   "execution_count": 232,
   "id": "3ec645a8",
   "metadata": {},
   "outputs": [],
   "source": [
    "X = churning_judge.drop(columns=[\"churn\"])\n",
    "y = churning_judge[\"churn\"]"
   ]
  },
  {
   "cell_type": "code",
   "execution_count": 233,
   "id": "4466c600",
   "metadata": {},
   "outputs": [],
   "source": [
    "#Feature engineering \n",
    "X[\"total_net_minutes\"] = X[\"total_day_minutes\"] + X[\"total_eve_minutes\"] + X[\"total_night_minutes\"]\n",
    "X[\"total_net_calls\"] = X[\"total_day_calls\"] + X[\"total_eve_calls\"] + X[\"total_night_calls\"]\n",
    "X[\"total_net_charge\"] = X[\"total_day_charge\"] + X[\"total_eve_charge\"] + X[\"total_night_charge\"]"
   ]
  },
  {
   "cell_type": "code",
   "execution_count": 234,
   "id": "5b5addc2",
   "metadata": {},
   "outputs": [],
   "source": [
    "X = X.drop(columns=[\"total_day_minutes\",\"total_eve_minutes\",\"total_night_minutes\",\"total_day_calls\",\"total_eve_calls\",\n",
    "                     \"total_night_calls\",\"total_day_charge\",\"total_eve_charge\",\"total_night_charge\"])"
   ]
  },
  {
   "cell_type": "code",
   "execution_count": 235,
   "id": "c796c664",
   "metadata": {},
   "outputs": [],
   "source": [
    "Replace_yes_and_no(X,columns=[\"international_plan\",\"voice_mail_plan\"])"
   ]
  },
  {
   "cell_type": "code",
   "execution_count": 236,
   "id": "4c3fc55e",
   "metadata": {},
   "outputs": [],
   "source": [
    "y = y.replace([\"no\",\"yes\"],[0,1])"
   ]
  },
  {
   "cell_type": "code",
   "execution_count": 237,
   "id": "86ce0aaf",
   "metadata": {},
   "outputs": [],
   "source": [
    "X = X.drop(columns=[\"state\",\"area_code\"])"
   ]
  },
  {
   "cell_type": "code",
   "execution_count": 238,
   "id": "b7454f74",
   "metadata": {},
   "outputs": [
    {
     "data": {
      "text/html": [
       "<div>\n",
       "<style scoped>\n",
       "    .dataframe tbody tr th:only-of-type {\n",
       "        vertical-align: middle;\n",
       "    }\n",
       "\n",
       "    .dataframe tbody tr th {\n",
       "        vertical-align: top;\n",
       "    }\n",
       "\n",
       "    .dataframe thead th {\n",
       "        text-align: right;\n",
       "    }\n",
       "</style>\n",
       "<table border=\"1\" class=\"dataframe\">\n",
       "  <thead>\n",
       "    <tr style=\"text-align: right;\">\n",
       "      <th></th>\n",
       "      <th>account_length</th>\n",
       "      <th>international_plan</th>\n",
       "      <th>voice_mail_plan</th>\n",
       "      <th>number_vmail_messages</th>\n",
       "      <th>total_intl_minutes</th>\n",
       "      <th>total_intl_calls</th>\n",
       "      <th>total_intl_charge</th>\n",
       "      <th>number_customer_service_calls</th>\n",
       "      <th>total_net_minutes</th>\n",
       "      <th>total_net_calls</th>\n",
       "      <th>total_net_charge</th>\n",
       "    </tr>\n",
       "  </thead>\n",
       "  <tbody>\n",
       "    <tr>\n",
       "      <th>0</th>\n",
       "      <td>107</td>\n",
       "      <td>0</td>\n",
       "      <td>1</td>\n",
       "      <td>26</td>\n",
       "      <td>13.7</td>\n",
       "      <td>3</td>\n",
       "      <td>3.70</td>\n",
       "      <td>1</td>\n",
       "      <td>611.5</td>\n",
       "      <td>329</td>\n",
       "      <td>55.54</td>\n",
       "    </tr>\n",
       "    <tr>\n",
       "      <th>1</th>\n",
       "      <td>137</td>\n",
       "      <td>0</td>\n",
       "      <td>0</td>\n",
       "      <td>0</td>\n",
       "      <td>12.2</td>\n",
       "      <td>5</td>\n",
       "      <td>3.29</td>\n",
       "      <td>0</td>\n",
       "      <td>527.2</td>\n",
       "      <td>328</td>\n",
       "      <td>59.00</td>\n",
       "    </tr>\n",
       "    <tr>\n",
       "      <th>2</th>\n",
       "      <td>84</td>\n",
       "      <td>1</td>\n",
       "      <td>0</td>\n",
       "      <td>0</td>\n",
       "      <td>6.6</td>\n",
       "      <td>7</td>\n",
       "      <td>1.78</td>\n",
       "      <td>2</td>\n",
       "      <td>558.2</td>\n",
       "      <td>248</td>\n",
       "      <td>65.02</td>\n",
       "    </tr>\n",
       "    <tr>\n",
       "      <th>3</th>\n",
       "      <td>75</td>\n",
       "      <td>1</td>\n",
       "      <td>0</td>\n",
       "      <td>0</td>\n",
       "      <td>10.1</td>\n",
       "      <td>3</td>\n",
       "      <td>2.73</td>\n",
       "      <td>3</td>\n",
       "      <td>501.9</td>\n",
       "      <td>356</td>\n",
       "      <td>49.36</td>\n",
       "    </tr>\n",
       "    <tr>\n",
       "      <th>4</th>\n",
       "      <td>121</td>\n",
       "      <td>0</td>\n",
       "      <td>1</td>\n",
       "      <td>24</td>\n",
       "      <td>7.5</td>\n",
       "      <td>7</td>\n",
       "      <td>2.03</td>\n",
       "      <td>3</td>\n",
       "      <td>779.3</td>\n",
       "      <td>314</td>\n",
       "      <td>76.28</td>\n",
       "    </tr>\n",
       "    <tr>\n",
       "      <th>...</th>\n",
       "      <td>...</td>\n",
       "      <td>...</td>\n",
       "      <td>...</td>\n",
       "      <td>...</td>\n",
       "      <td>...</td>\n",
       "      <td>...</td>\n",
       "      <td>...</td>\n",
       "      <td>...</td>\n",
       "      <td>...</td>\n",
       "      <td>...</td>\n",
       "      <td>...</td>\n",
       "    </tr>\n",
       "    <tr>\n",
       "      <th>4245</th>\n",
       "      <td>83</td>\n",
       "      <td>0</td>\n",
       "      <td>0</td>\n",
       "      <td>0</td>\n",
       "      <td>10.3</td>\n",
       "      <td>6</td>\n",
       "      <td>2.78</td>\n",
       "      <td>0</td>\n",
       "      <td>645.8</td>\n",
       "      <td>237</td>\n",
       "      <td>62.35</td>\n",
       "    </tr>\n",
       "    <tr>\n",
       "      <th>4246</th>\n",
       "      <td>73</td>\n",
       "      <td>0</td>\n",
       "      <td>0</td>\n",
       "      <td>0</td>\n",
       "      <td>11.5</td>\n",
       "      <td>6</td>\n",
       "      <td>3.11</td>\n",
       "      <td>3</td>\n",
       "      <td>495.3</td>\n",
       "      <td>260</td>\n",
       "      <td>49.77</td>\n",
       "    </tr>\n",
       "    <tr>\n",
       "      <th>4247</th>\n",
       "      <td>75</td>\n",
       "      <td>0</td>\n",
       "      <td>0</td>\n",
       "      <td>0</td>\n",
       "      <td>6.9</td>\n",
       "      <td>7</td>\n",
       "      <td>1.86</td>\n",
       "      <td>1</td>\n",
       "      <td>492.9</td>\n",
       "      <td>331</td>\n",
       "      <td>51.24</td>\n",
       "    </tr>\n",
       "    <tr>\n",
       "      <th>4248</th>\n",
       "      <td>50</td>\n",
       "      <td>0</td>\n",
       "      <td>1</td>\n",
       "      <td>40</td>\n",
       "      <td>9.9</td>\n",
       "      <td>5</td>\n",
       "      <td>2.67</td>\n",
       "      <td>2</td>\n",
       "      <td>756.2</td>\n",
       "      <td>369</td>\n",
       "      <td>72.42</td>\n",
       "    </tr>\n",
       "    <tr>\n",
       "      <th>4249</th>\n",
       "      <td>86</td>\n",
       "      <td>0</td>\n",
       "      <td>1</td>\n",
       "      <td>34</td>\n",
       "      <td>9.3</td>\n",
       "      <td>16</td>\n",
       "      <td>2.51</td>\n",
       "      <td>0</td>\n",
       "      <td>551.3</td>\n",
       "      <td>306</td>\n",
       "      <td>51.67</td>\n",
       "    </tr>\n",
       "  </tbody>\n",
       "</table>\n",
       "<p>4250 rows × 11 columns</p>\n",
       "</div>"
      ],
      "text/plain": [
       "      account_length  international_plan  voice_mail_plan  \\\n",
       "0                107                   0                1   \n",
       "1                137                   0                0   \n",
       "2                 84                   1                0   \n",
       "3                 75                   1                0   \n",
       "4                121                   0                1   \n",
       "...              ...                 ...              ...   \n",
       "4245              83                   0                0   \n",
       "4246              73                   0                0   \n",
       "4247              75                   0                0   \n",
       "4248              50                   0                1   \n",
       "4249              86                   0                1   \n",
       "\n",
       "      number_vmail_messages  total_intl_minutes  total_intl_calls  \\\n",
       "0                        26                13.7                 3   \n",
       "1                         0                12.2                 5   \n",
       "2                         0                 6.6                 7   \n",
       "3                         0                10.1                 3   \n",
       "4                        24                 7.5                 7   \n",
       "...                     ...                 ...               ...   \n",
       "4245                      0                10.3                 6   \n",
       "4246                      0                11.5                 6   \n",
       "4247                      0                 6.9                 7   \n",
       "4248                     40                 9.9                 5   \n",
       "4249                     34                 9.3                16   \n",
       "\n",
       "      total_intl_charge  number_customer_service_calls  total_net_minutes  \\\n",
       "0                  3.70                              1              611.5   \n",
       "1                  3.29                              0              527.2   \n",
       "2                  1.78                              2              558.2   \n",
       "3                  2.73                              3              501.9   \n",
       "4                  2.03                              3              779.3   \n",
       "...                 ...                            ...                ...   \n",
       "4245               2.78                              0              645.8   \n",
       "4246               3.11                              3              495.3   \n",
       "4247               1.86                              1              492.9   \n",
       "4248               2.67                              2              756.2   \n",
       "4249               2.51                              0              551.3   \n",
       "\n",
       "      total_net_calls  total_net_charge  \n",
       "0                 329             55.54  \n",
       "1                 328             59.00  \n",
       "2                 248             65.02  \n",
       "3                 356             49.36  \n",
       "4                 314             76.28  \n",
       "...               ...               ...  \n",
       "4245              237             62.35  \n",
       "4246              260             49.77  \n",
       "4247              331             51.24  \n",
       "4248              369             72.42  \n",
       "4249              306             51.67  \n",
       "\n",
       "[4250 rows x 11 columns]"
      ]
     },
     "execution_count": 238,
     "metadata": {},
     "output_type": "execute_result"
    }
   ],
   "source": [
    "X"
   ]
  },
  {
   "cell_type": "code",
   "execution_count": 178,
   "id": "7053e8d7",
   "metadata": {},
   "outputs": [],
   "source": [
    "judge = Judge(\"customer_churn\")"
   ]
  },
  {
   "cell_type": "code",
   "execution_count": 179,
   "id": "dc2c6b64",
   "metadata": {},
   "outputs": [
    {
     "data": {
      "text/plain": [
       "<__main__.Judge at 0x25483681e80>"
      ]
     },
     "execution_count": 179,
     "metadata": {},
     "output_type": "execute_result"
    }
   ],
   "source": [
    "judge.set_data(X,y).set_algorithms_and_names(models,algorithm_names).set_params(params).set_metrics(metrics)"
   ]
  },
  {
   "cell_type": "code",
   "execution_count": 172,
   "id": "36872f8a",
   "metadata": {},
   "outputs": [],
   "source": [
    "X_scaled = StandardScaler().fit_transform(X)"
   ]
  },
  {
   "cell_type": "code",
   "execution_count": 181,
   "id": "8dfaab0a",
   "metadata": {},
   "outputs": [
    {
     "name": "stdout",
     "output_type": "stream",
     "text": [
      "Wall time: 2min 2s\n"
     ]
    },
    {
     "data": {
      "text/html": [
       "<div>\n",
       "<style scoped>\n",
       "    .dataframe tbody tr th:only-of-type {\n",
       "        vertical-align: middle;\n",
       "    }\n",
       "\n",
       "    .dataframe tbody tr th {\n",
       "        vertical-align: top;\n",
       "    }\n",
       "\n",
       "    .dataframe thead th {\n",
       "        text-align: right;\n",
       "    }\n",
       "</style>\n",
       "<table border=\"1\" class=\"dataframe\">\n",
       "  <thead>\n",
       "    <tr style=\"text-align: right;\">\n",
       "      <th></th>\n",
       "      <th>model</th>\n",
       "      <th>accuracy</th>\n",
       "      <th>precision</th>\n",
       "      <th>recall</th>\n",
       "      <th>roc_auc</th>\n",
       "    </tr>\n",
       "  </thead>\n",
       "  <tbody>\n",
       "    <tr>\n",
       "      <th>0</th>\n",
       "      <td>Lr</td>\n",
       "      <td>86.61</td>\n",
       "      <td>57.7</td>\n",
       "      <td>18.39</td>\n",
       "      <td>82.35</td>\n",
       "    </tr>\n",
       "    <tr>\n",
       "      <th>1</th>\n",
       "      <td>Rf</td>\n",
       "      <td>97.36</td>\n",
       "      <td>97.67</td>\n",
       "      <td>83.35</td>\n",
       "      <td>92.88</td>\n",
       "    </tr>\n",
       "    <tr>\n",
       "      <th>2</th>\n",
       "      <td>GB</td>\n",
       "      <td>97.39</td>\n",
       "      <td>96.63</td>\n",
       "      <td>84.8</td>\n",
       "      <td>92.57</td>\n",
       "    </tr>\n",
       "    <tr>\n",
       "      <th>3</th>\n",
       "      <td>XGB</td>\n",
       "      <td>97.39</td>\n",
       "      <td>96.99</td>\n",
       "      <td>84.03</td>\n",
       "      <td>92.79</td>\n",
       "    </tr>\n",
       "  </tbody>\n",
       "</table>\n",
       "</div>"
      ],
      "text/plain": [
       "  model accuracy precision recall roc_auc\n",
       "0    Lr    86.61      57.7  18.39   82.35\n",
       "1    Rf    97.36     97.67  83.35   92.88\n",
       "2    GB    97.39     96.63   84.8   92.57\n",
       "3   XGB    97.39     96.99  84.03   92.79"
      ]
     },
     "execution_count": 181,
     "metadata": {},
     "output_type": "execute_result"
    }
   ],
   "source": [
    "%%time\n",
    "judge.get_final_performance(5,5,metric_to_optimize=\"accuracy\")"
   ]
  },
  {
   "cell_type": "markdown",
   "id": "7ef1a74e",
   "metadata": {},
   "source": [
    "XGBoost seems the best model without even parameter tuning."
   ]
  },
  {
   "cell_type": "code",
   "execution_count": 225,
   "id": "6853ecc6",
   "metadata": {},
   "outputs": [],
   "source": [
    "from skopt import BayesSearchCV\n",
    "from skopt.space import Real, Categorical, Integer"
   ]
  },
  {
   "cell_type": "code",
   "execution_count": 226,
   "id": "efdb7476",
   "metadata": {},
   "outputs": [],
   "source": [
    "first_param_grid_gb = {'learning_rate': [0.1,0.5],\n",
    "                 'colsample_bylevel':[0.5,0.9,1.0],\n",
    "                'subsample' : [0.5,0.9,1.0],\n",
    "                'max_depth':[3,6,10,15]}\n"
   ]
  },
  {
   "cell_type": "code",
   "execution_count": 227,
   "id": "a7d662bc",
   "metadata": {},
   "outputs": [],
   "source": [
    "second_param_grid_gb = {'learning_rate': [0.1,0.5],\n",
    "                        'subsample': [0.9],\n",
    "                        'alpha' : [0,0.2,0.5,0.7],\n",
    "                        'lambda': [0,0.5,0.7,1],\n",
    "    \n",
    "}"
   ]
  },
  {
   "cell_type": "code",
   "execution_count": 228,
   "id": "738ef674",
   "metadata": {},
   "outputs": [],
   "source": [
    "Bayesian_space = {\n",
    "    \"subsample\" : Real(0.1,1,prior='uniform'),\n",
    "    \"colsample_bylevel\" : Real(0.1,1,prior='uniform'),\n",
    "    \"colsample_bytree\" : Real(0.1,1,prior='uniform'),\n",
    "    \"reg_alpha\": Real(1e-6, 1e+6, prior='log-uniform'),\n",
    "    \"reg_lambda\": Real(1e-6, 1e+6, prior='log-uniform'),\n",
    "    \"learning_rate\": Real(1e-6,0.1, prior='log-uniform')\n",
    "}"
   ]
  },
  {
   "cell_type": "code",
   "execution_count": null,
   "id": "abf20607",
   "metadata": {},
   "outputs": [],
   "source": [
    "from skopt import BayesSearchCV\n",
    "from skopt.space import Real, Categorical, Integer"
   ]
  },
  {
   "cell_type": "code",
   "execution_count": 239,
   "id": "53a865db",
   "metadata": {},
   "outputs": [
    {
     "data": {
      "text/html": [
       "<div>\n",
       "<style scoped>\n",
       "    .dataframe tbody tr th:only-of-type {\n",
       "        vertical-align: middle;\n",
       "    }\n",
       "\n",
       "    .dataframe tbody tr th {\n",
       "        vertical-align: top;\n",
       "    }\n",
       "\n",
       "    .dataframe thead th {\n",
       "        text-align: right;\n",
       "    }\n",
       "</style>\n",
       "<table border=\"1\" class=\"dataframe\">\n",
       "  <thead>\n",
       "    <tr style=\"text-align: right;\">\n",
       "      <th></th>\n",
       "      <th>account_length</th>\n",
       "      <th>international_plan</th>\n",
       "      <th>voice_mail_plan</th>\n",
       "      <th>number_vmail_messages</th>\n",
       "      <th>total_intl_minutes</th>\n",
       "      <th>total_intl_calls</th>\n",
       "      <th>total_intl_charge</th>\n",
       "      <th>number_customer_service_calls</th>\n",
       "      <th>total_net_minutes</th>\n",
       "      <th>total_net_calls</th>\n",
       "      <th>total_net_charge</th>\n",
       "    </tr>\n",
       "  </thead>\n",
       "  <tbody>\n",
       "    <tr>\n",
       "      <th>0</th>\n",
       "      <td>107</td>\n",
       "      <td>0</td>\n",
       "      <td>1</td>\n",
       "      <td>26</td>\n",
       "      <td>13.7</td>\n",
       "      <td>3</td>\n",
       "      <td>3.70</td>\n",
       "      <td>1</td>\n",
       "      <td>611.5</td>\n",
       "      <td>329</td>\n",
       "      <td>55.54</td>\n",
       "    </tr>\n",
       "    <tr>\n",
       "      <th>1</th>\n",
       "      <td>137</td>\n",
       "      <td>0</td>\n",
       "      <td>0</td>\n",
       "      <td>0</td>\n",
       "      <td>12.2</td>\n",
       "      <td>5</td>\n",
       "      <td>3.29</td>\n",
       "      <td>0</td>\n",
       "      <td>527.2</td>\n",
       "      <td>328</td>\n",
       "      <td>59.00</td>\n",
       "    </tr>\n",
       "    <tr>\n",
       "      <th>2</th>\n",
       "      <td>84</td>\n",
       "      <td>1</td>\n",
       "      <td>0</td>\n",
       "      <td>0</td>\n",
       "      <td>6.6</td>\n",
       "      <td>7</td>\n",
       "      <td>1.78</td>\n",
       "      <td>2</td>\n",
       "      <td>558.2</td>\n",
       "      <td>248</td>\n",
       "      <td>65.02</td>\n",
       "    </tr>\n",
       "    <tr>\n",
       "      <th>3</th>\n",
       "      <td>75</td>\n",
       "      <td>1</td>\n",
       "      <td>0</td>\n",
       "      <td>0</td>\n",
       "      <td>10.1</td>\n",
       "      <td>3</td>\n",
       "      <td>2.73</td>\n",
       "      <td>3</td>\n",
       "      <td>501.9</td>\n",
       "      <td>356</td>\n",
       "      <td>49.36</td>\n",
       "    </tr>\n",
       "    <tr>\n",
       "      <th>4</th>\n",
       "      <td>121</td>\n",
       "      <td>0</td>\n",
       "      <td>1</td>\n",
       "      <td>24</td>\n",
       "      <td>7.5</td>\n",
       "      <td>7</td>\n",
       "      <td>2.03</td>\n",
       "      <td>3</td>\n",
       "      <td>779.3</td>\n",
       "      <td>314</td>\n",
       "      <td>76.28</td>\n",
       "    </tr>\n",
       "    <tr>\n",
       "      <th>...</th>\n",
       "      <td>...</td>\n",
       "      <td>...</td>\n",
       "      <td>...</td>\n",
       "      <td>...</td>\n",
       "      <td>...</td>\n",
       "      <td>...</td>\n",
       "      <td>...</td>\n",
       "      <td>...</td>\n",
       "      <td>...</td>\n",
       "      <td>...</td>\n",
       "      <td>...</td>\n",
       "    </tr>\n",
       "    <tr>\n",
       "      <th>4245</th>\n",
       "      <td>83</td>\n",
       "      <td>0</td>\n",
       "      <td>0</td>\n",
       "      <td>0</td>\n",
       "      <td>10.3</td>\n",
       "      <td>6</td>\n",
       "      <td>2.78</td>\n",
       "      <td>0</td>\n",
       "      <td>645.8</td>\n",
       "      <td>237</td>\n",
       "      <td>62.35</td>\n",
       "    </tr>\n",
       "    <tr>\n",
       "      <th>4246</th>\n",
       "      <td>73</td>\n",
       "      <td>0</td>\n",
       "      <td>0</td>\n",
       "      <td>0</td>\n",
       "      <td>11.5</td>\n",
       "      <td>6</td>\n",
       "      <td>3.11</td>\n",
       "      <td>3</td>\n",
       "      <td>495.3</td>\n",
       "      <td>260</td>\n",
       "      <td>49.77</td>\n",
       "    </tr>\n",
       "    <tr>\n",
       "      <th>4247</th>\n",
       "      <td>75</td>\n",
       "      <td>0</td>\n",
       "      <td>0</td>\n",
       "      <td>0</td>\n",
       "      <td>6.9</td>\n",
       "      <td>7</td>\n",
       "      <td>1.86</td>\n",
       "      <td>1</td>\n",
       "      <td>492.9</td>\n",
       "      <td>331</td>\n",
       "      <td>51.24</td>\n",
       "    </tr>\n",
       "    <tr>\n",
       "      <th>4248</th>\n",
       "      <td>50</td>\n",
       "      <td>0</td>\n",
       "      <td>1</td>\n",
       "      <td>40</td>\n",
       "      <td>9.9</td>\n",
       "      <td>5</td>\n",
       "      <td>2.67</td>\n",
       "      <td>2</td>\n",
       "      <td>756.2</td>\n",
       "      <td>369</td>\n",
       "      <td>72.42</td>\n",
       "    </tr>\n",
       "    <tr>\n",
       "      <th>4249</th>\n",
       "      <td>86</td>\n",
       "      <td>0</td>\n",
       "      <td>1</td>\n",
       "      <td>34</td>\n",
       "      <td>9.3</td>\n",
       "      <td>16</td>\n",
       "      <td>2.51</td>\n",
       "      <td>0</td>\n",
       "      <td>551.3</td>\n",
       "      <td>306</td>\n",
       "      <td>51.67</td>\n",
       "    </tr>\n",
       "  </tbody>\n",
       "</table>\n",
       "<p>4250 rows × 11 columns</p>\n",
       "</div>"
      ],
      "text/plain": [
       "      account_length  international_plan  voice_mail_plan  \\\n",
       "0                107                   0                1   \n",
       "1                137                   0                0   \n",
       "2                 84                   1                0   \n",
       "3                 75                   1                0   \n",
       "4                121                   0                1   \n",
       "...              ...                 ...              ...   \n",
       "4245              83                   0                0   \n",
       "4246              73                   0                0   \n",
       "4247              75                   0                0   \n",
       "4248              50                   0                1   \n",
       "4249              86                   0                1   \n",
       "\n",
       "      number_vmail_messages  total_intl_minutes  total_intl_calls  \\\n",
       "0                        26                13.7                 3   \n",
       "1                         0                12.2                 5   \n",
       "2                         0                 6.6                 7   \n",
       "3                         0                10.1                 3   \n",
       "4                        24                 7.5                 7   \n",
       "...                     ...                 ...               ...   \n",
       "4245                      0                10.3                 6   \n",
       "4246                      0                11.5                 6   \n",
       "4247                      0                 6.9                 7   \n",
       "4248                     40                 9.9                 5   \n",
       "4249                     34                 9.3                16   \n",
       "\n",
       "      total_intl_charge  number_customer_service_calls  total_net_minutes  \\\n",
       "0                  3.70                              1              611.5   \n",
       "1                  3.29                              0              527.2   \n",
       "2                  1.78                              2              558.2   \n",
       "3                  2.73                              3              501.9   \n",
       "4                  2.03                              3              779.3   \n",
       "...                 ...                            ...                ...   \n",
       "4245               2.78                              0              645.8   \n",
       "4246               3.11                              3              495.3   \n",
       "4247               1.86                              1              492.9   \n",
       "4248               2.67                              2              756.2   \n",
       "4249               2.51                              0              551.3   \n",
       "\n",
       "      total_net_calls  total_net_charge  \n",
       "0                 329             55.54  \n",
       "1                 328             59.00  \n",
       "2                 248             65.02  \n",
       "3                 356             49.36  \n",
       "4                 314             76.28  \n",
       "...               ...               ...  \n",
       "4245              237             62.35  \n",
       "4246              260             49.77  \n",
       "4247              331             51.24  \n",
       "4248              369             72.42  \n",
       "4249              306             51.67  \n",
       "\n",
       "[4250 rows x 11 columns]"
      ]
     },
     "execution_count": 239,
     "metadata": {},
     "output_type": "execute_result"
    }
   ],
   "source": [
    "X"
   ]
  },
  {
   "cell_type": "code",
   "execution_count": 241,
   "id": "51480b63",
   "metadata": {},
   "outputs": [
    {
     "data": {
      "text/plain": [
       "BayesSearchCV(cv=6,\n",
       "              estimator=XGBClassifier(base_score=None, booster=None,\n",
       "                                      colsample_bylevel=None,\n",
       "                                      colsample_bynode=None,\n",
       "                                      colsample_bytree=None,\n",
       "                                      enable_categorical=False,\n",
       "                                      eval_metric='logloss', gamma=None,\n",
       "                                      gpu_id=None, importance_type=None,\n",
       "                                      interaction_constraints=None,\n",
       "                                      learning_rate=None, max_delta_step=None,\n",
       "                                      max_depth=None, min_child_weight=None,\n",
       "                                      missing=nan, mon...\n",
       "                             'colsample_bytree': Real(low=0.1, high=1, prior='uniform', transform='normalize'),\n",
       "                             'learning_rate': Real(low=1e-06, high=0.1, prior='log-uniform', transform='normalize'),\n",
       "                             'reg_alpha': Real(low=1e-06, high=1000000.0, prior='log-uniform', transform='normalize'),\n",
       "                             'reg_lambda': Real(low=1e-06, high=1000000.0, prior='log-uniform', transform='normalize'),\n",
       "                             'subsample': Real(low=0.1, high=1, prior='uniform', transform='normalize')})"
      ]
     },
     "execution_count": 241,
     "metadata": {},
     "output_type": "execute_result"
    }
   ],
   "source": [
    "clf = BayesSearchCV(XGBClassifier(use_label_encoder=False,eval_metric=\"logloss\"),search_spaces=Bayesian_space,n_iter=32,cv=6)\n",
    "clf.fit(X,y)"
   ]
  },
  {
   "cell_type": "code",
   "execution_count": 242,
   "id": "dafadff2",
   "metadata": {},
   "outputs": [
    {
     "data": {
      "text/plain": [
       "OrderedDict([('colsample_bylevel', 0.39190683238318913),\n",
       "             ('colsample_bytree', 1.0),\n",
       "             ('learning_rate', 0.1),\n",
       "             ('reg_alpha', 0.00014205061853819498),\n",
       "             ('reg_lambda', 1e-06),\n",
       "             ('subsample', 0.5114293932576559)])"
      ]
     },
     "execution_count": 242,
     "metadata": {},
     "output_type": "execute_result"
    }
   ],
   "source": [
    "clf.best_params_"
   ]
  },
  {
   "cell_type": "code",
   "execution_count": 251,
   "id": "38665a97",
   "metadata": {},
   "outputs": [],
   "source": [
    "xgb_clf = XGBClassifier(use_label_encoder=False,eval_metric=\"logloss\",colsample_bylevel =  0.39190683238318913,\n",
    "              colsample_bytree = 1.0,\n",
    "              learning_rate= 0.1,\n",
    "              reg_alpha =  0.00014205061853819498,\n",
    "              reg_lambda = 1e-06,\n",
    "              subsample = 0.5114293932576559)"
   ]
  },
  {
   "cell_type": "code",
   "execution_count": 256,
   "id": "09160d72",
   "metadata": {},
   "outputs": [
    {
     "name": "stdout",
     "output_type": "stream",
     "text": [
      "0.9750600299087068\n"
     ]
    }
   ],
   "source": [
    "#parameters search with bayesian \n",
    "cvl = cross_validate(xgb_clf,X,y,scoring = \"accuracy\",cv=6)\n",
    "print(cvl[\"test_score\"].mean())"
   ]
  },
  {
   "cell_type": "code",
   "execution_count": 257,
   "id": "9daa7860",
   "metadata": {},
   "outputs": [
    {
     "data": {
      "text/plain": [
       "array([0.97602257, 0.96897038, 0.97316384, 0.98022599, 0.96751412,\n",
       "       0.98446328])"
      ]
     },
     "execution_count": 257,
     "metadata": {},
     "output_type": "execute_result"
    }
   ],
   "source": [
    "cvl[\"test_score\"]"
   ]
  },
  {
   "cell_type": "code",
   "execution_count": 254,
   "id": "b32432ad",
   "metadata": {},
   "outputs": [
    {
     "data": {
      "text/plain": [
       "0.9750600299087068"
      ]
     },
     "execution_count": 254,
     "metadata": {},
     "output_type": "execute_result"
    }
   ],
   "source": [
    "cvl[\"test_score\"].mean()"
   ]
  },
  {
   "cell_type": "code",
   "execution_count": 246,
   "id": "3eab3664",
   "metadata": {},
   "outputs": [],
   "source": [
    "clf_no_params = XGBClassifier(use_label_encoder=False,eval_metric=\"logloss\")"
   ]
  },
  {
   "cell_type": "code",
   "execution_count": 247,
   "id": "639c71a8",
   "metadata": {},
   "outputs": [
    {
     "name": "stdout",
     "output_type": "stream",
     "text": [
      "[0.97461213 0.96897038 0.97175141 0.98022599 0.97033898 0.98163842]\n"
     ]
    }
   ],
   "source": [
    "cvl_fitted = cross_val_score(clf_no_params,X,y,cv=6)\n",
    "print(cvl_fitted)"
   ]
  },
  {
   "cell_type": "code",
   "execution_count": 261,
   "id": "48196f76",
   "metadata": {},
   "outputs": [],
   "source": [
    "#Let's prepare the model\n",
    "xgb_clf = XGBClassifier(use_label_encoder=False,eval_metric=\"logloss\",colsample_bylevel =  0.39190683238318913,\n",
    "              colsample_bytree = 1.0,\n",
    "              learning_rate= 0.1,\n",
    "              reg_alpha =  0.00014205061853819498,\n",
    "              reg_lambda = 1e-06,\n",
    "              subsample = 0.5114293932576559)\n",
    "\n",
    "final_model = xgb_clf.fit(X,y)\n"
   ]
  },
  {
   "cell_type": "code",
   "execution_count": 262,
   "id": "c18b43dc",
   "metadata": {},
   "outputs": [],
   "source": [
    "# Saving the model\n",
    "import pickle\n",
    "filename = \"final_model_churn_dataset\"\n",
    "pickle.dump(final_model,open(filename,\"wb\"))"
   ]
  },
  {
   "cell_type": "markdown",
   "id": "e2046b16",
   "metadata": {},
   "source": [
    "# Test Real Predictions"
   ]
  },
  {
   "cell_type": "code",
   "execution_count": 271,
   "id": "87576a55",
   "metadata": {},
   "outputs": [],
   "source": [
    "#loading the test data\n",
    "test_final_data = pd.read_csv(\"C:/Users/Antonio95/slides-main/test.csv\")"
   ]
  },
  {
   "cell_type": "code",
   "execution_count": 272,
   "id": "0f774e25",
   "metadata": {},
   "outputs": [
    {
     "data": {
      "text/html": [
       "<div>\n",
       "<style scoped>\n",
       "    .dataframe tbody tr th:only-of-type {\n",
       "        vertical-align: middle;\n",
       "    }\n",
       "\n",
       "    .dataframe tbody tr th {\n",
       "        vertical-align: top;\n",
       "    }\n",
       "\n",
       "    .dataframe thead th {\n",
       "        text-align: right;\n",
       "    }\n",
       "</style>\n",
       "<table border=\"1\" class=\"dataframe\">\n",
       "  <thead>\n",
       "    <tr style=\"text-align: right;\">\n",
       "      <th></th>\n",
       "      <th>id</th>\n",
       "      <th>state</th>\n",
       "      <th>account_length</th>\n",
       "      <th>area_code</th>\n",
       "      <th>international_plan</th>\n",
       "      <th>voice_mail_plan</th>\n",
       "      <th>number_vmail_messages</th>\n",
       "      <th>total_day_minutes</th>\n",
       "      <th>total_day_calls</th>\n",
       "      <th>total_day_charge</th>\n",
       "      <th>total_eve_minutes</th>\n",
       "      <th>total_eve_calls</th>\n",
       "      <th>total_eve_charge</th>\n",
       "      <th>total_night_minutes</th>\n",
       "      <th>total_night_calls</th>\n",
       "      <th>total_night_charge</th>\n",
       "      <th>total_intl_minutes</th>\n",
       "      <th>total_intl_calls</th>\n",
       "      <th>total_intl_charge</th>\n",
       "      <th>number_customer_service_calls</th>\n",
       "    </tr>\n",
       "  </thead>\n",
       "  <tbody>\n",
       "    <tr>\n",
       "      <th>0</th>\n",
       "      <td>1</td>\n",
       "      <td>KS</td>\n",
       "      <td>128</td>\n",
       "      <td>area_code_415</td>\n",
       "      <td>no</td>\n",
       "      <td>yes</td>\n",
       "      <td>25</td>\n",
       "      <td>265.1</td>\n",
       "      <td>110</td>\n",
       "      <td>45.07</td>\n",
       "      <td>197.4</td>\n",
       "      <td>99</td>\n",
       "      <td>16.78</td>\n",
       "      <td>244.7</td>\n",
       "      <td>91</td>\n",
       "      <td>11.01</td>\n",
       "      <td>10.0</td>\n",
       "      <td>3</td>\n",
       "      <td>2.70</td>\n",
       "      <td>1</td>\n",
       "    </tr>\n",
       "    <tr>\n",
       "      <th>1</th>\n",
       "      <td>2</td>\n",
       "      <td>AL</td>\n",
       "      <td>118</td>\n",
       "      <td>area_code_510</td>\n",
       "      <td>yes</td>\n",
       "      <td>no</td>\n",
       "      <td>0</td>\n",
       "      <td>223.4</td>\n",
       "      <td>98</td>\n",
       "      <td>37.98</td>\n",
       "      <td>220.6</td>\n",
       "      <td>101</td>\n",
       "      <td>18.75</td>\n",
       "      <td>203.9</td>\n",
       "      <td>118</td>\n",
       "      <td>9.18</td>\n",
       "      <td>6.3</td>\n",
       "      <td>6</td>\n",
       "      <td>1.70</td>\n",
       "      <td>0</td>\n",
       "    </tr>\n",
       "    <tr>\n",
       "      <th>2</th>\n",
       "      <td>3</td>\n",
       "      <td>IA</td>\n",
       "      <td>62</td>\n",
       "      <td>area_code_415</td>\n",
       "      <td>no</td>\n",
       "      <td>no</td>\n",
       "      <td>0</td>\n",
       "      <td>120.7</td>\n",
       "      <td>70</td>\n",
       "      <td>20.52</td>\n",
       "      <td>307.2</td>\n",
       "      <td>76</td>\n",
       "      <td>26.11</td>\n",
       "      <td>203.0</td>\n",
       "      <td>99</td>\n",
       "      <td>9.14</td>\n",
       "      <td>13.1</td>\n",
       "      <td>6</td>\n",
       "      <td>3.54</td>\n",
       "      <td>4</td>\n",
       "    </tr>\n",
       "    <tr>\n",
       "      <th>3</th>\n",
       "      <td>4</td>\n",
       "      <td>VT</td>\n",
       "      <td>93</td>\n",
       "      <td>area_code_510</td>\n",
       "      <td>no</td>\n",
       "      <td>no</td>\n",
       "      <td>0</td>\n",
       "      <td>190.7</td>\n",
       "      <td>114</td>\n",
       "      <td>32.42</td>\n",
       "      <td>218.2</td>\n",
       "      <td>111</td>\n",
       "      <td>18.55</td>\n",
       "      <td>129.6</td>\n",
       "      <td>121</td>\n",
       "      <td>5.83</td>\n",
       "      <td>8.1</td>\n",
       "      <td>3</td>\n",
       "      <td>2.19</td>\n",
       "      <td>3</td>\n",
       "    </tr>\n",
       "    <tr>\n",
       "      <th>4</th>\n",
       "      <td>5</td>\n",
       "      <td>NE</td>\n",
       "      <td>174</td>\n",
       "      <td>area_code_415</td>\n",
       "      <td>no</td>\n",
       "      <td>no</td>\n",
       "      <td>0</td>\n",
       "      <td>124.3</td>\n",
       "      <td>76</td>\n",
       "      <td>21.13</td>\n",
       "      <td>277.1</td>\n",
       "      <td>112</td>\n",
       "      <td>23.55</td>\n",
       "      <td>250.7</td>\n",
       "      <td>115</td>\n",
       "      <td>11.28</td>\n",
       "      <td>15.5</td>\n",
       "      <td>5</td>\n",
       "      <td>4.19</td>\n",
       "      <td>3</td>\n",
       "    </tr>\n",
       "  </tbody>\n",
       "</table>\n",
       "</div>"
      ],
      "text/plain": [
       "   id state  account_length      area_code international_plan voice_mail_plan  \\\n",
       "0   1    KS             128  area_code_415                 no             yes   \n",
       "1   2    AL             118  area_code_510                yes              no   \n",
       "2   3    IA              62  area_code_415                 no              no   \n",
       "3   4    VT              93  area_code_510                 no              no   \n",
       "4   5    NE             174  area_code_415                 no              no   \n",
       "\n",
       "   number_vmail_messages  total_day_minutes  total_day_calls  \\\n",
       "0                     25              265.1              110   \n",
       "1                      0              223.4               98   \n",
       "2                      0              120.7               70   \n",
       "3                      0              190.7              114   \n",
       "4                      0              124.3               76   \n",
       "\n",
       "   total_day_charge  total_eve_minutes  total_eve_calls  total_eve_charge  \\\n",
       "0             45.07              197.4               99             16.78   \n",
       "1             37.98              220.6              101             18.75   \n",
       "2             20.52              307.2               76             26.11   \n",
       "3             32.42              218.2              111             18.55   \n",
       "4             21.13              277.1              112             23.55   \n",
       "\n",
       "   total_night_minutes  total_night_calls  total_night_charge  \\\n",
       "0                244.7                 91               11.01   \n",
       "1                203.9                118                9.18   \n",
       "2                203.0                 99                9.14   \n",
       "3                129.6                121                5.83   \n",
       "4                250.7                115               11.28   \n",
       "\n",
       "   total_intl_minutes  total_intl_calls  total_intl_charge  \\\n",
       "0                10.0                 3               2.70   \n",
       "1                 6.3                 6               1.70   \n",
       "2                13.1                 6               3.54   \n",
       "3                 8.1                 3               2.19   \n",
       "4                15.5                 5               4.19   \n",
       "\n",
       "   number_customer_service_calls  \n",
       "0                              1  \n",
       "1                              0  \n",
       "2                              4  \n",
       "3                              3  \n",
       "4                              3  "
      ]
     },
     "execution_count": 272,
     "metadata": {},
     "output_type": "execute_result"
    }
   ],
   "source": [
    "test_final_data.head(5)"
   ]
  },
  {
   "cell_type": "code",
   "execution_count": null,
   "id": "49330ab8",
   "metadata": {},
   "outputs": [],
   "source": []
  },
  {
   "cell_type": "markdown",
   "id": "5213da98",
   "metadata": {},
   "source": [
    "Preprocess the data."
   ]
  },
  {
   "cell_type": "code",
   "execution_count": 273,
   "id": "65fda9d6",
   "metadata": {},
   "outputs": [
    {
     "data": {
      "text/plain": [
       "0      11.01\n",
       "1       9.18\n",
       "2       9.14\n",
       "3       5.83\n",
       "4      11.28\n",
       "       ...  \n",
       "745     9.12\n",
       "746    10.88\n",
       "747     9.61\n",
       "748     9.56\n",
       "749    10.10\n",
       "Name: total_night_charge, Length: 750, dtype: float64"
      ]
     },
     "execution_count": 273,
     "metadata": {},
     "output_type": "execute_result"
    }
   ],
   "source": [
    "#Same to test\n",
    "#Feature engineering \n",
    "test_final_data[\"total_net_minutes\"] = test_final_data[\"total_day_minutes\"] + test_final_data[\"total_eve_minutes\"] \n",
    "+ test_final_data[\"total_night_minutes\"]\n",
    "test_final_data[\"total_net_calls\"] = test_final_data[\"total_day_calls\"] + test_final_data[\"total_eve_calls\"] \n",
    "+ test_final_data[\"total_night_calls\"]\n",
    "test_final_data[\"total_net_charge\"] = test_final_data[\"total_day_charge\"] + test_final_data[\"total_eve_charge\"] \n",
    "+ test_final_data[\"total_night_charge\"]"
   ]
  },
  {
   "cell_type": "code",
   "execution_count": 274,
   "id": "a242bc50",
   "metadata": {},
   "outputs": [],
   "source": [
    "test_final_data = test_final_data.drop(columns=[\"total_day_minutes\",\"total_eve_minutes\",\"total_night_minutes\",\"total_day_calls\",\"total_eve_calls\",\n",
    "                     \"total_night_calls\",\"total_day_charge\",\"total_eve_charge\",\"total_night_charge\"])"
   ]
  },
  {
   "cell_type": "code",
   "execution_count": 276,
   "id": "28f43e86",
   "metadata": {},
   "outputs": [],
   "source": [
    "Replace_yes_and_no(test_final_data,columns=[\"international_plan\",\"voice_mail_plan\"])"
   ]
  },
  {
   "cell_type": "code",
   "execution_count": 277,
   "id": "19ce3f61",
   "metadata": {},
   "outputs": [],
   "source": [
    "test_final_data = test_final_data.drop(columns=[\"state\",\"area_code\"])"
   ]
  },
  {
   "cell_type": "code",
   "execution_count": 280,
   "id": "d8f98237",
   "metadata": {},
   "outputs": [],
   "source": [
    "test_final_data_id = test_final_data[\"id\"]\n",
    "test_final_data = test_final_data.drop(columns=[\"id\"])"
   ]
  },
  {
   "cell_type": "code",
   "execution_count": 281,
   "id": "632e5763",
   "metadata": {},
   "outputs": [],
   "source": [
    "predictions = final_model.predict(test_final_data)"
   ]
  },
  {
   "cell_type": "code",
   "execution_count": 291,
   "id": "543e4b9e",
   "metadata": {},
   "outputs": [
    {
     "data": {
      "text/plain": [
       "array([0, 0, 1, 0, 0, 0, 0, 0, 0, 1, 1, 0, 0, 0, 0, 0, 0, 0, 0, 0, 0, 0,\n",
       "       1, 0, 0, 0, 0, 0, 0, 0, 0, 0, 0, 0, 0, 0, 0, 1, 0, 0, 0, 0, 0, 0,\n",
       "       0, 0, 0, 0, 0, 0, 1, 0, 0, 0, 1, 0, 0, 0, 1, 0, 0, 0, 1, 0, 0, 0,\n",
       "       0, 0, 0, 0, 1, 0, 0, 0, 0, 0, 0, 0, 0, 0, 0, 0, 0, 0, 0, 0, 0, 0,\n",
       "       0, 0, 0, 0, 0, 1, 0, 0, 0, 0, 0, 1, 0, 0, 0, 0, 1, 0, 0, 0, 0, 0,\n",
       "       0, 0, 0, 0, 0, 0, 0, 0, 1, 0, 0, 1, 0, 0, 0, 0, 0, 0, 0, 0, 0, 0,\n",
       "       0, 0, 0, 0, 0, 0, 0, 0, 0, 1, 0, 0, 0, 0, 0, 0, 0, 1, 0, 0, 0, 0,\n",
       "       0, 0, 0, 0, 0, 0, 0, 0, 0, 0, 0, 0, 0, 0, 0, 0, 0, 0, 0, 0, 0, 0,\n",
       "       1, 0, 0, 0, 0, 0, 0, 1, 0, 0, 1, 0, 0, 0, 0, 0, 0, 0, 0, 0, 0, 0,\n",
       "       0, 1, 1, 1, 0, 1, 0, 0, 0, 0, 0, 0, 0, 0, 1, 0, 0, 0, 0, 0, 0, 1,\n",
       "       0, 0, 0, 0, 0, 0, 0, 1, 0, 0, 0, 0, 1, 0, 0, 0, 0, 0, 0, 0, 0, 1,\n",
       "       0, 0, 0, 0, 0, 0, 0, 0, 0, 0, 0, 0, 0, 0, 0, 0, 0, 0, 0, 0, 0, 0,\n",
       "       0, 0, 0, 0, 1, 1, 0, 0, 0, 1, 0, 0, 0, 0, 0, 0, 0, 0, 0, 0, 0, 0,\n",
       "       0, 0, 0, 0, 0, 0, 0, 0, 0, 0, 0, 0, 0, 0, 0, 0, 1, 0, 0, 1, 0, 0,\n",
       "       0, 0, 0, 0, 0, 0, 0, 0, 0, 0, 1, 0, 0, 0, 0, 1, 0, 0, 0, 0, 0, 0,\n",
       "       0, 0, 0, 0, 0, 0, 0, 0, 0, 0, 0, 0, 0, 0, 0, 0, 0, 0, 0, 0, 0, 0,\n",
       "       0, 0, 0, 1, 0, 0, 0, 0, 0, 0, 1, 0, 0, 0, 0, 1, 0, 0, 1, 0, 0, 0,\n",
       "       0, 0, 0, 0, 0, 0, 0, 0, 0, 1, 0, 0, 0, 0, 0, 0, 1, 0, 0, 0, 0, 0,\n",
       "       0, 1, 0, 1, 0, 0, 0, 0, 1, 0, 0, 0, 0, 1, 0, 0, 0, 0, 0, 0, 1, 1,\n",
       "       0, 0, 0, 0, 0, 0, 0, 0, 1, 0, 0, 0, 0, 0, 0, 0, 0, 0, 0, 0, 0, 0,\n",
       "       0, 0, 0, 0, 1, 0, 0, 0, 0, 0, 0, 0, 0, 1, 1, 0, 0, 0, 0, 0, 0, 0,\n",
       "       0, 0, 0, 0, 0, 0, 0, 0, 0, 0, 0, 0, 0, 0, 1, 0, 0, 0, 0, 0, 0, 0,\n",
       "       0, 0, 0, 0, 0, 1, 0, 0, 0, 0, 0, 0, 0, 0, 0, 0, 0, 0, 0, 0, 0, 0,\n",
       "       0, 0, 0, 0, 0, 0, 0, 0, 0, 0, 0, 0, 0, 0, 0, 0, 0, 0, 0, 0, 1, 0,\n",
       "       0, 0, 0, 0, 0, 0, 1, 1, 0, 0, 0, 0, 0, 0, 0, 0, 0, 0, 0, 0, 0, 1,\n",
       "       0, 0, 0, 0, 0, 0, 0, 0, 0, 0, 0, 1, 0, 0, 1, 0, 0, 0, 0, 0, 0, 1,\n",
       "       0, 0, 0, 0, 0, 0, 0, 0, 0, 0, 0, 0, 0, 0, 0, 0, 0, 0, 0, 0, 0, 1,\n",
       "       0, 1, 0, 1, 0, 0, 0, 0, 0, 0, 0, 0, 0, 0, 0, 0, 0, 1, 0, 0, 0, 0,\n",
       "       0, 0, 0, 1, 0, 0, 0, 0, 0, 1, 0, 0, 1, 0, 0, 0, 0, 0, 0, 1, 0, 0,\n",
       "       0, 0, 0, 0, 0, 0, 0, 1, 0, 1, 0, 0, 1, 0, 0, 0, 0, 0, 1, 1, 0, 1,\n",
       "       0, 0, 1, 0, 0, 0, 0, 0, 0, 0, 0, 0, 0, 0, 0, 1, 0, 0, 0, 0, 0, 0,\n",
       "       0, 0, 1, 0, 0, 0, 0, 0, 0, 1, 0, 0, 0, 0, 0, 0, 1, 0, 0, 0, 0, 0,\n",
       "       0, 0, 0, 0, 0, 0, 0, 0, 1, 0, 0, 0, 0, 0, 0, 0, 0, 0, 0, 0, 0, 0,\n",
       "       0, 0, 0, 0, 0, 0, 0, 0, 0, 0, 0, 0, 0, 0, 0, 0, 0, 0, 0, 0, 0, 0,\n",
       "       0, 0])"
      ]
     },
     "execution_count": 291,
     "metadata": {},
     "output_type": "execute_result"
    }
   ],
   "source": [
    "predictions"
   ]
  },
  {
   "cell_type": "code",
   "execution_count": 328,
   "id": "de325aa0",
   "metadata": {},
   "outputs": [],
   "source": [
    "predictions_dataframe = pd.DataFrame(data=np.array([test_final_data_id,predictions_series]).T,columns=[\"ID\",\"Predictions\"])\n",
    "predictions_dataframe.to_csv('Customer_churn_predictions.csv',sep=\",\",index=False)"
   ]
  },
  {
   "cell_type": "code",
   "execution_count": 326,
   "id": "62b18f2c",
   "metadata": {},
   "outputs": [
    {
     "data": {
      "text/html": [
       "<div>\n",
       "<style scoped>\n",
       "    .dataframe tbody tr th:only-of-type {\n",
       "        vertical-align: middle;\n",
       "    }\n",
       "\n",
       "    .dataframe tbody tr th {\n",
       "        vertical-align: top;\n",
       "    }\n",
       "\n",
       "    .dataframe thead th {\n",
       "        text-align: right;\n",
       "    }\n",
       "</style>\n",
       "<table border=\"1\" class=\"dataframe\">\n",
       "  <thead>\n",
       "    <tr style=\"text-align: right;\">\n",
       "      <th></th>\n",
       "      <th>ID</th>\n",
       "      <th>Predictions</th>\n",
       "    </tr>\n",
       "  </thead>\n",
       "  <tbody>\n",
       "    <tr>\n",
       "      <th>0</th>\n",
       "      <td>1</td>\n",
       "      <td>0</td>\n",
       "    </tr>\n",
       "    <tr>\n",
       "      <th>1</th>\n",
       "      <td>2</td>\n",
       "      <td>0</td>\n",
       "    </tr>\n",
       "    <tr>\n",
       "      <th>2</th>\n",
       "      <td>3</td>\n",
       "      <td>1</td>\n",
       "    </tr>\n",
       "    <tr>\n",
       "      <th>3</th>\n",
       "      <td>4</td>\n",
       "      <td>0</td>\n",
       "    </tr>\n",
       "    <tr>\n",
       "      <th>4</th>\n",
       "      <td>5</td>\n",
       "      <td>0</td>\n",
       "    </tr>\n",
       "    <tr>\n",
       "      <th>...</th>\n",
       "      <td>...</td>\n",
       "      <td>...</td>\n",
       "    </tr>\n",
       "    <tr>\n",
       "      <th>745</th>\n",
       "      <td>746</td>\n",
       "      <td>0</td>\n",
       "    </tr>\n",
       "    <tr>\n",
       "      <th>746</th>\n",
       "      <td>747</td>\n",
       "      <td>0</td>\n",
       "    </tr>\n",
       "    <tr>\n",
       "      <th>747</th>\n",
       "      <td>748</td>\n",
       "      <td>0</td>\n",
       "    </tr>\n",
       "    <tr>\n",
       "      <th>748</th>\n",
       "      <td>749</td>\n",
       "      <td>0</td>\n",
       "    </tr>\n",
       "    <tr>\n",
       "      <th>749</th>\n",
       "      <td>750</td>\n",
       "      <td>0</td>\n",
       "    </tr>\n",
       "  </tbody>\n",
       "</table>\n",
       "<p>750 rows × 2 columns</p>\n",
       "</div>"
      ],
      "text/plain": [
       "      ID  Predictions\n",
       "0      1            0\n",
       "1      2            0\n",
       "2      3            1\n",
       "3      4            0\n",
       "4      5            0\n",
       "..   ...          ...\n",
       "745  746            0\n",
       "746  747            0\n",
       "747  748            0\n",
       "748  749            0\n",
       "749  750            0\n",
       "\n",
       "[750 rows x 2 columns]"
      ]
     },
     "execution_count": 326,
     "metadata": {},
     "output_type": "execute_result"
    }
   ],
   "source": [
    "predictions_dataframe"
   ]
  },
  {
   "cell_type": "markdown",
   "id": "0f5660a6",
   "metadata": {},
   "source": [
    "# Stacking Ensemble model"
   ]
  },
  {
   "cell_type": "markdown",
   "id": "f82fe9c9",
   "metadata": {},
   "source": [
    "## First model: knn"
   ]
  },
  {
   "cell_type": "code",
   "execution_count": 332,
   "id": "0a5f1620",
   "metadata": {},
   "outputs": [],
   "source": [
    "# Normalizing values\n",
    "X_std = StandardScaler().fit_transform(X)"
   ]
  },
  {
   "cell_type": "code",
   "execution_count": 333,
   "id": "b677b8e5",
   "metadata": {},
   "outputs": [
    {
     "name": "stdout",
     "output_type": "stream",
     "text": [
      "0.9178808778178863\n"
     ]
    }
   ],
   "source": [
    "#See how it performs with default parameters\n",
    "knn = KNeighborsClassifier()\n",
    "knn_cvl = cross_validate(knn,X_std,y,scoring=\"accuracy\",cv=KFold(n_splits=6,shuffle=True))\n",
    "print(knn_cvl[\"test_score\"].mean())"
   ]
  },
  {
   "cell_type": "code",
   "execution_count": 336,
   "id": "46612464",
   "metadata": {},
   "outputs": [
    {
     "name": "stdout",
     "output_type": "stream",
     "text": [
      "{'leaf_size': 10, 'n_neighbors': 5, 'p': 1}\n"
     ]
    }
   ],
   "source": [
    "params_knn = {\n",
    "    \"n_neighbors\": [3,5,10,15],\n",
    "    \"leaf_size\" : [10,20,30,50],\n",
    "    \"p\" : [1,2]\n",
    "}\n",
    "\n",
    "knn = KNeighborsClassifier()\n",
    "knn_clf = GridSearchCV(estimator=knn,param_grid=params_knn,scoring=\"accuracy\",cv=6)\n",
    "knn_clf.fit(X_std,y)\n",
    "\n",
    "print(knn_clf.best_params_)"
   ]
  },
  {
   "cell_type": "code",
   "execution_count": 337,
   "id": "d8db3885",
   "metadata": {},
   "outputs": [
    {
     "name": "stdout",
     "output_type": "stream",
     "text": [
      "0.9256462511853251\n"
     ]
    }
   ],
   "source": [
    "knn = KNeighborsClassifier(n_neighbors=5,leaf_size=10,p=1)\n",
    "knn_cvl = cross_val_score(knn,X_std,y,cv=KFold(n_splits=6,shuffle=True))\n",
    "print(np.mean(knn_cvl))"
   ]
  },
  {
   "cell_type": "markdown",
   "id": "165bcffa",
   "metadata": {},
   "source": [
    "## Second model: Random forest"
   ]
  },
  {
   "cell_type": "code",
   "execution_count": 338,
   "id": "0f44f5c6",
   "metadata": {},
   "outputs": [
    {
     "name": "stdout",
     "output_type": "stream",
     "text": [
      "0.9738806812597781\n"
     ]
    }
   ],
   "source": [
    "rf = RandomForestClassifier(bootstrap=False,max_depth=50,min_samples_split=10,min_samples_leaf=1,n_estimators=100)\n",
    "rf_cvl = cross_val_score(rf,X_std,y,cv=KFold(n_splits=6,shuffle=True))\n",
    "print(np.mean(rf_cvl))"
   ]
  },
  {
   "cell_type": "code",
   "execution_count": null,
   "id": "46e534ce",
   "metadata": {},
   "outputs": [],
   "source": [
    "rf = RandomForestClassifier()\n",
    "\n",
    "params_RF = {'bootstrap': [True,False],\n",
    "     'max_depth': [10, 20, 30, 40, 50],\n",
    "     'min_samples_leaf': [1, 2, 4],\n",
    "     'min_samples_split': [2, 5, 10],\n",
    "     'n_estimators': [100,200]}\n",
    "\n",
    "rf_clf = GridSearchCV(estimator=rf,param_grid=params_RF,scoring=\"accuracy\",cv=KFold(n_splits=4,shuffle=True))\n",
    "rf_clf.fit(X_norm_1,y)\n",
    "\n",
    "print(rf_clf.best_params_)\n"
   ]
  },
  {
   "cell_type": "markdown",
   "id": "a9a68528",
   "metadata": {},
   "source": [
    "# Third model: Perceptron Neural Network"
   ]
  },
  {
   "cell_type": "code",
   "execution_count": 349,
   "id": "6ce396f9",
   "metadata": {},
   "outputs": [
    {
     "name": "stdout",
     "output_type": "stream",
     "text": [
      "0.9567017682261163\n"
     ]
    }
   ],
   "source": [
    "MLP = MLPClassifier(activation=\"relu\",solver=\"adam\",learning_rate_init=0.085,max_iter=500)\n",
    "mlp_cvl = cross_val_score(MLP,X_std,y,cv=KFold(n_splits=6,shuffle=True))\n",
    "\n",
    "print(np.mean(mlp_cvl))"
   ]
  },
  {
   "cell_type": "code",
   "execution_count": 350,
   "id": "3ad9b130",
   "metadata": {},
   "outputs": [
    {
     "data": {
      "text/plain": [
       "array([0.96191819, 0.96897038, 0.96045198, 0.9420904 , 0.9519774 ,\n",
       "       0.95480226])"
      ]
     },
     "execution_count": 350,
     "metadata": {},
     "output_type": "execute_result"
    }
   ],
   "source": [
    "mlp_cvl"
   ]
  },
  {
   "cell_type": "markdown",
   "id": "de8e5f1f",
   "metadata": {},
   "source": [
    "# Fourth model: XGBoost"
   ]
  },
  {
   "cell_type": "code",
   "execution_count": 342,
   "id": "4fad6bea",
   "metadata": {},
   "outputs": [
    {
     "name": "stdout",
     "output_type": "stream",
     "text": [
      "0.9745895521396943\n"
     ]
    }
   ],
   "source": [
    "xgb_clf= XGBClassifier(use_label_encoder=False,eval_metric=\"logloss\",colsample_bylevel = 0.39190683238318913,\n",
    "              colsample_bytree = 1.0,\n",
    "              learning_rate= 0.1,\n",
    "              reg_alpha =  0.00014205061853819498,\n",
    "              reg_lambda = 1e-06,\n",
    "              subsample = 0.5114293932576559)\n",
    "xgb_cvl = cross_validate(xgb_clf,X_std,y,scoring=\"accuracy\",cv=6)\n",
    "print(xgb_cvl[\"test_score\"].mean())"
   ]
  },
  {
   "cell_type": "code",
   "execution_count": 343,
   "id": "8886885e",
   "metadata": {},
   "outputs": [
    {
     "data": {
      "text/plain": [
       "array([0.97602257, 0.96755994, 0.97457627, 0.97881356, 0.96610169,\n",
       "       0.98446328])"
      ]
     },
     "execution_count": 343,
     "metadata": {},
     "output_type": "execute_result"
    }
   ],
   "source": [
    "xgb_cvl[\"test_score\"]"
   ]
  },
  {
   "cell_type": "markdown",
   "id": "009b5c03",
   "metadata": {},
   "source": [
    "# Fifth model: Gradient Boosting\n"
   ]
  },
  {
   "cell_type": "code",
   "execution_count": 345,
   "id": "580541ee",
   "metadata": {},
   "outputs": [
    {
     "name": "stdout",
     "output_type": "stream",
     "text": [
      "0.9727049848729942\n"
     ]
    }
   ],
   "source": [
    "gb_clf = GradientBoostingClassifier()\n",
    "gb_cvl = cross_val_score(gb_clf,X_std,y,scoring=\"accuracy\",cv=KFold(n_splits=6,shuffle=True))\n",
    "print(np.mean(gb_cvl))"
   ]
  },
  {
   "cell_type": "code",
   "execution_count": 351,
   "id": "7c141496",
   "metadata": {},
   "outputs": [],
   "source": [
    "def get_models():\n",
    "    models = dict()\n",
    "    models['knn'] = KNeighborsClassifier(leaf_size = 10, n_neighbors = 5, p= 1)\n",
    "    models['rf'] = RandomForestClassifier(bootstrap = False, max_depth = 50, min_samples_leaf = 1, min_samples_split = 10, n_estimators = 100)\n",
    "    models['mlp'] = MLPClassifier(activation=\"relu\",solver=\"adam\",learning_rate_init=0.085,max_iter=500)\n",
    "    models['xgb'] = XGBClassifier(use_label_encoder=False,eval_metric=\"logloss\",colsample_bylevel = 0.39190683238318913,\n",
    "              colsample_bytree = 1.0,\n",
    "              learning_rate= 0.1,\n",
    "              reg_alpha =  0.00014205061853819498,\n",
    "              reg_lambda = 1e-06,\n",
    "              subsample = 0.5114293932576559)\n",
    "    models['gb'] = GradientBoostingClassifier()\n",
    "    models['stacking'] = get_stacking()\n",
    "    return models"
   ]
  },
  {
   "cell_type": "code",
   "execution_count": 352,
   "id": "0248cc2e",
   "metadata": {},
   "outputs": [],
   "source": [
    "def evaluate_model(model, X, y):\n",
    "    cv = KFold(n_splits=6, shuffle=True)\n",
    "    scores = cross_val_score(model, X_std, y, scoring='accuracy', cv=cv, n_jobs=-1, error_score='raise')\n",
    "    return scores"
   ]
  },
  {
   "cell_type": "code",
   "execution_count": 358,
   "id": "cf42b87f",
   "metadata": {},
   "outputs": [],
   "source": [
    "# get a stacking ensemble of models\n",
    "def get_stacking():\n",
    "    # define the base models\n",
    "    level0 = list()\n",
    "    level0.append(('knn', KNeighborsClassifier(leaf_size = 10, n_neighbors = 5, p= 1)))\n",
    "    level0.append(('rf',RandomForestClassifier(bootstrap = False, max_depth = 50, min_samples_leaf = 1, min_samples_split = 10, n_estimators = 100)))\n",
    "    level0.append(('mlp', MLPClassifier(activation=\"relu\",solver=\"adam\",learning_rate_init=0.085,max_iter=500)))\n",
    "    level0.append(('xgb', XGBClassifier(use_label_encoder=False,eval_metric=\"logloss\",colsample_bylevel = 0.39190683238318913,\n",
    "              colsample_bytree = 1.0,\n",
    "              learning_rate= 0.1,\n",
    "              reg_alpha =  0.00014205061853819498,\n",
    "              reg_lambda = 1e-06,\n",
    "              subsample = 0.5114293932576559)))\n",
    "    level0.append(('gb', GradientBoostingClassifier()))\n",
    "    # define meta learner model\n",
    "    level1 = XGBClassifier(use_label_encoder=False,eval_metric=\"logloss\")\n",
    "    # define the stacking ensemble\n",
    "    model = StackingClassifier(estimators=level0, final_estimator=level1, cv=5)\n",
    "    return model"
   ]
  },
  {
   "cell_type": "code",
   "execution_count": 359,
   "id": "d0ba5fdd",
   "metadata": {},
   "outputs": [
    {
     "name": "stdout",
     "output_type": "stream",
     "text": [
      ">knn 0.923 (0.006)\n",
      ">rf 0.973 (0.005)\n",
      ">mlp 0.960 (0.005)\n",
      ">xgb 0.974 (0.004)\n",
      ">gb 0.972 (0.005)\n",
      ">stacking 0.971 (0.004)\n"
     ]
    },
    {
     "data": {
      "image/png": "[encoded data removed]",
      "text/plain": [
       "<Figure size 432x288 with 1 Axes>"
      ]
     },
     "metadata": {
      "needs_background": "light"
     },
     "output_type": "display_data"
    }
   ],
   "source": [
    "# get the models to evaluate\n",
    "models = get_models()\n",
    "# evaluate the models and store results\n",
    "results, names = list(), list()\n",
    "for name, model in models.items():\n",
    "    scores = evaluate_model(model, X_std, y)\n",
    "    results.append(scores)\n",
    "    names.append(name)\n",
    "    print('>%s %.3f (%.3f)' % (name, np.mean(scores), np.std(scores)))\n",
    "# plot model performance for comparison\n",
    "plt.boxplot(results, labels=names, showmeans=True)\n",
    "plt.show()"
   ]
  },
  {
   "cell_type": "code",
   "execution_count": 361,
   "id": "b48a8950",
   "metadata": {},
   "outputs": [],
   "source": [
    "# define the base models\n",
    "level0 = list()\n",
    "level0.append(('knn', KNeighborsClassifier(leaf_size = 10, n_neighbors = 5, p= 1)))\n",
    "level0.append(('rf',RandomForestClassifier(bootstrap = False, max_depth = 50, min_samples_leaf = 1, min_samples_split = 10, n_estimators = 100)))\n",
    "level0.append(('mlp', MLPClassifier(activation=\"relu\",solver=\"adam\",learning_rate_init=0.085,max_iter=500)))\n",
    "level0.append(('xgb', XGBClassifier(use_label_encoder=False,eval_metric=\"logloss\",colsample_bylevel = 0.39190683238318913,\n",
    "              colsample_bytree = 1.0,\n",
    "              learning_rate= 0.1,\n",
    "              reg_alpha =  0.00014205061853819498,\n",
    "              reg_lambda = 1e-06,\n",
    "              subsample = 0.5114293932576559)))\n",
    "level0.append(('gb', GradientBoostingClassifier()))\n",
    "# define meta learner model\n",
    "level1 = LogisticRegression(solver=\"liblinear\")\n",
    "model = StackingClassifier(estimators=level0, final_estimator=level1, cv=5)"
   ]
  },
  {
   "cell_type": "code",
   "execution_count": 362,
   "id": "5a3711f6",
   "metadata": {},
   "outputs": [
    {
     "data": {
      "text/plain": [
       "StackingClassifier(cv=5,\n",
       "                   estimators=[('knn', KNeighborsClassifier(leaf_size=10, p=1)),\n",
       "                               ('rf',\n",
       "                                RandomForestClassifier(bootstrap=False,\n",
       "                                                       max_depth=50,\n",
       "                                                       min_samples_split=10)),\n",
       "                               ('mlp',\n",
       "                                MLPClassifier(learning_rate_init=0.085,\n",
       "                                              max_iter=500)),\n",
       "                               ('xgb',\n",
       "                                XGBClassifier(base_score=None, booster=None,\n",
       "                                              colsample_bylevel=0.39190683238318913,\n",
       "                                              colsample_bynode=None,\n",
       "                                              colsample_bytre...\n",
       "                                              n_estimators=100, n_jobs=None,\n",
       "                                              num_parallel_tree=None,\n",
       "                                              predictor=None, random_state=None,\n",
       "                                              reg_alpha=0.00014205061853819498,\n",
       "                                              reg_lambda=1e-06,\n",
       "                                              scale_pos_weight=None,\n",
       "                                              subsample=0.5114293932576559,\n",
       "                                              tree_method=None,\n",
       "                                              use_label_encoder=False,\n",
       "                                              validate_parameters=None,\n",
       "                                              verbosity=None)),\n",
       "                               ('gb', GradientBoostingClassifier())],\n",
       "                   final_estimator=LogisticRegression(solver='liblinear'))"
      ]
     },
     "execution_count": 362,
     "metadata": {},
     "output_type": "execute_result"
    }
   ],
   "source": [
    "model"
   ]
  }
 ],
 "metadata": {
  "kernelspec": {
   "display_name": "Python 3 (ipykernel)",
   "language": "python",
   "name": "python3"
  },
  "language_info": {
   "codemirror_mode": {
    "name": "ipython",
    "version": 3
   },
   "file_extension": ".py",
   "mimetype": "text/x-python",
   "name": "python",
   "nbconvert_exporter": "python",
   "pygments_lexer": "ipython3",
   "version": "3.8.8"
  }
 },
 "nbformat": 4,
 "nbformat_minor": 5
}
