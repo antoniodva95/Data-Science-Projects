{
 "cells": [
  {
   "cell_type": "code",
   "execution_count": null,
   "metadata": {
    "id": "ptzGIlCfOjDz"
   },
   "outputs": [],
   "source": [
    "import numpy as np\n",
    "import pandas as pd\n",
    "from imblearn.pipeline import Pipeline\n",
    "from lightgbm import LGBMClassifier\n",
    "from sklearn.preprocessing import StandardScaler\n",
    "from sklearn.base import BaseEstimator\n",
    "from sklearn.base import TransformerMixin\n",
    "from sklearn.model_selection import cross_val_predict\n",
    "from sklearn.model_selection import KFold\n",
    "from sklearn.model_selection import cross_validate\n",
    "from sklearn.model_selection import train_test_split\n",
    "from sklearn.model_selection import GridSearchCV\n",
    "from sklearn.model_selection import RandomizedSearchCV"
   ]
  },
  {
   "cell_type": "code",
   "execution_count": null,
   "metadata": {
    "id": "LyPLISh8FzCz"
   },
   "outputs": [],
   "source": [
    "from sklearn.linear_model import LogisticRegression\n",
    "from sklearn.tree import DecisionTreeClassifier\n",
    "from sklearn.neighbors import KNeighborsClassifier\n",
    "from sklearn.ensemble import BaggingClassifier\n",
    "from sklearn.ensemble import RandomForestClassifier\n",
    "from sklearn.ensemble import AdaBoostClassifier\n",
    "from xgboost import XGBClassifier"
   ]
  },
  {
   "cell_type": "code",
   "execution_count": null,
   "metadata": {
    "colab": {
     "base_uri": "https://localhost:8080/"
    },
    "executionInfo": {
     "elapsed": 1783,
     "status": "ok",
     "timestamp": 1655052368518,
     "user": {
      "displayName": "Antonio Di Vicino",
      "userId": "06829904169852245190"
     },
     "user_tz": -120
    },
    "id": "hnQhBaqFSEl1",
    "outputId": "688aadaf-e54d-4b75-892d-8dd4bfd6514d"
   },
   "outputs": [
    {
     "name": "stdout",
     "output_type": "stream",
     "text": [
      "Drive already mounted at /content/drive; to attempt to forcibly remount, call drive.mount(\"/content/drive\", force_remount=True).\n"
     ]
    }
   ],
   "source": [
    "from google.colab import drive\n",
    "drive.mount('/content/drive')"
   ]
  },
  {
   "cell_type": "code",
   "execution_count": null,
   "metadata": {
    "id": "1VT1ZePFTy1T"
   },
   "outputs": [],
   "source": [
    "import sys\n",
    "sys.path.append('/content/drive/MyDrive/Colab Notebooks')"
   ]
  },
  {
   "cell_type": "code",
   "execution_count": null,
   "metadata": {
    "id": "LnyOXEquTs0-"
   },
   "outputs": [],
   "source": [
    "import Judge_pipelines\n",
    "from Judge_pipelines import Judge"
   ]
  },
  {
   "cell_type": "markdown",
   "metadata": {
    "id": "V_1P8C7VQXh7"
   },
   "source": [
    "# Customized classes for Pipeline"
   ]
  },
  {
   "cell_type": "code",
   "execution_count": null,
   "metadata": {
    "id": "_hL-XU9HxREY"
   },
   "outputs": [],
   "source": [
    "class Encoding_Strategy_string(BaseEstimator,TransformerMixin):\n",
    "    \n",
    "    def __init__(self,column):\n",
    "        self.column = column\n",
    "        \n",
    "        \n",
    "    def fit(self,X,y=None):\n",
    "        self.string_length = X[self.column].str.len().max()\n",
    "        \n",
    "        return self\n",
    "        \n",
    "\n",
    "    def transform(self,X):\n",
    "\n",
    "        X_ = X.copy()\n",
    "\n",
    "        for letter in range(self.string_length):\n",
    "\n",
    "            X_[\"position\"+ \"_\" + str(letter)] = X_[self.column].str.get(letter)\n",
    "            X_[\"position\"+ \"_\" + str(letter)] = X_[\"position\"+ \"_\" + str(letter)].apply(lambda x: ord(x)-ord(\"A\"))\n",
    "            X_[\"len_unique_values\"] = [len(set(s)) for s in X_[self.column]]\n",
    "            \n",
    "        X_.drop(columns=self.column,inplace=True)\n",
    "        \n",
    "        return X_\n",
    "\n",
    "  "
   ]
  },
  {
   "cell_type": "code",
   "execution_count": 1,
   "metadata": {
    "colab": {
     "base_uri": "https://localhost:8080/",
     "height": 235
    },
    "executionInfo": {
     "elapsed": 15,
     "status": "error",
     "timestamp": 1655109968213,
     "user": {
      "displayName": "Antonio Di Vicino",
      "userId": "06829904169852245190"
     },
     "user_tz": -120
    },
    "id": "5fJWjNIpxYON",
    "outputId": "dd5064b3-77a5-468e-ba07-9483b7eddd55"
   },
   "outputs": [
    {
     "ename": "NameError",
     "evalue": "ignored",
     "output_type": "error",
     "traceback": [
      "\u001b[0;31m---------------------------------------------------------------------------\u001b[0m",
      "\u001b[0;31mNameError\u001b[0m                                 Traceback (most recent call last)",
      "\u001b[0;32m<ipython-input-1-7fa854a84cf4>\u001b[0m in \u001b[0;36m<module>\u001b[0;34m()\u001b[0m\n\u001b[0;32m----> 1\u001b[0;31m \u001b[0;32mclass\u001b[0m \u001b[0mExploiting_found_interactions\u001b[0m\u001b[0;34m(\u001b[0m\u001b[0mBaseEstimator\u001b[0m\u001b[0;34m,\u001b[0m\u001b[0mTransformerMixin\u001b[0m\u001b[0;34m)\u001b[0m\u001b[0;34m:\u001b[0m\u001b[0;34m\u001b[0m\u001b[0;34m\u001b[0m\u001b[0m\n\u001b[0m\u001b[1;32m      2\u001b[0m \u001b[0;34m\u001b[0m\u001b[0m\n\u001b[1;32m      3\u001b[0m     \u001b[0;32mdef\u001b[0m \u001b[0m__init__\u001b[0m\u001b[0;34m(\u001b[0m\u001b[0mself\u001b[0m\u001b[0;34m)\u001b[0m\u001b[0;34m:\u001b[0m\u001b[0;34m\u001b[0m\u001b[0;34m\u001b[0m\u001b[0m\n\u001b[1;32m      4\u001b[0m       \u001b[0mself\u001b[0m\u001b[0;34m.\u001b[0m\u001b[0mchoices\u001b[0m \u001b[0;34m=\u001b[0m \u001b[0;34m[\u001b[0m\u001b[0;34m-\u001b[0m\u001b[0;36m1\u001b[0m\u001b[0;34m,\u001b[0m\u001b[0;36m0\u001b[0m\u001b[0;34m,\u001b[0m\u001b[0;36m1\u001b[0m\u001b[0;34m]\u001b[0m\u001b[0;34m\u001b[0m\u001b[0;34m\u001b[0m\u001b[0m\n\u001b[1;32m      5\u001b[0m \u001b[0;34m\u001b[0m\u001b[0m\n",
      "\u001b[0;31mNameError\u001b[0m: name 'BaseEstimator' is not defined"
     ]
    }
   ],
   "source": [
    "class Exploiting_found_interactions(BaseEstimator,TransformerMixin):\n",
    "  \n",
    "    def __init__(self):\n",
    "      self.choices = [-1,0,1]  \n",
    "\n",
    "    def fit(self,X,y=None):\n",
    "        return self\n",
    "\n",
    "\n",
    "    def transform(self,X):\n",
    "\n",
    "      X_ = X.copy()\n",
    "\n",
    "\n",
    "    \n",
    "\n",
    "      X_[\"f_00_01\"] = X_[\"f_00\"] + X_[\"f_01\"]\n",
    "\n",
    "      conditions_1 = [(X_.f_21 + X_.f_02 < -5.3),(X_.f_21 + X_.f_02 >= -5.3) & (X_.f_21 + X_.f_02 <= 5.2),\n",
    "                      (X_.f_21 + X_.f_02 > 5.2)]\n",
    "      conditions_2 = [(X_.f_22 + X_.f_05 < -5.4),(X_.f_22 + X_.f_05 >= -5.3) & (X_.f_22 + X_.f_05 <= 5.1),\n",
    "                      (X_.f_22 + X_.f_05 > 5.1)]\n",
    "      conditions_3 = [(X_.f_00_01 + X_.f_26 < -5.3),(X_.f_00_01 + X_.f_26 >= -5.3) & \n",
    "                      (X_.f_00_01 + X_.f_26 <= 5.0),\n",
    "                      (X_.f_00_01 + X_.f_26 > 5.0)]\n",
    "\n",
    "      X_[\"f_02_21\"] = np.select(conditions_1,self.choices)\n",
    "\n",
    "      X_[\"f_05_22\"] = np.select(conditions_2,self.choices)\n",
    "\n",
    "      X_[\"f_00_01_26\"] = np.select(conditions_3,self.choices)\n",
    "\n",
    "\n",
    "\n",
    "      return X_\n",
    "\n",
    "\n",
    "\n",
    "\n",
    "        \n",
    "    \n",
    "      \n",
    "      \n",
    "    \n",
    "          \n"
   ]
  },
  {
   "cell_type": "code",
   "execution_count": null,
   "metadata": {
    "colab": {
     "base_uri": "https://localhost:8080/",
     "height": 35
    },
    "executionInfo": {
     "elapsed": 4991,
     "status": "ok",
     "timestamp": 1655052375449,
     "user": {
      "displayName": "Antonio Di Vicino",
      "userId": "06829904169852245190"
     },
     "user_tz": -120
    },
    "id": "inDp2eHI4t5b",
    "outputId": "a1dd7731-aa0b-414f-ad37-64218f1debcc"
   },
   "outputs": [
    {
     "data": {
      "application/vnd.google.colaboratory.intrinsic+json": {
       "type": "string"
      },
      "text/plain": [
       "''"
      ]
     },
     "execution_count": 8,
     "metadata": {},
     "output_type": "execute_result"
    }
   ],
   "source": [
    " import tensorflow as tf \n",
    " tf.test.gpu_device_name() "
   ]
  },
  {
   "cell_type": "markdown",
   "metadata": {
    "id": "FEjTwt1IQgfX"
   },
   "source": [
    "# Building Pipeline"
   ]
  },
  {
   "cell_type": "code",
   "execution_count": null,
   "metadata": {
    "id": "9-fgemngQefD"
   },
   "outputs": [],
   "source": [
    "\n",
    "\n",
    "pipe_name = np.array([\n",
    "      \"pipe_LGBM\"\n",
    "])\n",
    "\n",
    "metrics = [\n",
    "    \"accuracy\",\n",
    "    \"precision\",\n",
    "    \"recall\",\n",
    "    \"roc_auc\",\n",
    "    \"f1_macro\"\n",
    "]\n",
    "\n",
    "params_pipe ={\n",
    "    \n",
    "}"
   ]
  },
  {
   "cell_type": "markdown",
   "metadata": {
    "id": "mA-UU4pVR4ls"
   },
   "source": [
    "# Importing data and modeling"
   ]
  },
  {
   "cell_type": "code",
   "execution_count": null,
   "metadata": {
    "id": "3MZB7HyDR3Ul"
   },
   "outputs": [],
   "source": [
    "train = pd.read_csv('drive/MyDrive/Colab Notebooks/Kaggle_competition_may/train.csv')"
   ]
  },
  {
   "cell_type": "code",
   "execution_count": null,
   "metadata": {
    "id": "oD6fXuPbS6X8"
   },
   "outputs": [],
   "source": [
    "X = train.drop(columns='target')\n",
    "y = train['target']"
   ]
  },
  {
   "cell_type": "code",
   "execution_count": null,
   "metadata": {
    "id": "EDKVH3OaIx1s"
   },
   "outputs": [],
   "source": [
    "X = X.drop(columns='id')"
   ]
  },
  {
   "cell_type": "code",
   "execution_count": null,
   "metadata": {
    "colab": {
     "base_uri": "https://localhost:8080/",
     "height": 300
    },
    "executionInfo": {
     "elapsed": 572,
     "status": "ok",
     "timestamp": 1655052390310,
     "user": {
      "displayName": "Antonio Di Vicino",
      "userId": "06829904169852245190"
     },
     "user_tz": -120
    },
    "id": "KJ_9UardI2oz",
    "outputId": "c92d6756-2aa0-49df-f8c3-cb8773866a8a"
   },
   "outputs": [
    {
     "data": {
      "text/html": [
       "\n",
       "  <div id=\"df-1a6cf8d1-fad8-4161-bc8e-9ff9e858f31e\">\n",
       "    <div class=\"colab-df-container\">\n",
       "      <div>\n",
       "<style scoped>\n",
       "    .dataframe tbody tr th:only-of-type {\n",
       "        vertical-align: middle;\n",
       "    }\n",
       "\n",
       "    .dataframe tbody tr th {\n",
       "        vertical-align: top;\n",
       "    }\n",
       "\n",
       "    .dataframe thead th {\n",
       "        text-align: right;\n",
       "    }\n",
       "</style>\n",
       "<table border=\"1\" class=\"dataframe\">\n",
       "  <thead>\n",
       "    <tr style=\"text-align: right;\">\n",
       "      <th></th>\n",
       "      <th>f_00</th>\n",
       "      <th>f_01</th>\n",
       "      <th>f_02</th>\n",
       "      <th>f_03</th>\n",
       "      <th>f_04</th>\n",
       "      <th>f_05</th>\n",
       "      <th>f_06</th>\n",
       "      <th>f_07</th>\n",
       "      <th>f_08</th>\n",
       "      <th>f_09</th>\n",
       "      <th>...</th>\n",
       "      <th>f_21</th>\n",
       "      <th>f_22</th>\n",
       "      <th>f_23</th>\n",
       "      <th>f_24</th>\n",
       "      <th>f_25</th>\n",
       "      <th>f_26</th>\n",
       "      <th>f_27</th>\n",
       "      <th>f_28</th>\n",
       "      <th>f_29</th>\n",
       "      <th>f_30</th>\n",
       "    </tr>\n",
       "  </thead>\n",
       "  <tbody>\n",
       "    <tr>\n",
       "      <th>0</th>\n",
       "      <td>-1.373246</td>\n",
       "      <td>0.238887</td>\n",
       "      <td>-0.243376</td>\n",
       "      <td>0.567405</td>\n",
       "      <td>-0.647715</td>\n",
       "      <td>0.839326</td>\n",
       "      <td>0.113133</td>\n",
       "      <td>1</td>\n",
       "      <td>5</td>\n",
       "      <td>1</td>\n",
       "      <td>...</td>\n",
       "      <td>3.058541</td>\n",
       "      <td>-2.540739</td>\n",
       "      <td>0.766952</td>\n",
       "      <td>-2.730628</td>\n",
       "      <td>-0.208177</td>\n",
       "      <td>1.363402</td>\n",
       "      <td>ABABDADBAB</td>\n",
       "      <td>67.609153</td>\n",
       "      <td>0</td>\n",
       "      <td>0</td>\n",
       "    </tr>\n",
       "    <tr>\n",
       "      <th>1</th>\n",
       "      <td>1.697021</td>\n",
       "      <td>-1.710322</td>\n",
       "      <td>-2.230332</td>\n",
       "      <td>-0.545661</td>\n",
       "      <td>1.113173</td>\n",
       "      <td>-1.552175</td>\n",
       "      <td>0.447825</td>\n",
       "      <td>1</td>\n",
       "      <td>3</td>\n",
       "      <td>4</td>\n",
       "      <td>...</td>\n",
       "      <td>2.179050</td>\n",
       "      <td>2.278315</td>\n",
       "      <td>-0.633658</td>\n",
       "      <td>-1.217077</td>\n",
       "      <td>-3.782194</td>\n",
       "      <td>-0.058316</td>\n",
       "      <td>ACACCADCEB</td>\n",
       "      <td>377.096415</td>\n",
       "      <td>0</td>\n",
       "      <td>0</td>\n",
       "    </tr>\n",
       "    <tr>\n",
       "      <th>2</th>\n",
       "      <td>1.681726</td>\n",
       "      <td>0.616746</td>\n",
       "      <td>-1.027689</td>\n",
       "      <td>0.810492</td>\n",
       "      <td>-0.609086</td>\n",
       "      <td>0.113965</td>\n",
       "      <td>-0.708660</td>\n",
       "      <td>1</td>\n",
       "      <td>0</td>\n",
       "      <td>2</td>\n",
       "      <td>...</td>\n",
       "      <td>-0.784235</td>\n",
       "      <td>-1.385775</td>\n",
       "      <td>-0.520558</td>\n",
       "      <td>-0.009121</td>\n",
       "      <td>2.788536</td>\n",
       "      <td>-3.703488</td>\n",
       "      <td>AAAEABCKAD</td>\n",
       "      <td>-195.599702</td>\n",
       "      <td>0</td>\n",
       "      <td>2</td>\n",
       "    </tr>\n",
       "    <tr>\n",
       "      <th>3</th>\n",
       "      <td>-0.118172</td>\n",
       "      <td>-0.587835</td>\n",
       "      <td>-0.804638</td>\n",
       "      <td>2.086822</td>\n",
       "      <td>0.371005</td>\n",
       "      <td>-0.128831</td>\n",
       "      <td>-0.282575</td>\n",
       "      <td>3</td>\n",
       "      <td>2</td>\n",
       "      <td>1</td>\n",
       "      <td>...</td>\n",
       "      <td>-2.343819</td>\n",
       "      <td>0.572594</td>\n",
       "      <td>-1.653213</td>\n",
       "      <td>1.686035</td>\n",
       "      <td>-2.533098</td>\n",
       "      <td>-0.608601</td>\n",
       "      <td>BDBBAACBCB</td>\n",
       "      <td>210.826205</td>\n",
       "      <td>0</td>\n",
       "      <td>0</td>\n",
       "    </tr>\n",
       "    <tr>\n",
       "      <th>4</th>\n",
       "      <td>1.148481</td>\n",
       "      <td>-0.176567</td>\n",
       "      <td>-0.664871</td>\n",
       "      <td>-1.101343</td>\n",
       "      <td>0.467875</td>\n",
       "      <td>0.500117</td>\n",
       "      <td>0.407515</td>\n",
       "      <td>3</td>\n",
       "      <td>3</td>\n",
       "      <td>0</td>\n",
       "      <td>...</td>\n",
       "      <td>1.133665</td>\n",
       "      <td>-3.912929</td>\n",
       "      <td>-1.430366</td>\n",
       "      <td>2.127649</td>\n",
       "      <td>-3.306784</td>\n",
       "      <td>4.371371</td>\n",
       "      <td>BDBCBBCHFE</td>\n",
       "      <td>-217.211798</td>\n",
       "      <td>0</td>\n",
       "      <td>1</td>\n",
       "    </tr>\n",
       "  </tbody>\n",
       "</table>\n",
       "<p>5 rows × 31 columns</p>\n",
       "</div>\n",
       "      <button class=\"colab-df-convert\" onclick=\"convertToInteractive('df-1a6cf8d1-fad8-4161-bc8e-9ff9e858f31e')\"\n",
       "              title=\"Convert this dataframe to an interactive table.\"\n",
       "              style=\"display:none;\">\n",
       "        \n",
       "  <svg xmlns=\"http://www.w3.org/2000/svg\" height=\"24px\"viewBox=\"0 0 24 24\"\n",
       "       width=\"24px\">\n",
       "    <path d=\"M0 0h24v24H0V0z\" fill=\"none\"/>\n",
       "    <path d=\"M18.56 5.44l.94 2.06.94-2.06 2.06-.94-2.06-.94-.94-2.06-.94 2.06-2.06.94zm-11 1L8.5 8.5l.94-2.06 2.06-.94-2.06-.94L8.5 2.5l-.94 2.06-2.06.94zm10 10l.94 2.06.94-2.06 2.06-.94-2.06-.94-.94-2.06-.94 2.06-2.06.94z\"/><path d=\"M17.41 7.96l-1.37-1.37c-.4-.4-.92-.59-1.43-.59-.52 0-1.04.2-1.43.59L10.3 9.45l-7.72 7.72c-.78.78-.78 2.05 0 2.83L4 21.41c.39.39.9.59 1.41.59.51 0 1.02-.2 1.41-.59l7.78-7.78 2.81-2.81c.8-.78.8-2.07 0-2.86zM5.41 20L4 18.59l7.72-7.72 1.47 1.35L5.41 20z\"/>\n",
       "  </svg>\n",
       "      </button>\n",
       "      \n",
       "  <style>\n",
       "    .colab-df-container {\n",
       "      display:flex;\n",
       "      flex-wrap:wrap;\n",
       "      gap: 12px;\n",
       "    }\n",
       "\n",
       "    .colab-df-convert {\n",
       "      background-color: #E8F0FE;\n",
       "      border: none;\n",
       "      border-radius: 50%;\n",
       "      cursor: pointer;\n",
       "      display: none;\n",
       "      fill: #1967D2;\n",
       "      height: 32px;\n",
       "      padding: 0 0 0 0;\n",
       "      width: 32px;\n",
       "    }\n",
       "\n",
       "    .colab-df-convert:hover {\n",
       "      background-color: #E2EBFA;\n",
       "      box-shadow: 0px 1px 2px rgba(60, 64, 67, 0.3), 0px 1px 3px 1px rgba(60, 64, 67, 0.15);\n",
       "      fill: #174EA6;\n",
       "    }\n",
       "\n",
       "    [theme=dark] .colab-df-convert {\n",
       "      background-color: #3B4455;\n",
       "      fill: #D2E3FC;\n",
       "    }\n",
       "\n",
       "    [theme=dark] .colab-df-convert:hover {\n",
       "      background-color: #434B5C;\n",
       "      box-shadow: 0px 1px 3px 1px rgba(0, 0, 0, 0.15);\n",
       "      filter: drop-shadow(0px 1px 2px rgba(0, 0, 0, 0.3));\n",
       "      fill: #FFFFFF;\n",
       "    }\n",
       "  </style>\n",
       "\n",
       "      <script>\n",
       "        const buttonEl =\n",
       "          document.querySelector('#df-1a6cf8d1-fad8-4161-bc8e-9ff9e858f31e button.colab-df-convert');\n",
       "        buttonEl.style.display =\n",
       "          google.colab.kernel.accessAllowed ? 'block' : 'none';\n",
       "\n",
       "        async function convertToInteractive(key) {\n",
       "          const element = document.querySelector('#df-1a6cf8d1-fad8-4161-bc8e-9ff9e858f31e');\n",
       "          const dataTable =\n",
       "            await google.colab.kernel.invokeFunction('convertToInteractive',\n",
       "                                                     [key], {});\n",
       "          if (!dataTable) return;\n",
       "\n",
       "          const docLinkHtml = 'Like what you see? Visit the ' +\n",
       "            '<a target=\"_blank\" href=https://colab.research.google.com/notebooks/data_table.ipynb>data table notebook</a>'\n",
       "            + ' to learn more about interactive tables.';\n",
       "          element.innerHTML = '';\n",
       "          dataTable['output_type'] = 'display_data';\n",
       "          await google.colab.output.renderOutput(dataTable, element);\n",
       "          const docLink = document.createElement('div');\n",
       "          docLink.innerHTML = docLinkHtml;\n",
       "          element.appendChild(docLink);\n",
       "        }\n",
       "      </script>\n",
       "    </div>\n",
       "  </div>\n",
       "  "
      ],
      "text/plain": [
       "       f_00      f_01      f_02      f_03      f_04      f_05      f_06  f_07  \\\n",
       "0 -1.373246  0.238887 -0.243376  0.567405 -0.647715  0.839326  0.113133     1   \n",
       "1  1.697021 -1.710322 -2.230332 -0.545661  1.113173 -1.552175  0.447825     1   \n",
       "2  1.681726  0.616746 -1.027689  0.810492 -0.609086  0.113965 -0.708660     1   \n",
       "3 -0.118172 -0.587835 -0.804638  2.086822  0.371005 -0.128831 -0.282575     3   \n",
       "4  1.148481 -0.176567 -0.664871 -1.101343  0.467875  0.500117  0.407515     3   \n",
       "\n",
       "   f_08  f_09  ...      f_21      f_22      f_23      f_24      f_25  \\\n",
       "0     5     1  ...  3.058541 -2.540739  0.766952 -2.730628 -0.208177   \n",
       "1     3     4  ...  2.179050  2.278315 -0.633658 -1.217077 -3.782194   \n",
       "2     0     2  ... -0.784235 -1.385775 -0.520558 -0.009121  2.788536   \n",
       "3     2     1  ... -2.343819  0.572594 -1.653213  1.686035 -2.533098   \n",
       "4     3     0  ...  1.133665 -3.912929 -1.430366  2.127649 -3.306784   \n",
       "\n",
       "       f_26        f_27        f_28  f_29  f_30  \n",
       "0  1.363402  ABABDADBAB   67.609153     0     0  \n",
       "1 -0.058316  ACACCADCEB  377.096415     0     0  \n",
       "2 -3.703488  AAAEABCKAD -195.599702     0     2  \n",
       "3 -0.608601  BDBBAACBCB  210.826205     0     0  \n",
       "4  4.371371  BDBCBBCHFE -217.211798     0     1  \n",
       "\n",
       "[5 rows x 31 columns]"
      ]
     },
     "execution_count": 12,
     "metadata": {},
     "output_type": "execute_result"
    }
   ],
   "source": [
    "X.head(5)"
   ]
  },
  {
   "cell_type": "code",
   "execution_count": null,
   "metadata": {
    "colab": {
     "base_uri": "https://localhost:8080/"
    },
    "executionInfo": {
     "elapsed": 3199716,
     "status": "ok",
     "timestamp": 1654939451100,
     "user": {
      "displayName": "Antonio Di Vicino",
      "userId": "06829904169852245190"
     },
     "user_tz": -120
    },
    "id": "n5k-vryDTK1c",
    "outputId": "c4390c6f-d56a-47f2-8a2c-e57e9442b988"
   },
   "outputs": [
    {
     "name": "stdout",
     "output_type": "stream",
     "text": [
      "[Pipeline] ................ (step 1 of 4) Processing es, total=  11.9s\n",
      "[Pipeline] ....... (step 2 of 4) Processing interaction, total=   0.1s\n",
      "[Pipeline] .............. (step 3 of 4) Processing norm, total=   0.6s\n",
      "[Pipeline] ............... (step 4 of 4) Processing clf, total= 9.2min\n",
      "[Pipeline] ................ (step 1 of 4) Processing es, total=  11.8s\n",
      "[Pipeline] ....... (step 2 of 4) Processing interaction, total=   0.1s\n",
      "[Pipeline] .............. (step 3 of 4) Processing norm, total=   0.6s\n",
      "[Pipeline] ............... (step 4 of 4) Processing clf, total= 9.2min\n",
      "[Pipeline] ................ (step 1 of 4) Processing es, total=  11.9s\n",
      "[Pipeline] ....... (step 2 of 4) Processing interaction, total=   0.1s\n",
      "[Pipeline] .............. (step 3 of 4) Processing norm, total=   0.6s\n",
      "[Pipeline] ............... (step 4 of 4) Processing clf, total= 9.2min\n",
      "[Pipeline] ................ (step 1 of 4) Processing es, total=  11.8s\n",
      "[Pipeline] ....... (step 2 of 4) Processing interaction, total=   0.1s\n",
      "[Pipeline] .............. (step 3 of 4) Processing norm, total=   0.6s\n",
      "[Pipeline] ............... (step 4 of 4) Processing clf, total= 9.1min\n",
      "[Pipeline] ................ (step 1 of 4) Processing es, total=  11.7s\n",
      "[Pipeline] ....... (step 2 of 4) Processing interaction, total=   0.1s\n",
      "[Pipeline] .............. (step 3 of 4) Processing norm, total=   0.6s\n",
      "[Pipeline] ............... (step 4 of 4) Processing clf, total= 9.2min\n",
      "{'fit_time': array([566.02407455, 564.012465  , 566.10993052, 555.66587019,\n",
      "       562.02990913]), 'score_time': array([75.03773451, 73.75336266, 74.1934967 , 74.42744374, 81.99491763]), 'test_accuracy': array([0.96961111, 0.97048333, 0.96953333, 0.96941667, 0.97006111]), 'test_precision': array([0.96940173, 0.96982123, 0.96985846, 0.97047682, 0.97101449]), 'test_recall': array([0.96823082, 0.96950008, 0.96737503, 0.96647195, 0.96732116]), 'test_roc_auc': array([0.99614904, 0.99612483, 0.99610026, 0.99596229, 0.99610933]), 'test_f1_macro': array([0.96959134, 0.97046161, 0.96950723, 0.96938909, 0.97003577])}\n"
     ]
    }
   ],
   "source": [
    "cv_ex = KFold(n_splits=5,shuffle=True) \n",
    "cvl = cross_validate(pipe,X,y,scoring=[\"accuracy\",\"precision\",\"recall\",\"roc_auc\",\"f1_macro\"],cv=cv_ex)\n",
    "print(cvl)"
   ]
  },
  {
   "cell_type": "code",
   "execution_count": null,
   "metadata": {
    "colab": {
     "base_uri": "https://localhost:8080/"
    },
    "executionInfo": {
     "elapsed": 3219702,
     "status": "ok",
     "timestamp": 1654943711829,
     "user": {
      "displayName": "Antonio Di Vicino",
      "userId": "06829904169852245190"
     },
     "user_tz": -120
    },
    "id": "YbU1syyLI5sd",
    "outputId": "17726168-5d69-4397-b92d-a0a41f129f47"
   },
   "outputs": [
    {
     "name": "stdout",
     "output_type": "stream",
     "text": [
      "[Pipeline] ................ (step 1 of 4) Processing es, total=  12.0s\n",
      "[Pipeline] ....... (step 2 of 4) Processing interaction, total=   0.1s\n",
      "[Pipeline] .............. (step 3 of 4) Processing norm, total=   0.6s\n",
      "[Pipeline] ............... (step 4 of 4) Processing clf, total= 9.3min\n",
      "[Pipeline] ................ (step 1 of 4) Processing es, total=  11.9s\n",
      "[Pipeline] ....... (step 2 of 4) Processing interaction, total=   0.1s\n",
      "[Pipeline] .............. (step 3 of 4) Processing norm, total=   0.6s\n",
      "[Pipeline] ............... (step 4 of 4) Processing clf, total= 9.1min\n",
      "[Pipeline] ................ (step 1 of 4) Processing es, total=  11.9s\n",
      "[Pipeline] ....... (step 2 of 4) Processing interaction, total=   0.1s\n",
      "[Pipeline] .............. (step 3 of 4) Processing norm, total=   0.6s\n",
      "[Pipeline] ............... (step 4 of 4) Processing clf, total= 9.2min\n",
      "[Pipeline] ................ (step 1 of 4) Processing es, total=  11.9s\n",
      "[Pipeline] ....... (step 2 of 4) Processing interaction, total=   0.1s\n",
      "[Pipeline] .............. (step 3 of 4) Processing norm, total=   0.6s\n",
      "[Pipeline] ............... (step 4 of 4) Processing clf, total= 9.3min\n",
      "[Pipeline] ................ (step 1 of 4) Processing es, total=  11.8s\n",
      "[Pipeline] ....... (step 2 of 4) Processing interaction, total=   0.1s\n",
      "[Pipeline] .............. (step 3 of 4) Processing norm, total=   0.6s\n",
      "[Pipeline] ............... (step 4 of 4) Processing clf, total= 9.3min\n",
      "{'fit_time': array([569.30217528, 559.10683799, 562.87843108, 573.4367907 ,\n",
      "       569.91512299]), 'score_time': array([77.22414732, 76.16901803, 75.0605309 , 74.01528096, 76.25131917]), 'test_accuracy': array([0.96928889, 0.96951667, 0.97013333, 0.97034444, 0.96986111]), 'test_precision': array([0.9687975 , 0.96953284, 0.97097968, 0.97156501, 0.97022014]), 'test_recall': array([0.96804513, 0.96795456, 0.96735521, 0.96744361, 0.9676338 ]), 'test_roc_auc': array([0.996032  , 0.9961953 , 0.99616203, 0.9961557 , 0.9960488 ]), 'test_f1_macro': array([0.96926568, 0.96949798, 0.97010379, 0.97032169, 0.96983375])}\n"
     ]
    }
   ],
   "source": [
    "cv_ex = KFold(n_splits=5,shuffle=True) \n",
    "cvl = cross_validate(pipe,X,y,scoring=[\"accuracy\",\"precision\",\"recall\",\"roc_auc\",\"f1_macro\"],cv=cv_ex)\n",
    "print(cvl)"
   ]
  },
  {
   "cell_type": "code",
   "execution_count": null,
   "metadata": {
    "id": "DNlavCmdJ3zV"
   },
   "outputs": [],
   "source": [
    "judge = Judge(\"trial\")"
   ]
  },
  {
   "cell_type": "code",
   "execution_count": null,
   "metadata": {
    "colab": {
     "base_uri": "https://localhost:8080/"
    },
    "executionInfo": {
     "elapsed": 6,
     "status": "ok",
     "timestamp": 1655044079230,
     "user": {
      "displayName": "Antonio Di Vicino",
      "userId": "06829904169852245190"
     },
     "user_tz": -120
    },
    "id": "L5h71WwecS-c",
    "outputId": "ed21d8ab-9b12-40ab-ab1d-45183e1fb026"
   },
   "outputs": [
    {
     "data": {
      "text/plain": [
       "<Judge_pipelines.Judge at 0x7f30e2a41510>"
      ]
     },
     "execution_count": 17,
     "metadata": {},
     "output_type": "execute_result"
    }
   ],
   "source": [
    "judge.set_data(X,y).set_params(params_pipe).set_pipes_and_names(pipe,pipe_name).set_metrics(metrics)"
   ]
  },
  {
   "cell_type": "code",
   "execution_count": null,
   "metadata": {
    "colab": {
     "base_uri": "https://localhost:8080/",
     "height": 358
    },
    "executionInfo": {
     "elapsed": 764779,
     "status": "ok",
     "timestamp": 1655046691608,
     "user": {
      "displayName": "Antonio Di Vicino",
      "userId": "06829904169852245190"
     },
     "user_tz": -120
    },
    "id": "rSMA-C0Lchss",
    "outputId": "afd33c36-239c-4e8a-a791-6b562c5507f1"
   },
   "outputs": [
    {
     "name": "stdout",
     "output_type": "stream",
     "text": [
      "[Pipeline] ................ (step 1 of 4) Processing es, total=  14.9s\n",
      "[Pipeline] ....... (step 2 of 4) Processing interaction, total=   0.1s\n",
      "[Pipeline] .............. (step 3 of 4) Processing norm, total=   0.6s\n",
      "[Pipeline] ............... (step 4 of 4) Processing clf, total= 9.2min\n",
      "[Pipeline] ................ (step 1 of 4) Processing es, total=  11.9s\n",
      "[Pipeline] ....... (step 2 of 4) Processing interaction, total=   0.1s\n",
      "[Pipeline] .............. (step 3 of 4) Processing norm, total=   0.5s\n",
      "[Pipeline] ............... (step 4 of 4) Processing clf, total= 9.0min\n",
      "[Pipeline] ................ (step 1 of 4) Processing es, total=  11.9s\n",
      "[Pipeline] ....... (step 2 of 4) Processing interaction, total=   0.1s\n",
      "[Pipeline] .............. (step 3 of 4) Processing norm, total=   0.5s\n",
      "[Pipeline] ............... (step 4 of 4) Processing clf, total= 8.9min\n",
      "[Pipeline] ................ (step 1 of 4) Processing es, total=  11.5s\n",
      "[Pipeline] ....... (step 2 of 4) Processing interaction, total=   0.1s\n",
      "[Pipeline] .............. (step 3 of 4) Processing norm, total=   0.5s\n",
      "[Pipeline] ............... (step 4 of 4) Processing clf, total= 9.0min\n"
     ]
    },
    {
     "data": {
      "text/html": [
       "\n",
       "  <div id=\"df-c8287b83-4f1d-4d92-a89f-8d659ac2fe97\">\n",
       "    <div class=\"colab-df-container\">\n",
       "      <div>\n",
       "<style scoped>\n",
       "    .dataframe tbody tr th:only-of-type {\n",
       "        vertical-align: middle;\n",
       "    }\n",
       "\n",
       "    .dataframe tbody tr th {\n",
       "        vertical-align: top;\n",
       "    }\n",
       "\n",
       "    .dataframe thead th {\n",
       "        text-align: right;\n",
       "    }\n",
       "</style>\n",
       "<table border=\"1\" class=\"dataframe\">\n",
       "  <thead>\n",
       "    <tr style=\"text-align: right;\">\n",
       "      <th></th>\n",
       "      <th>model</th>\n",
       "      <th>accuracy</th>\n",
       "      <th>precision</th>\n",
       "      <th>recall</th>\n",
       "      <th>roc_auc</th>\n",
       "      <th>f1_macro</th>\n",
       "    </tr>\n",
       "  </thead>\n",
       "  <tbody>\n",
       "    <tr>\n",
       "      <th>0</th>\n",
       "      <td>pipe_LGBM</td>\n",
       "      <td>96.95</td>\n",
       "      <td>96.98</td>\n",
       "      <td>96.74</td>\n",
       "      <td>99.6</td>\n",
       "      <td>96.95</td>\n",
       "    </tr>\n",
       "  </tbody>\n",
       "</table>\n",
       "</div>\n",
       "      <button class=\"colab-df-convert\" onclick=\"convertToInteractive('df-c8287b83-4f1d-4d92-a89f-8d659ac2fe97')\"\n",
       "              title=\"Convert this dataframe to an interactive table.\"\n",
       "              style=\"display:none;\">\n",
       "        \n",
       "  <svg xmlns=\"http://www.w3.org/2000/svg\" height=\"24px\"viewBox=\"0 0 24 24\"\n",
       "       width=\"24px\">\n",
       "    <path d=\"M0 0h24v24H0V0z\" fill=\"none\"/>\n",
       "    <path d=\"M18.56 5.44l.94 2.06.94-2.06 2.06-.94-2.06-.94-.94-2.06-.94 2.06-2.06.94zm-11 1L8.5 8.5l.94-2.06 2.06-.94-2.06-.94L8.5 2.5l-.94 2.06-2.06.94zm10 10l.94 2.06.94-2.06 2.06-.94-2.06-.94-.94-2.06-.94 2.06-2.06.94z\"/><path d=\"M17.41 7.96l-1.37-1.37c-.4-.4-.92-.59-1.43-.59-.52 0-1.04.2-1.43.59L10.3 9.45l-7.72 7.72c-.78.78-.78 2.05 0 2.83L4 21.41c.39.39.9.59 1.41.59.51 0 1.02-.2 1.41-.59l7.78-7.78 2.81-2.81c.8-.78.8-2.07 0-2.86zM5.41 20L4 18.59l7.72-7.72 1.47 1.35L5.41 20z\"/>\n",
       "  </svg>\n",
       "      </button>\n",
       "      \n",
       "  <style>\n",
       "    .colab-df-container {\n",
       "      display:flex;\n",
       "      flex-wrap:wrap;\n",
       "      gap: 12px;\n",
       "    }\n",
       "\n",
       "    .colab-df-convert {\n",
       "      background-color: #E8F0FE;\n",
       "      border: none;\n",
       "      border-radius: 50%;\n",
       "      cursor: pointer;\n",
       "      display: none;\n",
       "      fill: #1967D2;\n",
       "      height: 32px;\n",
       "      padding: 0 0 0 0;\n",
       "      width: 32px;\n",
       "    }\n",
       "\n",
       "    .colab-df-convert:hover {\n",
       "      background-color: #E2EBFA;\n",
       "      box-shadow: 0px 1px 2px rgba(60, 64, 67, 0.3), 0px 1px 3px 1px rgba(60, 64, 67, 0.15);\n",
       "      fill: #174EA6;\n",
       "    }\n",
       "\n",
       "    [theme=dark] .colab-df-convert {\n",
       "      background-color: #3B4455;\n",
       "      fill: #D2E3FC;\n",
       "    }\n",
       "\n",
       "    [theme=dark] .colab-df-convert:hover {\n",
       "      background-color: #434B5C;\n",
       "      box-shadow: 0px 1px 3px 1px rgba(0, 0, 0, 0.15);\n",
       "      filter: drop-shadow(0px 1px 2px rgba(0, 0, 0, 0.3));\n",
       "      fill: #FFFFFF;\n",
       "    }\n",
       "  </style>\n",
       "\n",
       "      <script>\n",
       "        const buttonEl =\n",
       "          document.querySelector('#df-c8287b83-4f1d-4d92-a89f-8d659ac2fe97 button.colab-df-convert');\n",
       "        buttonEl.style.display =\n",
       "          google.colab.kernel.accessAllowed ? 'block' : 'none';\n",
       "\n",
       "        async function convertToInteractive(key) {\n",
       "          const element = document.querySelector('#df-c8287b83-4f1d-4d92-a89f-8d659ac2fe97');\n",
       "          const dataTable =\n",
       "            await google.colab.kernel.invokeFunction('convertToInteractive',\n",
       "                                                     [key], {});\n",
       "          if (!dataTable) return;\n",
       "\n",
       "          const docLinkHtml = 'Like what you see? Visit the ' +\n",
       "            '<a target=\"_blank\" href=https://colab.research.google.com/notebooks/data_table.ipynb>data table notebook</a>'\n",
       "            + ' to learn more about interactive tables.';\n",
       "          element.innerHTML = '';\n",
       "          dataTable['output_type'] = 'display_data';\n",
       "          await google.colab.output.renderOutput(dataTable, element);\n",
       "          const docLink = document.createElement('div');\n",
       "          docLink.innerHTML = docLinkHtml;\n",
       "          element.appendChild(docLink);\n",
       "        }\n",
       "      </script>\n",
       "    </div>\n",
       "  </div>\n",
       "  "
      ],
      "text/plain": [
       "       model accuracy precision recall roc_auc f1_macro\n",
       "0  pipe_LGBM    96.95     96.98  96.74    99.6    96.95"
      ]
     },
     "execution_count": 18,
     "metadata": {},
     "output_type": "execute_result"
    }
   ],
   "source": [
    "judge.get_final_performance(4,4)"
   ]
  },
  {
   "cell_type": "markdown",
   "metadata": {
    "id": "uMwcuoJQeKBL"
   },
   "source": [
    "Results seems to be best for LGBM with 5000 estimators. Let's look for others models."
   ]
  },
  {
   "cell_type": "code",
   "execution_count": null,
   "metadata": {
    "id": "6yV1ZbtvGBbt"
   },
   "outputs": [],
   "source": [
    "Results_dataframe_2 = pd.DataFrame.from_dict(cvl)"
   ]
  },
  {
   "cell_type": "code",
   "execution_count": null,
   "metadata": {
    "id": "19a3Uw-jHRV-"
   },
   "outputs": [],
   "source": [
    "Results_dataframe_2.to_csv('drive/MyDrive/Colab Notebooks/Kaggle_competition_may/results_2.csv',index=False)\n"
   ]
  },
  {
   "cell_type": "code",
   "execution_count": null,
   "metadata": {
    "colab": {
     "base_uri": "https://localhost:8080/",
     "height": 300
    },
    "executionInfo": {
     "elapsed": 263,
     "status": "ok",
     "timestamp": 1654940374464,
     "user": {
      "displayName": "Antonio Di Vicino",
      "userId": "06829904169852245190"
     },
     "user_tz": -120
    },
    "id": "UpsaB3Y4If_9",
    "outputId": "c93abf45-8d93-4715-8566-b5629dca1949"
   },
   "outputs": [
    {
     "data": {
      "text/html": [
       "\n",
       "  <div id=\"df-0de4f741-bc74-41e4-82f9-3b82762157e8\">\n",
       "    <div class=\"colab-df-container\">\n",
       "      <div>\n",
       "<style scoped>\n",
       "    .dataframe tbody tr th:only-of-type {\n",
       "        vertical-align: middle;\n",
       "    }\n",
       "\n",
       "    .dataframe tbody tr th {\n",
       "        vertical-align: top;\n",
       "    }\n",
       "\n",
       "    .dataframe thead th {\n",
       "        text-align: right;\n",
       "    }\n",
       "</style>\n",
       "<table border=\"1\" class=\"dataframe\">\n",
       "  <thead>\n",
       "    <tr style=\"text-align: right;\">\n",
       "      <th></th>\n",
       "      <th>id</th>\n",
       "      <th>f_00</th>\n",
       "      <th>f_01</th>\n",
       "      <th>f_02</th>\n",
       "      <th>f_03</th>\n",
       "      <th>f_04</th>\n",
       "      <th>f_05</th>\n",
       "      <th>f_06</th>\n",
       "      <th>f_07</th>\n",
       "      <th>f_08</th>\n",
       "      <th>...</th>\n",
       "      <th>f_21</th>\n",
       "      <th>f_22</th>\n",
       "      <th>f_23</th>\n",
       "      <th>f_24</th>\n",
       "      <th>f_25</th>\n",
       "      <th>f_26</th>\n",
       "      <th>f_27</th>\n",
       "      <th>f_28</th>\n",
       "      <th>f_29</th>\n",
       "      <th>f_30</th>\n",
       "    </tr>\n",
       "  </thead>\n",
       "  <tbody>\n",
       "    <tr>\n",
       "      <th>0</th>\n",
       "      <td>0</td>\n",
       "      <td>-1.373246</td>\n",
       "      <td>0.238887</td>\n",
       "      <td>-0.243376</td>\n",
       "      <td>0.567405</td>\n",
       "      <td>-0.647715</td>\n",
       "      <td>0.839326</td>\n",
       "      <td>0.113133</td>\n",
       "      <td>1</td>\n",
       "      <td>5</td>\n",
       "      <td>...</td>\n",
       "      <td>3.058541</td>\n",
       "      <td>-2.540739</td>\n",
       "      <td>0.766952</td>\n",
       "      <td>-2.730628</td>\n",
       "      <td>-0.208177</td>\n",
       "      <td>1.363402</td>\n",
       "      <td>ABABDADBAB</td>\n",
       "      <td>67.609153</td>\n",
       "      <td>0</td>\n",
       "      <td>0</td>\n",
       "    </tr>\n",
       "    <tr>\n",
       "      <th>1</th>\n",
       "      <td>1</td>\n",
       "      <td>1.697021</td>\n",
       "      <td>-1.710322</td>\n",
       "      <td>-2.230332</td>\n",
       "      <td>-0.545661</td>\n",
       "      <td>1.113173</td>\n",
       "      <td>-1.552175</td>\n",
       "      <td>0.447825</td>\n",
       "      <td>1</td>\n",
       "      <td>3</td>\n",
       "      <td>...</td>\n",
       "      <td>2.179050</td>\n",
       "      <td>2.278315</td>\n",
       "      <td>-0.633658</td>\n",
       "      <td>-1.217077</td>\n",
       "      <td>-3.782194</td>\n",
       "      <td>-0.058316</td>\n",
       "      <td>ACACCADCEB</td>\n",
       "      <td>377.096415</td>\n",
       "      <td>0</td>\n",
       "      <td>0</td>\n",
       "    </tr>\n",
       "    <tr>\n",
       "      <th>2</th>\n",
       "      <td>2</td>\n",
       "      <td>1.681726</td>\n",
       "      <td>0.616746</td>\n",
       "      <td>-1.027689</td>\n",
       "      <td>0.810492</td>\n",
       "      <td>-0.609086</td>\n",
       "      <td>0.113965</td>\n",
       "      <td>-0.708660</td>\n",
       "      <td>1</td>\n",
       "      <td>0</td>\n",
       "      <td>...</td>\n",
       "      <td>-0.784235</td>\n",
       "      <td>-1.385775</td>\n",
       "      <td>-0.520558</td>\n",
       "      <td>-0.009121</td>\n",
       "      <td>2.788536</td>\n",
       "      <td>-3.703488</td>\n",
       "      <td>AAAEABCKAD</td>\n",
       "      <td>-195.599702</td>\n",
       "      <td>0</td>\n",
       "      <td>2</td>\n",
       "    </tr>\n",
       "    <tr>\n",
       "      <th>3</th>\n",
       "      <td>3</td>\n",
       "      <td>-0.118172</td>\n",
       "      <td>-0.587835</td>\n",
       "      <td>-0.804638</td>\n",
       "      <td>2.086822</td>\n",
       "      <td>0.371005</td>\n",
       "      <td>-0.128831</td>\n",
       "      <td>-0.282575</td>\n",
       "      <td>3</td>\n",
       "      <td>2</td>\n",
       "      <td>...</td>\n",
       "      <td>-2.343819</td>\n",
       "      <td>0.572594</td>\n",
       "      <td>-1.653213</td>\n",
       "      <td>1.686035</td>\n",
       "      <td>-2.533098</td>\n",
       "      <td>-0.608601</td>\n",
       "      <td>BDBBAACBCB</td>\n",
       "      <td>210.826205</td>\n",
       "      <td>0</td>\n",
       "      <td>0</td>\n",
       "    </tr>\n",
       "    <tr>\n",
       "      <th>4</th>\n",
       "      <td>4</td>\n",
       "      <td>1.148481</td>\n",
       "      <td>-0.176567</td>\n",
       "      <td>-0.664871</td>\n",
       "      <td>-1.101343</td>\n",
       "      <td>0.467875</td>\n",
       "      <td>0.500117</td>\n",
       "      <td>0.407515</td>\n",
       "      <td>3</td>\n",
       "      <td>3</td>\n",
       "      <td>...</td>\n",
       "      <td>1.133665</td>\n",
       "      <td>-3.912929</td>\n",
       "      <td>-1.430366</td>\n",
       "      <td>2.127649</td>\n",
       "      <td>-3.306784</td>\n",
       "      <td>4.371371</td>\n",
       "      <td>BDBCBBCHFE</td>\n",
       "      <td>-217.211798</td>\n",
       "      <td>0</td>\n",
       "      <td>1</td>\n",
       "    </tr>\n",
       "  </tbody>\n",
       "</table>\n",
       "<p>5 rows × 32 columns</p>\n",
       "</div>\n",
       "      <button class=\"colab-df-convert\" onclick=\"convertToInteractive('df-0de4f741-bc74-41e4-82f9-3b82762157e8')\"\n",
       "              title=\"Convert this dataframe to an interactive table.\"\n",
       "              style=\"display:none;\">\n",
       "        \n",
       "  <svg xmlns=\"http://www.w3.org/2000/svg\" height=\"24px\"viewBox=\"0 0 24 24\"\n",
       "       width=\"24px\">\n",
       "    <path d=\"M0 0h24v24H0V0z\" fill=\"none\"/>\n",
       "    <path d=\"M18.56 5.44l.94 2.06.94-2.06 2.06-.94-2.06-.94-.94-2.06-.94 2.06-2.06.94zm-11 1L8.5 8.5l.94-2.06 2.06-.94-2.06-.94L8.5 2.5l-.94 2.06-2.06.94zm10 10l.94 2.06.94-2.06 2.06-.94-2.06-.94-.94-2.06-.94 2.06-2.06.94z\"/><path d=\"M17.41 7.96l-1.37-1.37c-.4-.4-.92-.59-1.43-.59-.52 0-1.04.2-1.43.59L10.3 9.45l-7.72 7.72c-.78.78-.78 2.05 0 2.83L4 21.41c.39.39.9.59 1.41.59.51 0 1.02-.2 1.41-.59l7.78-7.78 2.81-2.81c.8-.78.8-2.07 0-2.86zM5.41 20L4 18.59l7.72-7.72 1.47 1.35L5.41 20z\"/>\n",
       "  </svg>\n",
       "      </button>\n",
       "      \n",
       "  <style>\n",
       "    .colab-df-container {\n",
       "      display:flex;\n",
       "      flex-wrap:wrap;\n",
       "      gap: 12px;\n",
       "    }\n",
       "\n",
       "    .colab-df-convert {\n",
       "      background-color: #E8F0FE;\n",
       "      border: none;\n",
       "      border-radius: 50%;\n",
       "      cursor: pointer;\n",
       "      display: none;\n",
       "      fill: #1967D2;\n",
       "      height: 32px;\n",
       "      padding: 0 0 0 0;\n",
       "      width: 32px;\n",
       "    }\n",
       "\n",
       "    .colab-df-convert:hover {\n",
       "      background-color: #E2EBFA;\n",
       "      box-shadow: 0px 1px 2px rgba(60, 64, 67, 0.3), 0px 1px 3px 1px rgba(60, 64, 67, 0.15);\n",
       "      fill: #174EA6;\n",
       "    }\n",
       "\n",
       "    [theme=dark] .colab-df-convert {\n",
       "      background-color: #3B4455;\n",
       "      fill: #D2E3FC;\n",
       "    }\n",
       "\n",
       "    [theme=dark] .colab-df-convert:hover {\n",
       "      background-color: #434B5C;\n",
       "      box-shadow: 0px 1px 3px 1px rgba(0, 0, 0, 0.15);\n",
       "      filter: drop-shadow(0px 1px 2px rgba(0, 0, 0, 0.3));\n",
       "      fill: #FFFFFF;\n",
       "    }\n",
       "  </style>\n",
       "\n",
       "      <script>\n",
       "        const buttonEl =\n",
       "          document.querySelector('#df-0de4f741-bc74-41e4-82f9-3b82762157e8 button.colab-df-convert');\n",
       "        buttonEl.style.display =\n",
       "          google.colab.kernel.accessAllowed ? 'block' : 'none';\n",
       "\n",
       "        async function convertToInteractive(key) {\n",
       "          const element = document.querySelector('#df-0de4f741-bc74-41e4-82f9-3b82762157e8');\n",
       "          const dataTable =\n",
       "            await google.colab.kernel.invokeFunction('convertToInteractive',\n",
       "                                                     [key], {});\n",
       "          if (!dataTable) return;\n",
       "\n",
       "          const docLinkHtml = 'Like what you see? Visit the ' +\n",
       "            '<a target=\"_blank\" href=https://colab.research.google.com/notebooks/data_table.ipynb>data table notebook</a>'\n",
       "            + ' to learn more about interactive tables.';\n",
       "          element.innerHTML = '';\n",
       "          dataTable['output_type'] = 'display_data';\n",
       "          await google.colab.output.renderOutput(dataTable, element);\n",
       "          const docLink = document.createElement('div');\n",
       "          docLink.innerHTML = docLinkHtml;\n",
       "          element.appendChild(docLink);\n",
       "        }\n",
       "      </script>\n",
       "    </div>\n",
       "  </div>\n",
       "  "
      ],
      "text/plain": [
       "   id      f_00      f_01      f_02      f_03      f_04      f_05      f_06  \\\n",
       "0   0 -1.373246  0.238887 -0.243376  0.567405 -0.647715  0.839326  0.113133   \n",
       "1   1  1.697021 -1.710322 -2.230332 -0.545661  1.113173 -1.552175  0.447825   \n",
       "2   2  1.681726  0.616746 -1.027689  0.810492 -0.609086  0.113965 -0.708660   \n",
       "3   3 -0.118172 -0.587835 -0.804638  2.086822  0.371005 -0.128831 -0.282575   \n",
       "4   4  1.148481 -0.176567 -0.664871 -1.101343  0.467875  0.500117  0.407515   \n",
       "\n",
       "   f_07  f_08  ...      f_21      f_22      f_23      f_24      f_25  \\\n",
       "0     1     5  ...  3.058541 -2.540739  0.766952 -2.730628 -0.208177   \n",
       "1     1     3  ...  2.179050  2.278315 -0.633658 -1.217077 -3.782194   \n",
       "2     1     0  ... -0.784235 -1.385775 -0.520558 -0.009121  2.788536   \n",
       "3     3     2  ... -2.343819  0.572594 -1.653213  1.686035 -2.533098   \n",
       "4     3     3  ...  1.133665 -3.912929 -1.430366  2.127649 -3.306784   \n",
       "\n",
       "       f_26        f_27        f_28  f_29  f_30  \n",
       "0  1.363402  ABABDADBAB   67.609153     0     0  \n",
       "1 -0.058316  ACACCADCEB  377.096415     0     0  \n",
       "2 -3.703488  AAAEABCKAD -195.599702     0     2  \n",
       "3 -0.608601  BDBBAACBCB  210.826205     0     0  \n",
       "4  4.371371  BDBCBBCHFE -217.211798     0     1  \n",
       "\n",
       "[5 rows x 32 columns]"
      ]
     },
     "execution_count": 25,
     "metadata": {},
     "output_type": "execute_result"
    }
   ],
   "source": [
    "X.head(5)"
   ]
  },
  {
   "cell_type": "code",
   "execution_count": null,
   "metadata": {
    "colab": {
     "base_uri": "https://localhost:8080/",
     "height": 329
    },
    "executionInfo": {
     "elapsed": 25683,
     "status": "ok",
     "timestamp": 1655052336716,
     "user": {
      "displayName": "Antonio Di Vicino",
      "userId": "06829904169852245190"
     },
     "user_tz": -120
    },
    "id": "DQ6zScy8zcht",
    "outputId": "e18ae646-5ddb-4c56-df7d-d55838407e2b"
   },
   "outputs": [
    {
     "name": "stdout",
     "output_type": "stream",
     "text": [
      "Looking in indexes: https://pypi.org/simple, https://us-python.pkg.dev/colab-wheels/public/simple/\n",
      "Requirement already satisfied: xgboost in /usr/local/lib/python3.7/dist-packages (0.90)\n",
      "Collecting xgboost\n",
      "  Downloading xgboost-1.6.1-py3-none-manylinux2014_x86_64.whl (192.9 MB)\n",
      "\u001b[K     |████████████████████████████████| 192.9 MB 59 kB/s \n",
      "\u001b[?25hRequirement already satisfied: scipy in /usr/local/lib/python3.7/dist-packages (from xgboost) (1.4.1)\n",
      "Requirement already satisfied: numpy in /usr/local/lib/python3.7/dist-packages (from xgboost) (1.21.6)\n",
      "Installing collected packages: xgboost\n",
      "  Attempting uninstall: xgboost\n",
      "    Found existing installation: xgboost 0.90\n",
      "    Uninstalling xgboost-0.90:\n",
      "      Successfully uninstalled xgboost-0.90\n",
      "Successfully installed xgboost-1.6.1\n"
     ]
    },
    {
     "data": {
      "application/vnd.colab-display-data+json": {
       "pip_warning": {
        "packages": [
         "xgboost"
        ]
       }
      }
     },
     "metadata": {},
     "output_type": "display_data"
    }
   ],
   "source": [
    "pip install xgboost --upgrade"
   ]
  },
  {
   "cell_type": "code",
   "execution_count": null,
   "metadata": {
    "id": "EEwybwIYHIb-"
   },
   "outputs": [],
   "source": [
    "# Pipe parameters for Judge\n",
    "\n",
    "\n",
    "pipe_names = np.array([\n",
    "    \"pipe_lr\",\n",
    "    \"pipe_dt\",\n",
    "    \"pipe_ada\",\n",
    "    \"pipe_XGB\",\n",
    "    \"pipe LGBM\"\n",
    "])\n",
    "\n",
    "\n",
    "metrics = [\n",
    "    'accuracy',\n",
    "    'precision',\n",
    "    'recall',\n",
    "    'roc_auc',\n",
    "    'f1_macro'\n",
    "]\n",
    "\n",
    "params_pipe = {\n",
    "\n",
    "}"
   ]
  },
  {
   "cell_type": "code",
   "execution_count": null,
   "metadata": {
    "id": "mYP7FCWHGVak"
   },
   "outputs": [],
   "source": [
    "# Let's try different pipelines\n",
    "\n",
    "pipes = [Pipeline(steps= [\n",
    "    (\"es\", Encoding_Strategy_string(column=\"f_27\")),\n",
    "    (\"interaction\", Exploiting_found_interactions()),\n",
    "    (\"norm\", StandardScaler()),\n",
    "    (\"clf_1\", LogisticRegression(solver=\"liblinear\"))\n",
    "],verbose=True),\n",
    "\n",
    "Pipeline(steps= [\n",
    "    (\"es\", Encoding_Strategy_string(column=\"f_27\")),\n",
    "    (\"interaction\", Exploiting_found_interactions()),\n",
    "    (\"norm\", StandardScaler()),\n",
    "    (\"clf_2\", DecisionTreeClassifier())\n",
    "],verbose=True),\n",
    "\n",
    "\n",
    "Pipeline(steps= [\n",
    "    (\"es\", Encoding_Strategy_string(column=\"f_27\")),\n",
    "    (\"interaction\", Exploiting_found_interactions()),\n",
    "    (\"norm\", StandardScaler()),\n",
    "    (\"clf_3\", AdaBoostClassifier())\n",
    "],verbose=True),\n",
    "\n",
    "\n",
    "Pipeline(steps= [\n",
    "    (\"es\", Encoding_Strategy_string(column=\"f_27\")),\n",
    "    (\"interaction\", Exploiting_found_interactions()),\n",
    "    (\"norm\", StandardScaler()),\n",
    "    (\"clf_4\", XGBClassifier(use_label_encoder=False,eval_metric=\"logloss\"))\n",
    "],verbose=True),\n",
    "\n",
    "Pipeline(steps= [\n",
    "    (\"es\", Encoding_Strategy_string(column=\"f_27\")),\n",
    "    (\"interaction\", Exploiting_found_interactions()),\n",
    "    (\"norm\", StandardScaler()),\n",
    "    (\"clf_5\", LGBMClassifier(n_estimators=5000,min_child_samples=80))\n",
    "],verbose=True)]\n"
   ]
  },
  {
   "cell_type": "markdown",
   "metadata": {
    "id": "jAyHnDtwe5uQ"
   },
   "source": [
    "Let's upgrade algorithms"
   ]
  },
  {
   "cell_type": "code",
   "execution_count": null,
   "metadata": {
    "colab": {
     "base_uri": "https://localhost:8080/"
    },
    "executionInfo": {
     "elapsed": 8539,
     "status": "ok",
     "timestamp": 1655052345241,
     "user": {
      "displayName": "Antonio Di Vicino",
      "userId": "06829904169852245190"
     },
     "user_tz": -120
    },
    "id": "jGv5wGT4e87S",
    "outputId": "24885243-6237-4920-e592-fbf6915bb2c2"
   },
   "outputs": [
    {
     "name": "stdout",
     "output_type": "stream",
     "text": [
      "Looking in indexes: https://pypi.org/simple, https://us-python.pkg.dev/colab-wheels/public/simple/\n",
      "Collecting tree\n",
      "  Downloading Tree-0.2.4.tar.gz (6.5 kB)\n",
      "Requirement already satisfied: Pillow in /usr/local/lib/python3.7/dist-packages (from tree) (7.1.2)\n",
      "Collecting svgwrite\n",
      "  Downloading svgwrite-1.4.2-py3-none-any.whl (67 kB)\n",
      "\u001b[K     |████████████████████████████████| 67 kB 3.4 MB/s \n",
      "\u001b[?25hRequirement already satisfied: setuptools in /usr/local/lib/python3.7/dist-packages (from tree) (57.4.0)\n",
      "Requirement already satisfied: click in /usr/local/lib/python3.7/dist-packages (from tree) (7.1.2)\n",
      "Building wheels for collected packages: tree\n",
      "  Building wheel for tree (setup.py) ... \u001b[?25l\u001b[?25hdone\n",
      "  Created wheel for tree: filename=Tree-0.2.4-py3-none-any.whl size=7873 sha256=e060e6e97a5c94d7ae73833ba04803463d989a37626f4f13a92bc79cb94ab636\n",
      "  Stored in directory: /root/.cache/pip/wheels/64/46/53/3a413f321c09b0df8d4a26edd5fc3501c6c1b238497d166638\n",
      "Successfully built tree\n",
      "Installing collected packages: svgwrite, tree\n",
      "Successfully installed svgwrite-1.4.2 tree-0.2.4\n"
     ]
    }
   ],
   "source": [
    "pip install tree --upgrade "
   ]
  },
  {
   "cell_type": "code",
   "execution_count": null,
   "metadata": {
    "colab": {
     "base_uri": "https://localhost:8080/"
    },
    "executionInfo": {
     "elapsed": 4871,
     "status": "ok",
     "timestamp": 1655052350101,
     "user": {
      "displayName": "Antonio Di Vicino",
      "userId": "06829904169852245190"
     },
     "user_tz": -120
    },
    "id": "8LZmvcVRfId2",
    "outputId": "3580fb7f-eb6c-4396-eb0c-62bf307c664d"
   },
   "outputs": [
    {
     "name": "stdout",
     "output_type": "stream",
     "text": [
      "Looking in indexes: https://pypi.org/simple, https://us-python.pkg.dev/colab-wheels/public/simple/\n",
      "Requirement already satisfied: sklearn in /usr/local/lib/python3.7/dist-packages (0.0)\n",
      "Requirement already satisfied: scikit-learn in /usr/local/lib/python3.7/dist-packages (from sklearn) (1.0.2)\n",
      "Requirement already satisfied: numpy>=1.14.6 in /usr/local/lib/python3.7/dist-packages (from scikit-learn->sklearn) (1.21.6)\n",
      "Requirement already satisfied: threadpoolctl>=2.0.0 in /usr/local/lib/python3.7/dist-packages (from scikit-learn->sklearn) (3.1.0)\n",
      "Requirement already satisfied: joblib>=0.11 in /usr/local/lib/python3.7/dist-packages (from scikit-learn->sklearn) (1.1.0)\n",
      "Requirement already satisfied: scipy>=1.1.0 in /usr/local/lib/python3.7/dist-packages (from scikit-learn->sklearn) (1.4.1)\n"
     ]
    }
   ],
   "source": [
    "pip install sklearn --upgrade"
   ]
  },
  {
   "cell_type": "markdown",
   "metadata": {
    "id": "uP6x0IDcfuXA"
   },
   "source": [
    "Since in crossvalidation metrics seem not to vary much, we could set number of crossvalidation to 3 in order to decrease computational time"
   ]
  },
  {
   "cell_type": "code",
   "execution_count": null,
   "metadata": {
    "id": "uO4DgoyGH7L8"
   },
   "outputs": [],
   "source": [
    "judge = Judge(\"machine_analysis\")"
   ]
  },
  {
   "cell_type": "code",
   "execution_count": null,
   "metadata": {
    "colab": {
     "base_uri": "https://localhost:8080/"
    },
    "executionInfo": {
     "elapsed": 9,
     "status": "ok",
     "timestamp": 1655052401490,
     "user": {
      "displayName": "Antonio Di Vicino",
      "userId": "06829904169852245190"
     },
     "user_tz": -120
    },
    "id": "aivXxOHMIrJn",
    "outputId": "4c06381d-2e7a-48d9-db4c-5f62749a7509"
   },
   "outputs": [
    {
     "data": {
      "text/plain": [
       "<Judge_pipelines.Judge at 0x7fbbbcb8b710>"
      ]
     },
     "execution_count": 16,
     "metadata": {},
     "output_type": "execute_result"
    }
   ],
   "source": [
    "judge.set_data(X,y).set_params(params_pipe).set_metrics(metrics).set_pipes_and_names(pipes,pipe_names)"
   ]
  },
  {
   "cell_type": "code",
   "execution_count": null,
   "metadata": {
    "colab": {
     "base_uri": "https://localhost:8080/"
    },
    "executionInfo": {
     "elapsed": 4517383,
     "status": "ok",
     "timestamp": 1655056920291,
     "user": {
      "displayName": "Antonio Di Vicino",
      "userId": "06829904169852245190"
     },
     "user_tz": -120
    },
    "id": "qCfWWmzEJZ7f",
    "outputId": "68964b7f-2106-4e4c-d625-300296243683"
   },
   "outputs": [
    {
     "name": "stdout",
     "output_type": "stream",
     "text": [
      "[Pipeline] ................ (step 1 of 4) Processing es, total=  20.7s\n",
      "[Pipeline] ....... (step 2 of 4) Processing interaction, total=   0.2s\n",
      "[Pipeline] .............. (step 3 of 4) Processing norm, total=   1.1s\n",
      "[Pipeline] ............. (step 4 of 4) Processing clf_1, total=   5.8s\n",
      "[Pipeline] ................ (step 1 of 4) Processing es, total=  11.8s\n",
      "[Pipeline] ....... (step 2 of 4) Processing interaction, total=   0.1s\n",
      "[Pipeline] .............. (step 3 of 4) Processing norm, total=   0.5s\n",
      "[Pipeline] ............. (step 4 of 4) Processing clf_1, total=   5.3s\n",
      "[Pipeline] ................ (step 1 of 4) Processing es, total=  13.2s\n",
      "[Pipeline] ....... (step 2 of 4) Processing interaction, total=   0.1s\n",
      "[Pipeline] .............. (step 3 of 4) Processing norm, total=   0.5s\n",
      "[Pipeline] ............. (step 4 of 4) Processing clf_1, total=   5.4s\n",
      "[Pipeline] ................ (step 1 of 4) Processing es, total=  11.8s\n",
      "[Pipeline] ....... (step 2 of 4) Processing interaction, total=   0.1s\n",
      "[Pipeline] .............. (step 3 of 4) Processing norm, total=   0.5s\n",
      "[Pipeline] ............. (step 4 of 4) Processing clf_2, total=  59.4s\n",
      "[Pipeline] ................ (step 1 of 4) Processing es, total=  11.7s\n",
      "[Pipeline] ....... (step 2 of 4) Processing interaction, total=   0.1s\n",
      "[Pipeline] .............. (step 3 of 4) Processing norm, total=   0.5s\n",
      "[Pipeline] ............. (step 4 of 4) Processing clf_2, total=  58.2s\n",
      "[Pipeline] ................ (step 1 of 4) Processing es, total=  11.8s\n",
      "[Pipeline] ....... (step 2 of 4) Processing interaction, total=   0.1s\n",
      "[Pipeline] .............. (step 3 of 4) Processing norm, total=   0.5s\n",
      "[Pipeline] ............. (step 4 of 4) Processing clf_2, total=  58.9s\n",
      "[Pipeline] ................ (step 1 of 4) Processing es, total=  11.8s\n",
      "[Pipeline] ....... (step 2 of 4) Processing interaction, total=   0.1s\n",
      "[Pipeline] .............. (step 3 of 4) Processing norm, total=   0.5s\n",
      "[Pipeline] ............. (step 4 of 4) Processing clf_3, total= 3.5min\n",
      "[Pipeline] ................ (step 1 of 4) Processing es, total=  11.7s\n",
      "[Pipeline] ....... (step 2 of 4) Processing interaction, total=   0.1s\n",
      "[Pipeline] .............. (step 3 of 4) Processing norm, total=   0.5s\n",
      "[Pipeline] ............. (step 4 of 4) Processing clf_3, total= 3.3min\n",
      "[Pipeline] ................ (step 1 of 4) Processing es, total=  11.7s\n",
      "[Pipeline] ....... (step 2 of 4) Processing interaction, total=   0.1s\n",
      "[Pipeline] .............. (step 3 of 4) Processing norm, total=   0.5s\n",
      "[Pipeline] ............. (step 4 of 4) Processing clf_3, total= 3.3min\n",
      "[Pipeline] ................ (step 1 of 4) Processing es, total=  11.9s\n",
      "[Pipeline] ....... (step 2 of 4) Processing interaction, total=   0.1s\n",
      "[Pipeline] .............. (step 3 of 4) Processing norm, total=   0.7s\n",
      "[Pipeline] ............. (step 4 of 4) Processing clf_4, total= 5.8min\n",
      "[Pipeline] ................ (step 1 of 4) Processing es, total=  11.7s\n",
      "[Pipeline] ....... (step 2 of 4) Processing interaction, total=   0.1s\n",
      "[Pipeline] .............. (step 3 of 4) Processing norm, total=   0.5s\n",
      "[Pipeline] ............. (step 4 of 4) Processing clf_4, total= 6.1min\n",
      "[Pipeline] ................ (step 1 of 4) Processing es, total=  14.0s\n",
      "[Pipeline] ....... (step 2 of 4) Processing interaction, total=   0.1s\n",
      "[Pipeline] .............. (step 3 of 4) Processing norm, total=   0.8s\n",
      "[Pipeline] ............. (step 4 of 4) Processing clf_4, total= 6.0min\n",
      "[Pipeline] ................ (step 1 of 4) Processing es, total=  11.8s\n",
      "[Pipeline] ....... (step 2 of 4) Processing interaction, total=   0.1s\n",
      "[Pipeline] .............. (step 3 of 4) Processing norm, total=   0.6s\n",
      "[Pipeline] ............. (step 4 of 4) Processing clf_5, total= 9.8min\n",
      "[Pipeline] ................ (step 1 of 4) Processing es, total=  11.7s\n",
      "[Pipeline] ....... (step 2 of 4) Processing interaction, total=   0.1s\n",
      "[Pipeline] .............. (step 3 of 4) Processing norm, total=   0.6s\n",
      "[Pipeline] ............. (step 4 of 4) Processing clf_5, total= 9.8min\n",
      "[Pipeline] ................ (step 1 of 4) Processing es, total=  11.8s\n",
      "[Pipeline] ....... (step 2 of 4) Processing interaction, total=   0.1s\n",
      "[Pipeline] .............. (step 3 of 4) Processing norm, total=   0.5s\n",
      "[Pipeline] ............. (step 4 of 4) Processing clf_5, total=10.1min\n"
     ]
    }
   ],
   "source": [
    "final_tab = judge.get_final_performance(3,3)\n"
   ]
  },
  {
   "cell_type": "code",
   "execution_count": null,
   "metadata": {
    "colab": {
     "base_uri": "https://localhost:8080/",
     "height": 206
    },
    "executionInfo": {
     "elapsed": 376,
     "status": "ok",
     "timestamp": 1655057181149,
     "user": {
      "displayName": "Antonio Di Vicino",
      "userId": "06829904169852245190"
     },
     "user_tz": -120
    },
    "id": "hLbP7FybuTD3",
    "outputId": "05192be6-bd2b-49f1-b15c-8d0784e47dac"
   },
   "outputs": [
    {
     "data": {
      "text/html": [
       "\n",
       "  <div id=\"df-62d0f8d6-8e86-488f-a23c-94b0afc92b73\">\n",
       "    <div class=\"colab-df-container\">\n",
       "      <div>\n",
       "<style scoped>\n",
       "    .dataframe tbody tr th:only-of-type {\n",
       "        vertical-align: middle;\n",
       "    }\n",
       "\n",
       "    .dataframe tbody tr th {\n",
       "        vertical-align: top;\n",
       "    }\n",
       "\n",
       "    .dataframe thead th {\n",
       "        text-align: right;\n",
       "    }\n",
       "</style>\n",
       "<table border=\"1\" class=\"dataframe\">\n",
       "  <thead>\n",
       "    <tr style=\"text-align: right;\">\n",
       "      <th></th>\n",
       "      <th>model</th>\n",
       "      <th>accuracy</th>\n",
       "      <th>precision</th>\n",
       "      <th>recall</th>\n",
       "      <th>roc_auc</th>\n",
       "      <th>f1_macro</th>\n",
       "    </tr>\n",
       "  </thead>\n",
       "  <tbody>\n",
       "    <tr>\n",
       "      <th>0</th>\n",
       "      <td>pipe_lr</td>\n",
       "      <td>73.97</td>\n",
       "      <td>73.84</td>\n",
       "      <td>72.0</td>\n",
       "      <td>81.83</td>\n",
       "      <td>73.93</td>\n",
       "    </tr>\n",
       "    <tr>\n",
       "      <th>1</th>\n",
       "      <td>pipe_dt</td>\n",
       "      <td>81.64</td>\n",
       "      <td>81.09</td>\n",
       "      <td>81.2</td>\n",
       "      <td>81.63</td>\n",
       "      <td>81.63</td>\n",
       "    </tr>\n",
       "    <tr>\n",
       "      <th>2</th>\n",
       "      <td>pipe_ada</td>\n",
       "      <td>75.79</td>\n",
       "      <td>75.83</td>\n",
       "      <td>73.74</td>\n",
       "      <td>83.61</td>\n",
       "      <td>75.75</td>\n",
       "    </tr>\n",
       "    <tr>\n",
       "      <th>3</th>\n",
       "      <td>pipe_XGB</td>\n",
       "      <td>94.36</td>\n",
       "      <td>94.53</td>\n",
       "      <td>93.83</td>\n",
       "      <td>98.74</td>\n",
       "      <td>94.35</td>\n",
       "    </tr>\n",
       "    <tr>\n",
       "      <th>4</th>\n",
       "      <td>pipe LGBM</td>\n",
       "      <td>96.91</td>\n",
       "      <td>96.95</td>\n",
       "      <td>96.68</td>\n",
       "      <td>99.59</td>\n",
       "      <td>96.91</td>\n",
       "    </tr>\n",
       "  </tbody>\n",
       "</table>\n",
       "</div>\n",
       "      <button class=\"colab-df-convert\" onclick=\"convertToInteractive('df-62d0f8d6-8e86-488f-a23c-94b0afc92b73')\"\n",
       "              title=\"Convert this dataframe to an interactive table.\"\n",
       "              style=\"display:none;\">\n",
       "        \n",
       "  <svg xmlns=\"http://www.w3.org/2000/svg\" height=\"24px\"viewBox=\"0 0 24 24\"\n",
       "       width=\"24px\">\n",
       "    <path d=\"M0 0h24v24H0V0z\" fill=\"none\"/>\n",
       "    <path d=\"M18.56 5.44l.94 2.06.94-2.06 2.06-.94-2.06-.94-.94-2.06-.94 2.06-2.06.94zm-11 1L8.5 8.5l.94-2.06 2.06-.94-2.06-.94L8.5 2.5l-.94 2.06-2.06.94zm10 10l.94 2.06.94-2.06 2.06-.94-2.06-.94-.94-2.06-.94 2.06-2.06.94z\"/><path d=\"M17.41 7.96l-1.37-1.37c-.4-.4-.92-.59-1.43-.59-.52 0-1.04.2-1.43.59L10.3 9.45l-7.72 7.72c-.78.78-.78 2.05 0 2.83L4 21.41c.39.39.9.59 1.41.59.51 0 1.02-.2 1.41-.59l7.78-7.78 2.81-2.81c.8-.78.8-2.07 0-2.86zM5.41 20L4 18.59l7.72-7.72 1.47 1.35L5.41 20z\"/>\n",
       "  </svg>\n",
       "      </button>\n",
       "      \n",
       "  <style>\n",
       "    .colab-df-container {\n",
       "      display:flex;\n",
       "      flex-wrap:wrap;\n",
       "      gap: 12px;\n",
       "    }\n",
       "\n",
       "    .colab-df-convert {\n",
       "      background-color: #E8F0FE;\n",
       "      border: none;\n",
       "      border-radius: 50%;\n",
       "      cursor: pointer;\n",
       "      display: none;\n",
       "      fill: #1967D2;\n",
       "      height: 32px;\n",
       "      padding: 0 0 0 0;\n",
       "      width: 32px;\n",
       "    }\n",
       "\n",
       "    .colab-df-convert:hover {\n",
       "      background-color: #E2EBFA;\n",
       "      box-shadow: 0px 1px 2px rgba(60, 64, 67, 0.3), 0px 1px 3px 1px rgba(60, 64, 67, 0.15);\n",
       "      fill: #174EA6;\n",
       "    }\n",
       "\n",
       "    [theme=dark] .colab-df-convert {\n",
       "      background-color: #3B4455;\n",
       "      fill: #D2E3FC;\n",
       "    }\n",
       "\n",
       "    [theme=dark] .colab-df-convert:hover {\n",
       "      background-color: #434B5C;\n",
       "      box-shadow: 0px 1px 3px 1px rgba(0, 0, 0, 0.15);\n",
       "      filter: drop-shadow(0px 1px 2px rgba(0, 0, 0, 0.3));\n",
       "      fill: #FFFFFF;\n",
       "    }\n",
       "  </style>\n",
       "\n",
       "      <script>\n",
       "        const buttonEl =\n",
       "          document.querySelector('#df-62d0f8d6-8e86-488f-a23c-94b0afc92b73 button.colab-df-convert');\n",
       "        buttonEl.style.display =\n",
       "          google.colab.kernel.accessAllowed ? 'block' : 'none';\n",
       "\n",
       "        async function convertToInteractive(key) {\n",
       "          const element = document.querySelector('#df-62d0f8d6-8e86-488f-a23c-94b0afc92b73');\n",
       "          const dataTable =\n",
       "            await google.colab.kernel.invokeFunction('convertToInteractive',\n",
       "                                                     [key], {});\n",
       "          if (!dataTable) return;\n",
       "\n",
       "          const docLinkHtml = 'Like what you see? Visit the ' +\n",
       "            '<a target=\"_blank\" href=https://colab.research.google.com/notebooks/data_table.ipynb>data table notebook</a>'\n",
       "            + ' to learn more about interactive tables.';\n",
       "          element.innerHTML = '';\n",
       "          dataTable['output_type'] = 'display_data';\n",
       "          await google.colab.output.renderOutput(dataTable, element);\n",
       "          const docLink = document.createElement('div');\n",
       "          docLink.innerHTML = docLinkHtml;\n",
       "          element.appendChild(docLink);\n",
       "        }\n",
       "      </script>\n",
       "    </div>\n",
       "  </div>\n",
       "  "
      ],
      "text/plain": [
       "       model accuracy precision recall roc_auc f1_macro\n",
       "0    pipe_lr    73.97     73.84   72.0   81.83    73.93\n",
       "1    pipe_dt    81.64     81.09   81.2   81.63    81.63\n",
       "2   pipe_ada    75.79     75.83  73.74   83.61    75.75\n",
       "3   pipe_XGB    94.36     94.53  93.83   98.74    94.35\n",
       "4  pipe LGBM    96.91     96.95  96.68   99.59    96.91"
      ]
     },
     "execution_count": 18,
     "metadata": {},
     "output_type": "execute_result"
    }
   ],
   "source": [
    "final_tab"
   ]
  },
  {
   "cell_type": "code",
   "execution_count": null,
   "metadata": {
    "id": "CMAD0v1cGOJ3"
   },
   "outputs": [],
   "source": [
    "# Let's save results \n",
    "Final_tab.to_csv('drive/MyDrive/Colab Notebooks/Kaggle_competition_may/final_tab.csv',index=False)"
   ]
  },
  {
   "cell_type": "code",
   "execution_count": null,
   "metadata": {
    "colab": {
     "base_uri": "https://localhost:8080/"
    },
    "executionInfo": {
     "elapsed": 911274,
     "status": "ok",
     "timestamp": 1655060108105,
     "user": {
      "displayName": "Antonio Di Vicino",
      "userId": "06829904169852245190"
     },
     "user_tz": -120
    },
    "id": "TESSiT6ZujyE",
    "outputId": "3ed03889-71b3-4f6b-d080-d618d4e1244d"
   },
   "outputs": [
    {
     "name": "stdout",
     "output_type": "stream",
     "text": [
      "[Pipeline] ................ (step 1 of 4) Processing es, total=  32.3s\n",
      "[Pipeline] ....... (step 2 of 4) Processing interaction, total=   0.2s\n",
      "[Pipeline] .............. (step 3 of 4) Processing norm, total=   1.1s\n",
      "[Pipeline] ............. (step 4 of 4) Processing clf_5, total=14.6min\n"
     ]
    }
   ],
   "source": [
    "# At the end of the day, best model seems to be LGBM with 5000 estimators. Let's fit it. \n",
    "\n",
    "# Production model\n",
    "\n",
    "Production_pipe = Pipeline(steps= [\n",
    "    (\"es\", Encoding_Strategy_string(column=\"f_27\")),\n",
    "    (\"interaction\", Exploiting_found_interactions()),\n",
    "    (\"norm\", StandardScaler()),\n",
    "    (\"clf_5\", LGBMClassifier(n_estimators=5000,min_child_samples=80))\n",
    "],verbose=True)\n",
    "\n",
    "Production_Model = Production_pipe.fit(X,y)\n",
    "\n"
   ]
  },
  {
   "cell_type": "code",
   "execution_count": null,
   "metadata": {
    "id": "L56soTpBRmJT"
   },
   "outputs": [],
   "source": [
    "#let's load the test data\n",
    "test = pd.read_csv('drive/MyDrive/Colab Notebooks/Kaggle_competition_may/test.csv')"
   ]
  },
  {
   "cell_type": "code",
   "execution_count": null,
   "metadata": {
    "id": "eYj1wU6WR0EE"
   },
   "outputs": [],
   "source": [
    "# Let's make predictions\n",
    "ids = test['id']\n",
    "X_test = test.drop(columns='id')"
   ]
  },
  {
   "cell_type": "code",
   "execution_count": null,
   "metadata": {
    "id": "966oVdenSIP_"
   },
   "outputs": [],
   "source": [
    "predictions = Production_Model.predict(X_test)"
   ]
  },
  {
   "cell_type": "code",
   "execution_count": null,
   "metadata": {
    "id": "fZFm5EVAUuS6"
   },
   "outputs": [],
   "source": [
    "predictions_series = pd.Series(predictions)"
   ]
  },
  {
   "cell_type": "code",
   "execution_count": null,
   "metadata": {
    "id": "M8HB1vwsUXBn"
   },
   "outputs": [],
   "source": [
    "predictions_dataframe = pd.concat([ids,predictions_series],axis=1)"
   ]
  },
  {
   "cell_type": "code",
   "execution_count": null,
   "metadata": {
    "id": "1UbpxZ_GU4K-"
   },
   "outputs": [],
   "source": [
    "predictions_dataframe = predictions_dataframe.rename(columns={0:\"predictions\"})"
   ]
  },
  {
   "cell_type": "code",
   "execution_count": null,
   "metadata": {
    "colab": {
     "base_uri": "https://localhost:8080/",
     "height": 424
    },
    "executionInfo": {
     "elapsed": 345,
     "status": "ok",
     "timestamp": 1655061336198,
     "user": {
      "displayName": "Antonio Di Vicino",
      "userId": "06829904169852245190"
     },
     "user_tz": -120
    },
    "id": "QIbAX3wkV7vW",
    "outputId": "268e7bbe-84e9-4981-f05d-d401fea6b588"
   },
   "outputs": [
    {
     "data": {
      "text/html": [
       "\n",
       "  <div id=\"df-691cd3f8-70b3-421d-9132-8874ea701700\">\n",
       "    <div class=\"colab-df-container\">\n",
       "      <div>\n",
       "<style scoped>\n",
       "    .dataframe tbody tr th:only-of-type {\n",
       "        vertical-align: middle;\n",
       "    }\n",
       "\n",
       "    .dataframe tbody tr th {\n",
       "        vertical-align: top;\n",
       "    }\n",
       "\n",
       "    .dataframe thead th {\n",
       "        text-align: right;\n",
       "    }\n",
       "</style>\n",
       "<table border=\"1\" class=\"dataframe\">\n",
       "  <thead>\n",
       "    <tr style=\"text-align: right;\">\n",
       "      <th></th>\n",
       "      <th>id</th>\n",
       "      <th>predictions</th>\n",
       "    </tr>\n",
       "  </thead>\n",
       "  <tbody>\n",
       "    <tr>\n",
       "      <th>0</th>\n",
       "      <td>900000</td>\n",
       "      <td>1</td>\n",
       "    </tr>\n",
       "    <tr>\n",
       "      <th>1</th>\n",
       "      <td>900001</td>\n",
       "      <td>1</td>\n",
       "    </tr>\n",
       "    <tr>\n",
       "      <th>2</th>\n",
       "      <td>900002</td>\n",
       "      <td>0</td>\n",
       "    </tr>\n",
       "    <tr>\n",
       "      <th>3</th>\n",
       "      <td>900003</td>\n",
       "      <td>0</td>\n",
       "    </tr>\n",
       "    <tr>\n",
       "      <th>4</th>\n",
       "      <td>900004</td>\n",
       "      <td>1</td>\n",
       "    </tr>\n",
       "    <tr>\n",
       "      <th>...</th>\n",
       "      <td>...</td>\n",
       "      <td>...</td>\n",
       "    </tr>\n",
       "    <tr>\n",
       "      <th>699995</th>\n",
       "      <td>1599995</td>\n",
       "      <td>1</td>\n",
       "    </tr>\n",
       "    <tr>\n",
       "      <th>699996</th>\n",
       "      <td>1599996</td>\n",
       "      <td>1</td>\n",
       "    </tr>\n",
       "    <tr>\n",
       "      <th>699997</th>\n",
       "      <td>1599997</td>\n",
       "      <td>0</td>\n",
       "    </tr>\n",
       "    <tr>\n",
       "      <th>699998</th>\n",
       "      <td>1599998</td>\n",
       "      <td>0</td>\n",
       "    </tr>\n",
       "    <tr>\n",
       "      <th>699999</th>\n",
       "      <td>1599999</td>\n",
       "      <td>0</td>\n",
       "    </tr>\n",
       "  </tbody>\n",
       "</table>\n",
       "<p>700000 rows × 2 columns</p>\n",
       "</div>\n",
       "      <button class=\"colab-df-convert\" onclick=\"convertToInteractive('df-691cd3f8-70b3-421d-9132-8874ea701700')\"\n",
       "              title=\"Convert this dataframe to an interactive table.\"\n",
       "              style=\"display:none;\">\n",
       "        \n",
       "  <svg xmlns=\"http://www.w3.org/2000/svg\" height=\"24px\"viewBox=\"0 0 24 24\"\n",
       "       width=\"24px\">\n",
       "    <path d=\"M0 0h24v24H0V0z\" fill=\"none\"/>\n",
       "    <path d=\"M18.56 5.44l.94 2.06.94-2.06 2.06-.94-2.06-.94-.94-2.06-.94 2.06-2.06.94zm-11 1L8.5 8.5l.94-2.06 2.06-.94-2.06-.94L8.5 2.5l-.94 2.06-2.06.94zm10 10l.94 2.06.94-2.06 2.06-.94-2.06-.94-.94-2.06-.94 2.06-2.06.94z\"/><path d=\"M17.41 7.96l-1.37-1.37c-.4-.4-.92-.59-1.43-.59-.52 0-1.04.2-1.43.59L10.3 9.45l-7.72 7.72c-.78.78-.78 2.05 0 2.83L4 21.41c.39.39.9.59 1.41.59.51 0 1.02-.2 1.41-.59l7.78-7.78 2.81-2.81c.8-.78.8-2.07 0-2.86zM5.41 20L4 18.59l7.72-7.72 1.47 1.35L5.41 20z\"/>\n",
       "  </svg>\n",
       "      </button>\n",
       "      \n",
       "  <style>\n",
       "    .colab-df-container {\n",
       "      display:flex;\n",
       "      flex-wrap:wrap;\n",
       "      gap: 12px;\n",
       "    }\n",
       "\n",
       "    .colab-df-convert {\n",
       "      background-color: #E8F0FE;\n",
       "      border: none;\n",
       "      border-radius: 50%;\n",
       "      cursor: pointer;\n",
       "      display: none;\n",
       "      fill: #1967D2;\n",
       "      height: 32px;\n",
       "      padding: 0 0 0 0;\n",
       "      width: 32px;\n",
       "    }\n",
       "\n",
       "    .colab-df-convert:hover {\n",
       "      background-color: #E2EBFA;\n",
       "      box-shadow: 0px 1px 2px rgba(60, 64, 67, 0.3), 0px 1px 3px 1px rgba(60, 64, 67, 0.15);\n",
       "      fill: #174EA6;\n",
       "    }\n",
       "\n",
       "    [theme=dark] .colab-df-convert {\n",
       "      background-color: #3B4455;\n",
       "      fill: #D2E3FC;\n",
       "    }\n",
       "\n",
       "    [theme=dark] .colab-df-convert:hover {\n",
       "      background-color: #434B5C;\n",
       "      box-shadow: 0px 1px 3px 1px rgba(0, 0, 0, 0.15);\n",
       "      filter: drop-shadow(0px 1px 2px rgba(0, 0, 0, 0.3));\n",
       "      fill: #FFFFFF;\n",
       "    }\n",
       "  </style>\n",
       "\n",
       "      <script>\n",
       "        const buttonEl =\n",
       "          document.querySelector('#df-691cd3f8-70b3-421d-9132-8874ea701700 button.colab-df-convert');\n",
       "        buttonEl.style.display =\n",
       "          google.colab.kernel.accessAllowed ? 'block' : 'none';\n",
       "\n",
       "        async function convertToInteractive(key) {\n",
       "          const element = document.querySelector('#df-691cd3f8-70b3-421d-9132-8874ea701700');\n",
       "          const dataTable =\n",
       "            await google.colab.kernel.invokeFunction('convertToInteractive',\n",
       "                                                     [key], {});\n",
       "          if (!dataTable) return;\n",
       "\n",
       "          const docLinkHtml = 'Like what you see? Visit the ' +\n",
       "            '<a target=\"_blank\" href=https://colab.research.google.com/notebooks/data_table.ipynb>data table notebook</a>'\n",
       "            + ' to learn more about interactive tables.';\n",
       "          element.innerHTML = '';\n",
       "          dataTable['output_type'] = 'display_data';\n",
       "          await google.colab.output.renderOutput(dataTable, element);\n",
       "          const docLink = document.createElement('div');\n",
       "          docLink.innerHTML = docLinkHtml;\n",
       "          element.appendChild(docLink);\n",
       "        }\n",
       "      </script>\n",
       "    </div>\n",
       "  </div>\n",
       "  "
      ],
      "text/plain": [
       "             id  predictions\n",
       "0        900000            1\n",
       "1        900001            1\n",
       "2        900002            0\n",
       "3        900003            0\n",
       "4        900004            1\n",
       "...         ...          ...\n",
       "699995  1599995            1\n",
       "699996  1599996            1\n",
       "699997  1599997            0\n",
       "699998  1599998            0\n",
       "699999  1599999            0\n",
       "\n",
       "[700000 rows x 2 columns]"
      ]
     },
     "execution_count": 51,
     "metadata": {},
     "output_type": "execute_result"
    }
   ],
   "source": [
    "predictions_dataframe"
   ]
  },
  {
   "cell_type": "code",
   "execution_count": null,
   "metadata": {
    "id": "MKJsOP0WXjFh"
   },
   "outputs": [],
   "source": [
    "import sys\n",
    "sys.path.append('/content/drive/MyDrive/Colab Notebooks/Kaggle_competition_may')"
   ]
  },
  {
   "cell_type": "code",
   "execution_count": null,
   "metadata": {
    "id": "KkQAl486YH9g"
   },
   "outputs": [],
   "source": [
    "filepath = '/content/drive/MyDrive/Colab Notebooks/Kaggle_competition_may'"
   ]
  },
  {
   "cell_type": "code",
   "execution_count": null,
   "metadata": {
    "id": "mF0Dqt0MWLIl"
   },
   "outputs": [],
   "source": [
    "# Let's save the model and the dataframe\n",
    "import pickle\n",
    "\n",
    "with open(filepath + 'finalized_model.sav','wb') as f:\n",
    "  pickle.dump(Production_Model,f)"
   ]
  },
  {
   "cell_type": "code",
   "execution_count": null,
   "metadata": {
    "id": "Ij2viY2rWqoW"
   },
   "outputs": [],
   "source": [
    "predictions_dataframe.to_csv('drive/MyDrive/Colab Notebooks/Kaggle_competition_may/predictions_test.csv')"
   ]
  }
 ],
 "metadata": {
  "accelerator": "GPU",
  "colab": {
   "authorship_tag": "ABX9TyN3TnigAXPBEmqGV28fHPfW",
   "collapsed_sections": [],
   "name": "Kaggle_may_pipelines.ipynb",
   "provenance": []
  },
  "kernelspec": {
   "display_name": "Python 3 (ipykernel)",
   "language": "python",
   "name": "python3"
  },
  "language_info": {
   "codemirror_mode": {
    "name": "ipython",
    "version": 3
   },
   "file_extension": ".py",
   "mimetype": "text/x-python",
   "name": "python",
   "nbconvert_exporter": "python",
   "pygments_lexer": "ipython3",
   "version": "3.8.8"
  }
 },
 "nbformat": 4,
 "nbformat_minor": 1
}
